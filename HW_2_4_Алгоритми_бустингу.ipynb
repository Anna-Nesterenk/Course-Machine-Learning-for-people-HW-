{
 "cells": [
  {
   "cell_type": "markdown",
   "metadata": {
    "id": "fDefDHQt8LXC"
   },
   "source": [
    "В цьому домашньому завданні ми знову працюємо з даними з нашого змагання [\"Bank Customer Churn Prediction (DLU Course)\"](https://www.kaggle.com/t/7c080c5d8ec64364a93cf4e8f880b6a0).\n",
    "\n",
    "Тут ми побудуємо рішення задачі класифікації з використанням алгоритмів бустингу: XGBoost та LightGBM, а також використаємо бібліотеку HyperOpt для оптимізації гіперпараметрів."
   ]
  },
  {
   "cell_type": "markdown",
   "metadata": {
    "id": "LhivzW9W8-Dz"
   },
   "source": [
    "0. Зчитайте дані `train.csv` в змінну `raw_df` та скористайтесь наведеним кодом нижче аби розділити дані на трнувальні та валідаційні і розділити дані на ознаки з матириці Х та цільову змінну. Назви змінних `train_inputs, train_targets, train_inputs, train_targets` можна змінити на ті, які Вам зручно.\n",
    "\n",
    "  Наведений скрипт - частина отриманого мною скрипта для обробки даних. Ми тут не викнуємо масштабування та обробку категоріальних змінних, бо хочемо це делегувати алгоритмам, які будемо використовувати. Якщо щось не розумієте в наведених скриптах, рекомендую розібратись: навичка читати код - важлива складова роботи в машинному навчанні."
   ]
  },
  {
   "cell_type": "code",
   "execution_count": 1,
   "metadata": {},
   "outputs": [],
   "source": [
    "import pandas as pd\n",
    "import numpy as np\n",
    "import seaborn as sns\n",
    "import matplotlib.pyplot as plt\n",
    "from sklearn.model_selection import train_test_split\n",
    "from typing import Tuple, Dict, Any\n",
    "import xgboost as xgb\n",
    "from sklearn.metrics import roc_auc_score, accuracy_score\n",
    "from hyperopt import hp, fmin, tpe, Trials, STATUS_OK\n",
    "from sklearn.preprocessing import LabelEncoder\n",
    "import lightgbm as lgb\n",
    "from lightgbm import log_evaluation"
   ]
  },
  {
   "cell_type": "code",
   "execution_count": 2,
   "metadata": {
    "id": "cKE8RTPf6CRD"
   },
   "outputs": [],
   "source": [
    "def split_train_val(df: pd.DataFrame, target_col: str, test_size: float = 0.2, random_state: int = 42) -> Tuple[pd.DataFrame, pd.DataFrame]:\n",
    "    \"\"\"\n",
    "    Split the dataframe into training and validation sets.\n",
    "\n",
    "    Args:\n",
    "        df (pd.DataFrame): The raw dataframe.\n",
    "        target_col (str): The target column for stratification.\n",
    "        test_size (float): The proportion of the dataset to include in the validation split.\n",
    "        random_state (int): Random state for reproducibility.\n",
    "\n",
    "    Returns:\n",
    "        Tuple[pd.DataFrame, pd.DataFrame]: Training and validation dataframes.\n",
    "    \"\"\"\n",
    "    train_df, val_df = train_test_split(df, test_size=test_size, random_state=random_state, stratify=df[target_col])\n",
    "    return train_df, val_df\n",
    "\n",
    "\n",
    "def separate_inputs_targets(df: pd.DataFrame, input_cols: list, target_col: str) -> Tuple[pd.DataFrame, pd.Series]:\n",
    "    \"\"\"\n",
    "    Separate inputs and targets from the dataframe.\n",
    "\n",
    "    Args:\n",
    "        df (pd.DataFrame): The dataframe.\n",
    "        input_cols (list): List of input columns.\n",
    "        target_col (str): Target column.\n",
    "\n",
    "    Returns:\n",
    "        Tuple[pd.DataFrame, pd.Series]: DataFrame of inputs and Series of targets.\n",
    "    \"\"\"\n",
    "    inputs = df[input_cols].copy()\n",
    "    targets = df[target_col].copy()\n",
    "    return inputs, targets"
   ]
  },
  {
   "cell_type": "code",
   "execution_count": 3,
   "metadata": {},
   "outputs": [],
   "source": [
    "raw_df = pd.read_csv('train.csv')"
   ]
  },
  {
   "cell_type": "code",
   "execution_count": 4,
   "metadata": {
    "id": "-bHdMJVB4xQR"
   },
   "outputs": [],
   "source": [
    "target_col = 'Exited'\n",
    "input_cols = raw_df.columns.drop(target_col)"
   ]
  },
  {
   "cell_type": "code",
   "execution_count": 5,
   "metadata": {},
   "outputs": [],
   "source": [
    "train_df, val_df = split_train_val(raw_df, target_col)"
   ]
  },
  {
   "cell_type": "code",
   "execution_count": 6,
   "metadata": {},
   "outputs": [],
   "source": [
    "# Для тренувальних даних\n",
    "train_inputs, train_targets = separate_inputs_targets(train_df, input_cols, target_col)\n",
    "\n",
    "# Для валідаційних даних\n",
    "val_inputs, val_targets = separate_inputs_targets(val_df, input_cols, target_col)"
   ]
  },
  {
   "cell_type": "markdown",
   "metadata": {
    "id": "cq0JU7MqHgp_"
   },
   "source": [
    "1. В тренувальному та валідаційному наборі перетворіть категоріальні ознаки на тип `category`. Можна це зробити двома способами:\n",
    " 1. `df[col_name].astype('category')`, як було продемонстровано в лекції\n",
    " 2. використовуючи метод `pd.Categorical(df[col_name])`"
   ]
  },
  {
   "cell_type": "code",
   "execution_count": 7,
   "metadata": {
    "id": "UPmqo-Mr4yUO"
   },
   "outputs": [],
   "source": [
    "cat_features = train_inputs.select_dtypes(include='object').columns\n",
    "\n",
    "train_inputs[cat_features] = train_inputs[cat_features].astype('category')\n",
    "val_inputs[cat_features] = val_inputs[cat_features].astype('category') "
   ]
  },
  {
   "cell_type": "markdown",
   "metadata": {
    "id": "_LxWkv4o-wMe"
   },
   "source": [
    "2. Навчіть на отриманих даних модель `XGBoostClassifier`. Параметри алгоритму встановіть на свій розсуд, ми далі будемо їх тюнити. Рекомендую тренувати не дуже складну модель.\n",
    "\n",
    "  Опис всіх конфігураційних параметрів XGBoostClassifier - тут https://xgboost.readthedocs.io/en/stable/parameter.html#global-config\n",
    "\n",
    "  **Важливо:** зробіть такі налаштування `XGBoostClassifier` аби він самостійно обробляв незаповнені значення в даних і обробляв категоріальні колонки.\n",
    "\n",
    "  Можна також, якщо працюєте в Google Colab, увімкнути можливість використання GPU (`Runtime -> Change runtime type -> T4 GPU`) і встановити параметр `device='cuda'` в `XGBoostClassifier` для пришвидшення тренування бустинг моделі.\n",
    "  \n",
    "  Після тренування моделі\n",
    "  1. Виміряйте точність з допомогою AUROC на тренувальному та валідаційному наборах.\n",
    "  2. Зробіть висновок про отриману модель: вона хороша/погана, чи є high bias/high variance?\n",
    "  3. Порівняйте якість цієї моделі з тою, що ви отрмали з використанням DecisionTrees раніше. Чи вийшло покращити якість?"
   ]
  },
  {
   "cell_type": "code",
   "execution_count": 8,
   "metadata": {
    "id": "_5rDqdDP41hb"
   },
   "outputs": [],
   "source": [
    "params = {\n",
    "    'max_depth': 3,  # Максимальна глибина дерева\n",
    "    'eta': 0.1,  # Швидкість навчання\n",
    "    'objective': 'binary:logistic',  # Для бінарної класифікації\n",
    "    'eval_metric': 'auc',  # Використовуємо AUROC\n",
    "    'missing': None  # XGBoost автоматично обробляє відсутні значення\n",
    "}"
   ]
  },
  {
   "cell_type": "code",
   "execution_count": 9,
   "metadata": {},
   "outputs": [],
   "source": [
    "dtrain = xgb.DMatrix(train_inputs, label=train_targets, enable_categorical=True)\n",
    "dval = xgb.DMatrix(val_inputs, label=val_targets, enable_categorical=True)"
   ]
  },
  {
   "cell_type": "code",
   "execution_count": 10,
   "metadata": {},
   "outputs": [
    {
     "name": "stdout",
     "output_type": "stream",
     "text": [
      "[0]\ttrain-auc:0.89718\teval-auc:0.89115\n",
      "[1]\ttrain-auc:0.90134\teval-auc:0.89598\n",
      "[2]\ttrain-auc:0.90277\teval-auc:0.89705\n",
      "[3]\ttrain-auc:0.90699\teval-auc:0.89620\n",
      "[4]\ttrain-auc:0.90919\teval-auc:0.89997\n",
      "[5]\ttrain-auc:0.91415\teval-auc:0.90258\n",
      "[6]\ttrain-auc:0.91669\teval-auc:0.90976\n",
      "[7]\ttrain-auc:0.91750\teval-auc:0.90882\n",
      "[8]\ttrain-auc:0.91895\teval-auc:0.91197\n",
      "[9]\ttrain-auc:0.91948\teval-auc:0.91129\n",
      "[10]\ttrain-auc:0.92231\teval-auc:0.91449\n",
      "[11]\ttrain-auc:0.92415\teval-auc:0.91589\n",
      "[12]\ttrain-auc:0.92511\teval-auc:0.91626\n",
      "[13]\ttrain-auc:0.92539\teval-auc:0.91506\n",
      "[14]\ttrain-auc:0.92742\teval-auc:0.91631\n",
      "[15]\ttrain-auc:0.92894\teval-auc:0.91805\n",
      "[16]\ttrain-auc:0.92996\teval-auc:0.92023\n",
      "[17]\ttrain-auc:0.93129\teval-auc:0.92017\n",
      "[18]\ttrain-auc:0.93173\teval-auc:0.92022\n",
      "[19]\ttrain-auc:0.93428\teval-auc:0.92350\n",
      "[20]\ttrain-auc:0.93596\teval-auc:0.92444\n",
      "[21]\ttrain-auc:0.93747\teval-auc:0.92459\n",
      "[22]\ttrain-auc:0.93783\teval-auc:0.92441\n",
      "[23]\ttrain-auc:0.93912\teval-auc:0.92506\n",
      "[24]\ttrain-auc:0.94007\teval-auc:0.92542\n",
      "[25]\ttrain-auc:0.94081\teval-auc:0.92512\n",
      "[26]\ttrain-auc:0.94223\teval-auc:0.92717\n",
      "[27]\ttrain-auc:0.94297\teval-auc:0.92739\n",
      "[28]\ttrain-auc:0.94392\teval-auc:0.92865\n",
      "[29]\ttrain-auc:0.94460\teval-auc:0.92841\n",
      "[30]\ttrain-auc:0.94540\teval-auc:0.92864\n",
      "[31]\ttrain-auc:0.94606\teval-auc:0.93011\n",
      "[32]\ttrain-auc:0.94622\teval-auc:0.93008\n",
      "[33]\ttrain-auc:0.94673\teval-auc:0.93015\n",
      "[34]\ttrain-auc:0.94700\teval-auc:0.92975\n",
      "[35]\ttrain-auc:0.94737\teval-auc:0.93009\n",
      "[36]\ttrain-auc:0.94803\teval-auc:0.93030\n",
      "[37]\ttrain-auc:0.94849\teval-auc:0.93042\n",
      "[38]\ttrain-auc:0.94888\teval-auc:0.93008\n",
      "[39]\ttrain-auc:0.94928\teval-auc:0.93022\n",
      "[40]\ttrain-auc:0.94990\teval-auc:0.93097\n",
      "[41]\ttrain-auc:0.95017\teval-auc:0.93087\n",
      "[42]\ttrain-auc:0.95059\teval-auc:0.93073\n",
      "[43]\ttrain-auc:0.95118\teval-auc:0.93156\n",
      "[44]\ttrain-auc:0.95130\teval-auc:0.93133\n",
      "[45]\ttrain-auc:0.95150\teval-auc:0.93155\n",
      "[46]\ttrain-auc:0.95175\teval-auc:0.93149\n",
      "[47]\ttrain-auc:0.95231\teval-auc:0.93168\n",
      "[48]\ttrain-auc:0.95264\teval-auc:0.93157\n",
      "[49]\ttrain-auc:0.95290\teval-auc:0.93147\n",
      "[50]\ttrain-auc:0.95341\teval-auc:0.93175\n",
      "[51]\ttrain-auc:0.95370\teval-auc:0.93191\n",
      "[52]\ttrain-auc:0.95394\teval-auc:0.93184\n",
      "[53]\ttrain-auc:0.95403\teval-auc:0.93208\n",
      "[54]\ttrain-auc:0.95439\teval-auc:0.93229\n",
      "[55]\ttrain-auc:0.95471\teval-auc:0.93221\n",
      "[56]\ttrain-auc:0.95480\teval-auc:0.93211\n",
      "[57]\ttrain-auc:0.95503\teval-auc:0.93216\n",
      "[58]\ttrain-auc:0.95515\teval-auc:0.93235\n",
      "[59]\ttrain-auc:0.95551\teval-auc:0.93243\n",
      "[60]\ttrain-auc:0.95574\teval-auc:0.93246\n",
      "[61]\ttrain-auc:0.95620\teval-auc:0.93249\n",
      "[62]\ttrain-auc:0.95621\teval-auc:0.93239\n",
      "[63]\ttrain-auc:0.95632\teval-auc:0.93241\n",
      "[64]\ttrain-auc:0.95652\teval-auc:0.93224\n",
      "[65]\ttrain-auc:0.95665\teval-auc:0.93243\n",
      "[66]\ttrain-auc:0.95689\teval-auc:0.93247\n",
      "[67]\ttrain-auc:0.95704\teval-auc:0.93263\n",
      "[68]\ttrain-auc:0.95742\teval-auc:0.93275\n",
      "[69]\ttrain-auc:0.95753\teval-auc:0.93283\n",
      "[70]\ttrain-auc:0.95773\teval-auc:0.93275\n",
      "[71]\ttrain-auc:0.95774\teval-auc:0.93270\n",
      "[72]\ttrain-auc:0.95788\teval-auc:0.93279\n",
      "[73]\ttrain-auc:0.95799\teval-auc:0.93283\n",
      "[74]\ttrain-auc:0.95823\teval-auc:0.93270\n",
      "[75]\ttrain-auc:0.95847\teval-auc:0.93270\n",
      "[76]\ttrain-auc:0.95860\teval-auc:0.93263\n",
      "[77]\ttrain-auc:0.95878\teval-auc:0.93248\n",
      "[78]\ttrain-auc:0.95893\teval-auc:0.93260\n",
      "[79]\ttrain-auc:0.95905\teval-auc:0.93262\n",
      "[80]\ttrain-auc:0.95927\teval-auc:0.93271\n",
      "[81]\ttrain-auc:0.95940\teval-auc:0.93279\n",
      "[82]\ttrain-auc:0.95955\teval-auc:0.93262\n",
      "[83]\ttrain-auc:0.95967\teval-auc:0.93276\n",
      "[84]\ttrain-auc:0.95989\teval-auc:0.93281\n",
      "[85]\ttrain-auc:0.96000\teval-auc:0.93257\n",
      "[86]\ttrain-auc:0.96002\teval-auc:0.93287\n",
      "[87]\ttrain-auc:0.96012\teval-auc:0.93283\n",
      "[88]\ttrain-auc:0.96026\teval-auc:0.93295\n",
      "[89]\ttrain-auc:0.96037\teval-auc:0.93286\n",
      "[90]\ttrain-auc:0.96055\teval-auc:0.93281\n",
      "[91]\ttrain-auc:0.96065\teval-auc:0.93289\n",
      "[92]\ttrain-auc:0.96088\teval-auc:0.93283\n",
      "[93]\ttrain-auc:0.96103\teval-auc:0.93298\n",
      "[94]\ttrain-auc:0.96116\teval-auc:0.93292\n",
      "[95]\ttrain-auc:0.96126\teval-auc:0.93288\n",
      "[96]\ttrain-auc:0.96145\teval-auc:0.93286\n",
      "[97]\ttrain-auc:0.96157\teval-auc:0.93276\n",
      "[98]\ttrain-auc:0.96163\teval-auc:0.93296\n",
      "[99]\ttrain-auc:0.96170\teval-auc:0.93287\n"
     ]
    }
   ],
   "source": [
    "num_round = 100  # Кількість ітерацій\n",
    "watchlist = [(dtrain, 'train'), (dval, 'eval')]\n",
    "\n",
    "model = xgb.train(params, dtrain, num_round, evals=watchlist)"
   ]
  },
  {
   "cell_type": "code",
   "execution_count": 11,
   "metadata": {},
   "outputs": [
    {
     "name": "stdout",
     "output_type": "stream",
     "text": [
      "Train AUC: 0.96170402126146\n",
      "Val AUC: 0.9328722820495233\n"
     ]
    }
   ],
   "source": [
    "# Передбачення на тренувальних та валідаційних даних\n",
    "train_preds = model.predict(dtrain)\n",
    "val_preds = model.predict(dval)\n",
    "\n",
    "# Розрахунок AUROC\n",
    "train_auc = roc_auc_score(train_targets, train_preds)\n",
    "val_auc = roc_auc_score(val_targets, val_preds)\n",
    "\n",
    "print(f\"Train AUC: {train_auc}\")\n",
    "print(f\"Val AUC: {val_auc}\")"
   ]
  },
  {
   "cell_type": "markdown",
   "metadata": {},
   "source": [
    "Модель значно покращилась порівняно з попередніми рішеннями. Пере- або недонавчання не спостерігається, маємо близькі по значенню AUROC на трейні і валідації"
   ]
  },
  {
   "cell_type": "markdown",
   "metadata": {
    "id": "U4hm5qYs_f7x"
   },
   "source": [
    "3. Використовуючи бібліотеку `Hyperopt` і приклад пошуку гіперпараметрів для `XGBoostClassifier` з лекції знайдіть оптимальні значення гіперпараметрів `XGBoostClassifier` для нашої задачі. Задайте свою сітку гіперпараметрів виходячи з тих параметрів, які ви б хотіли перебрати. Поставте кількість раундів в підборі гіперпараметрів рівну **20**.\n",
    "\n",
    "  **Увага!** Для того, аби скористатись hyperopt, нам треба задати функцію `objective`. В ній ми маємо задати loss - це може будь-яка метрика, але бажано використовувтаи ту, яка цільова в вашій задачі. Чим менший лосс - тим ліпша модель на думку hyperopt. Тож, тут нам треба задати loss - негативне значення AUROC. В лекції ми натомість використовували Accuracy.\n",
    "\n",
    "  Після успішного завершення пошуку оптимальних гіперпараметрів\n",
    "    - виведіть найкращі значення гіперпараметрів\n",
    "    - створіть в окремій зміній `final_clf` модель `XGBoostClassifier` з найкращими гіперпараметрами\n",
    "    - навчіть модель `final_clf`\n",
    "    - оцініть якість моделі `final_clf` на тренувальній і валідаційній вибірках з допомогою AUROC.\n",
    "    - зробіть висновок про якість моделі. Чи стала вона краще порівняно з попереднім пунктом (2) цього завдання?"
   ]
  },
  {
   "cell_type": "code",
   "execution_count": 12,
   "metadata": {},
   "outputs": [
    {
     "name": "stdout",
     "output_type": "stream",
     "text": [
      "  0%|                                                                           | 0/20 [00:00<?, ?trial/s, best loss=?]"
     ]
    },
    {
     "name": "stderr",
     "output_type": "stream",
     "text": [
      "c:\\users\\анна\\appdata\\local\\programs\\python\\python39\\lib\\site-packages\\xgboost\\core.py:158: UserWarning: [13:49:29] WARNING: C:\\buildkite-agent\\builds\\buildkite-windows-cpu-autoscaling-group-i-06abd128ca6c1688d-1\\xgboost\\xgboost-ci-windows\\src\\context.cc:43: No visible GPU is found, setting device to CPU.\n",
      "  warnings.warn(smsg, UserWarning)\n",
      "\n",
      "c:\\users\\анна\\appdata\\local\\programs\\python\\python39\\lib\\site-packages\\xgboost\\core.py:158: UserWarning: [13:49:29] WARNING: C:\\buildkite-agent\\builds\\buildkite-windows-cpu-autoscaling-group-i-06abd128ca6c1688d-1\\xgboost\\xgboost-ci-windows\\src\\learner.cc:740: \n",
      "Parameters: { \"use_label_encoder\" } are not used.\n",
      "\n",
      "  warnings.warn(smsg, UserWarning)\n",
      "\n"
     ]
    },
    {
     "name": "stdout",
     "output_type": "stream",
     "text": [
      "  5%|██▍                                             | 1/20 [00:00<00:06,  2.88trial/s, best loss: -0.8936666666666667]"
     ]
    },
    {
     "name": "stderr",
     "output_type": "stream",
     "text": [
      "c:\\users\\анна\\appdata\\local\\programs\\python\\python39\\lib\\site-packages\\xgboost\\core.py:158: UserWarning: [13:49:30] WARNING: C:\\buildkite-agent\\builds\\buildkite-windows-cpu-autoscaling-group-i-06abd128ca6c1688d-1\\xgboost\\xgboost-ci-windows\\src\\context.cc:43: No visible GPU is found, setting device to CPU.\n",
      "  warnings.warn(smsg, UserWarning)\n",
      "\n",
      "c:\\users\\анна\\appdata\\local\\programs\\python\\python39\\lib\\site-packages\\xgboost\\core.py:158: UserWarning: [13:49:30] WARNING: C:\\buildkite-agent\\builds\\buildkite-windows-cpu-autoscaling-group-i-06abd128ca6c1688d-1\\xgboost\\xgboost-ci-windows\\src\\learner.cc:740: \n",
      "Parameters: { \"use_label_encoder\" } are not used.\n",
      "\n",
      "  warnings.warn(smsg, UserWarning)\n",
      "\n"
     ]
    },
    {
     "name": "stdout",
     "output_type": "stream",
     "text": [
      " 10%|████▊                                           | 2/20 [00:01<00:09,  1.82trial/s, best loss: -0.8946666666666667]"
     ]
    },
    {
     "name": "stderr",
     "output_type": "stream",
     "text": [
      "c:\\users\\анна\\appdata\\local\\programs\\python\\python39\\lib\\site-packages\\xgboost\\core.py:158: UserWarning: [13:49:30] WARNING: C:\\buildkite-agent\\builds\\buildkite-windows-cpu-autoscaling-group-i-06abd128ca6c1688d-1\\xgboost\\xgboost-ci-windows\\src\\context.cc:43: No visible GPU is found, setting device to CPU.\n",
      "  warnings.warn(smsg, UserWarning)\n",
      "\n",
      "c:\\users\\анна\\appdata\\local\\programs\\python\\python39\\lib\\site-packages\\xgboost\\core.py:158: UserWarning: [13:49:30] WARNING: C:\\buildkite-agent\\builds\\buildkite-windows-cpu-autoscaling-group-i-06abd128ca6c1688d-1\\xgboost\\xgboost-ci-windows\\src\\learner.cc:740: \n",
      "Parameters: { \"use_label_encoder\" } are not used.\n",
      "\n",
      "  warnings.warn(smsg, UserWarning)\n",
      "\n"
     ]
    },
    {
     "name": "stdout",
     "output_type": "stream",
     "text": [
      " 15%|███████▏                                        | 3/20 [00:01<00:07,  2.37trial/s, best loss: -0.8956666666666667]"
     ]
    },
    {
     "name": "stderr",
     "output_type": "stream",
     "text": [
      "c:\\users\\анна\\appdata\\local\\programs\\python\\python39\\lib\\site-packages\\xgboost\\core.py:158: UserWarning: [13:49:31] WARNING: C:\\buildkite-agent\\builds\\buildkite-windows-cpu-autoscaling-group-i-06abd128ca6c1688d-1\\xgboost\\xgboost-ci-windows\\src\\context.cc:43: No visible GPU is found, setting device to CPU.\n",
      "  warnings.warn(smsg, UserWarning)\n",
      "\n",
      "c:\\users\\анна\\appdata\\local\\programs\\python\\python39\\lib\\site-packages\\xgboost\\core.py:158: UserWarning: [13:49:31] WARNING: C:\\buildkite-agent\\builds\\buildkite-windows-cpu-autoscaling-group-i-06abd128ca6c1688d-1\\xgboost\\xgboost-ci-windows\\src\\learner.cc:740: \n",
      "Parameters: { \"use_label_encoder\" } are not used.\n",
      "\n",
      "  warnings.warn(smsg, UserWarning)\n",
      "\n"
     ]
    },
    {
     "name": "stdout",
     "output_type": "stream",
     "text": [
      " 20%|█████████▌                                      | 4/20 [00:01<00:06,  2.29trial/s, best loss: -0.8976666666666666]"
     ]
    },
    {
     "name": "stderr",
     "output_type": "stream",
     "text": [
      "c:\\users\\анна\\appdata\\local\\programs\\python\\python39\\lib\\site-packages\\xgboost\\core.py:158: UserWarning: [13:49:31] WARNING: C:\\buildkite-agent\\builds\\buildkite-windows-cpu-autoscaling-group-i-06abd128ca6c1688d-1\\xgboost\\xgboost-ci-windows\\src\\context.cc:43: No visible GPU is found, setting device to CPU.\n",
      "  warnings.warn(smsg, UserWarning)\n",
      "\n",
      "c:\\users\\анна\\appdata\\local\\programs\\python\\python39\\lib\\site-packages\\xgboost\\core.py:158: UserWarning: [13:49:31] WARNING: C:\\buildkite-agent\\builds\\buildkite-windows-cpu-autoscaling-group-i-06abd128ca6c1688d-1\\xgboost\\xgboost-ci-windows\\src\\learner.cc:740: \n",
      "Parameters: { \"use_label_encoder\" } are not used.\n",
      "\n",
      "  warnings.warn(smsg, UserWarning)\n",
      "\n"
     ]
    },
    {
     "name": "stdout",
     "output_type": "stream",
     "text": [
      " 25%|████████████                                    | 5/20 [00:02<00:05,  2.61trial/s, best loss: -0.8976666666666666]"
     ]
    },
    {
     "name": "stderr",
     "output_type": "stream",
     "text": [
      "c:\\users\\анна\\appdata\\local\\programs\\python\\python39\\lib\\site-packages\\xgboost\\core.py:158: UserWarning: [13:49:31] WARNING: C:\\buildkite-agent\\builds\\buildkite-windows-cpu-autoscaling-group-i-06abd128ca6c1688d-1\\xgboost\\xgboost-ci-windows\\src\\context.cc:43: No visible GPU is found, setting device to CPU.\n",
      "  warnings.warn(smsg, UserWarning)\n",
      "\n",
      "c:\\users\\анна\\appdata\\local\\programs\\python\\python39\\lib\\site-packages\\xgboost\\core.py:158: UserWarning: [13:49:31] WARNING: C:\\buildkite-agent\\builds\\buildkite-windows-cpu-autoscaling-group-i-06abd128ca6c1688d-1\\xgboost\\xgboost-ci-windows\\src\\learner.cc:740: \n",
      "Parameters: { \"use_label_encoder\" } are not used.\n",
      "\n",
      "  warnings.warn(smsg, UserWarning)\n",
      "\n"
     ]
    },
    {
     "name": "stdout",
     "output_type": "stream",
     "text": [
      " 30%|██████████████▍                                 | 6/20 [00:03<00:08,  1.61trial/s, best loss: -0.8976666666666666]"
     ]
    },
    {
     "name": "stderr",
     "output_type": "stream",
     "text": [
      "c:\\users\\анна\\appdata\\local\\programs\\python\\python39\\lib\\site-packages\\xgboost\\core.py:158: UserWarning: [13:49:32] WARNING: C:\\buildkite-agent\\builds\\buildkite-windows-cpu-autoscaling-group-i-06abd128ca6c1688d-1\\xgboost\\xgboost-ci-windows\\src\\context.cc:43: No visible GPU is found, setting device to CPU.\n",
      "  warnings.warn(smsg, UserWarning)\n",
      "\n",
      "c:\\users\\анна\\appdata\\local\\programs\\python\\python39\\lib\\site-packages\\xgboost\\core.py:158: UserWarning: [13:49:32] WARNING: C:\\buildkite-agent\\builds\\buildkite-windows-cpu-autoscaling-group-i-06abd128ca6c1688d-1\\xgboost\\xgboost-ci-windows\\src\\learner.cc:740: \n",
      "Parameters: { \"use_label_encoder\" } are not used.\n",
      "\n",
      "  warnings.warn(smsg, UserWarning)\n",
      "\n"
     ]
    },
    {
     "name": "stdout",
     "output_type": "stream",
     "text": [
      " 35%|████████████████▊                               | 7/20 [00:04<00:11,  1.11trial/s, best loss: -0.8976666666666666]"
     ]
    },
    {
     "name": "stderr",
     "output_type": "stream",
     "text": [
      "c:\\users\\анна\\appdata\\local\\programs\\python\\python39\\lib\\site-packages\\xgboost\\core.py:158: UserWarning: [13:49:34] WARNING: C:\\buildkite-agent\\builds\\buildkite-windows-cpu-autoscaling-group-i-06abd128ca6c1688d-1\\xgboost\\xgboost-ci-windows\\src\\context.cc:43: No visible GPU is found, setting device to CPU.\n",
      "  warnings.warn(smsg, UserWarning)\n",
      "\n",
      "c:\\users\\анна\\appdata\\local\\programs\\python\\python39\\lib\\site-packages\\xgboost\\core.py:158: UserWarning: [13:49:34] WARNING: C:\\buildkite-agent\\builds\\buildkite-windows-cpu-autoscaling-group-i-06abd128ca6c1688d-1\\xgboost\\xgboost-ci-windows\\src\\learner.cc:740: \n",
      "Parameters: { \"use_label_encoder\" } are not used.\n",
      "\n",
      "  warnings.warn(smsg, UserWarning)\n",
      "\n"
     ]
    },
    {
     "name": "stdout",
     "output_type": "stream",
     "text": [
      " 40%|███████████████████▏                            | 8/20 [00:05<00:12,  1.05s/trial, best loss: -0.8976666666666666]"
     ]
    },
    {
     "name": "stderr",
     "output_type": "stream",
     "text": [
      "c:\\users\\анна\\appdata\\local\\programs\\python\\python39\\lib\\site-packages\\xgboost\\core.py:158: UserWarning: [13:49:35] WARNING: C:\\buildkite-agent\\builds\\buildkite-windows-cpu-autoscaling-group-i-06abd128ca6c1688d-1\\xgboost\\xgboost-ci-windows\\src\\context.cc:43: No visible GPU is found, setting device to CPU.\n",
      "  warnings.warn(smsg, UserWarning)\n",
      "\n",
      "c:\\users\\анна\\appdata\\local\\programs\\python\\python39\\lib\\site-packages\\xgboost\\core.py:158: UserWarning: [13:49:35] WARNING: C:\\buildkite-agent\\builds\\buildkite-windows-cpu-autoscaling-group-i-06abd128ca6c1688d-1\\xgboost\\xgboost-ci-windows\\src\\learner.cc:740: \n",
      "Parameters: { \"use_label_encoder\" } are not used.\n",
      "\n",
      "  warnings.warn(smsg, UserWarning)\n",
      "\n"
     ]
    },
    {
     "name": "stdout",
     "output_type": "stream",
     "text": [
      " 45%|███████████████████████████▍                                 | 9/20 [00:07<00:11,  1.09s/trial, best loss: -0.898]"
     ]
    },
    {
     "name": "stderr",
     "output_type": "stream",
     "text": [
      "c:\\users\\анна\\appdata\\local\\programs\\python\\python39\\lib\\site-packages\\xgboost\\core.py:158: UserWarning: [13:49:36] WARNING: C:\\buildkite-agent\\builds\\buildkite-windows-cpu-autoscaling-group-i-06abd128ca6c1688d-1\\xgboost\\xgboost-ci-windows\\src\\context.cc:43: No visible GPU is found, setting device to CPU.\n",
      "  warnings.warn(smsg, UserWarning)\n",
      "\n",
      "c:\\users\\анна\\appdata\\local\\programs\\python\\python39\\lib\\site-packages\\xgboost\\core.py:158: UserWarning: [13:49:36] WARNING: C:\\buildkite-agent\\builds\\buildkite-windows-cpu-autoscaling-group-i-06abd128ca6c1688d-1\\xgboost\\xgboost-ci-windows\\src\\learner.cc:740: \n",
      "Parameters: { \"use_label_encoder\" } are not used.\n",
      "\n",
      "  warnings.warn(smsg, UserWarning)\n",
      "\n"
     ]
    },
    {
     "name": "stdout",
     "output_type": "stream",
     "text": [
      " 50%|██████████████████████████████                              | 10/20 [00:07<00:08,  1.19trial/s, best loss: -0.898]"
     ]
    },
    {
     "name": "stderr",
     "output_type": "stream",
     "text": [
      "c:\\users\\анна\\appdata\\local\\programs\\python\\python39\\lib\\site-packages\\xgboost\\core.py:158: UserWarning: [13:49:37] WARNING: C:\\buildkite-agent\\builds\\buildkite-windows-cpu-autoscaling-group-i-06abd128ca6c1688d-1\\xgboost\\xgboost-ci-windows\\src\\context.cc:43: No visible GPU is found, setting device to CPU.\n",
      "  warnings.warn(smsg, UserWarning)\n",
      "\n",
      "c:\\users\\анна\\appdata\\local\\programs\\python\\python39\\lib\\site-packages\\xgboost\\core.py:158: UserWarning: [13:49:37] WARNING: C:\\buildkite-agent\\builds\\buildkite-windows-cpu-autoscaling-group-i-06abd128ca6c1688d-1\\xgboost\\xgboost-ci-windows\\src\\learner.cc:740: \n",
      "Parameters: { \"use_label_encoder\" } are not used.\n",
      "\n",
      "  warnings.warn(smsg, UserWarning)\n",
      "\n"
     ]
    },
    {
     "name": "stdout",
     "output_type": "stream",
     "text": [
      " 55%|█████████████████████████████████                           | 11/20 [00:07<00:06,  1.35trial/s, best loss: -0.898]"
     ]
    },
    {
     "name": "stderr",
     "output_type": "stream",
     "text": [
      "c:\\users\\анна\\appdata\\local\\programs\\python\\python39\\lib\\site-packages\\xgboost\\core.py:158: UserWarning: [13:49:37] WARNING: C:\\buildkite-agent\\builds\\buildkite-windows-cpu-autoscaling-group-i-06abd128ca6c1688d-1\\xgboost\\xgboost-ci-windows\\src\\context.cc:43: No visible GPU is found, setting device to CPU.\n",
      "  warnings.warn(smsg, UserWarning)\n",
      "\n",
      "c:\\users\\анна\\appdata\\local\\programs\\python\\python39\\lib\\site-packages\\xgboost\\core.py:158: UserWarning: [13:49:37] WARNING: C:\\buildkite-agent\\builds\\buildkite-windows-cpu-autoscaling-group-i-06abd128ca6c1688d-1\\xgboost\\xgboost-ci-windows\\src\\learner.cc:740: \n",
      "Parameters: { \"use_label_encoder\" } are not used.\n",
      "\n",
      "  warnings.warn(smsg, UserWarning)\n",
      "\n"
     ]
    },
    {
     "name": "stdout",
     "output_type": "stream",
     "text": [
      " 60%|████████████████████████████▏                  | 12/20 [00:08<00:05,  1.49trial/s, best loss: -0.8996666666666666]"
     ]
    },
    {
     "name": "stderr",
     "output_type": "stream",
     "text": [
      "c:\\users\\анна\\appdata\\local\\programs\\python\\python39\\lib\\site-packages\\xgboost\\core.py:158: UserWarning: [13:49:38] WARNING: C:\\buildkite-agent\\builds\\buildkite-windows-cpu-autoscaling-group-i-06abd128ca6c1688d-1\\xgboost\\xgboost-ci-windows\\src\\context.cc:43: No visible GPU is found, setting device to CPU.\n",
      "  warnings.warn(smsg, UserWarning)\n",
      "\n",
      "c:\\users\\анна\\appdata\\local\\programs\\python\\python39\\lib\\site-packages\\xgboost\\core.py:158: UserWarning: [13:49:38] WARNING: C:\\buildkite-agent\\builds\\buildkite-windows-cpu-autoscaling-group-i-06abd128ca6c1688d-1\\xgboost\\xgboost-ci-windows\\src\\learner.cc:740: \n",
      "Parameters: { \"use_label_encoder\" } are not used.\n",
      "\n",
      "  warnings.warn(smsg, UserWarning)\n",
      "\n"
     ]
    },
    {
     "name": "stdout",
     "output_type": "stream",
     "text": [
      " 65%|███████████████████████████████████████                     | 13/20 [00:08<00:04,  1.73trial/s, best loss: -0.901]"
     ]
    },
    {
     "name": "stderr",
     "output_type": "stream",
     "text": [
      "c:\\users\\анна\\appdata\\local\\programs\\python\\python39\\lib\\site-packages\\xgboost\\core.py:158: UserWarning: [13:49:38] WARNING: C:\\buildkite-agent\\builds\\buildkite-windows-cpu-autoscaling-group-i-06abd128ca6c1688d-1\\xgboost\\xgboost-ci-windows\\src\\context.cc:43: No visible GPU is found, setting device to CPU.\n",
      "  warnings.warn(smsg, UserWarning)\n",
      "\n",
      "c:\\users\\анна\\appdata\\local\\programs\\python\\python39\\lib\\site-packages\\xgboost\\core.py:158: UserWarning: [13:49:38] WARNING: C:\\buildkite-agent\\builds\\buildkite-windows-cpu-autoscaling-group-i-06abd128ca6c1688d-1\\xgboost\\xgboost-ci-windows\\src\\learner.cc:740: \n",
      "Parameters: { \"use_label_encoder\" } are not used.\n",
      "\n",
      "  warnings.warn(smsg, UserWarning)\n",
      "\n"
     ]
    },
    {
     "name": "stdout",
     "output_type": "stream",
     "text": [
      " 70%|██████████████████████████████████████████                  | 14/20 [00:09<00:03,  1.87trial/s, best loss: -0.901]"
     ]
    },
    {
     "name": "stderr",
     "output_type": "stream",
     "text": [
      "c:\\users\\анна\\appdata\\local\\programs\\python\\python39\\lib\\site-packages\\xgboost\\core.py:158: UserWarning: [13:49:39] WARNING: C:\\buildkite-agent\\builds\\buildkite-windows-cpu-autoscaling-group-i-06abd128ca6c1688d-1\\xgboost\\xgboost-ci-windows\\src\\context.cc:43: No visible GPU is found, setting device to CPU.\n",
      "  warnings.warn(smsg, UserWarning)\n",
      "\n",
      "c:\\users\\анна\\appdata\\local\\programs\\python\\python39\\lib\\site-packages\\xgboost\\core.py:158: UserWarning: [13:49:39] WARNING: C:\\buildkite-agent\\builds\\buildkite-windows-cpu-autoscaling-group-i-06abd128ca6c1688d-1\\xgboost\\xgboost-ci-windows\\src\\learner.cc:740: \n",
      "Parameters: { \"use_label_encoder\" } are not used.\n",
      "\n",
      "  warnings.warn(smsg, UserWarning)\n",
      "\n"
     ]
    },
    {
     "name": "stdout",
     "output_type": "stream",
     "text": [
      " 75%|█████████████████████████████████████████████               | 15/20 [00:09<00:02,  1.72trial/s, best loss: -0.901]"
     ]
    },
    {
     "name": "stderr",
     "output_type": "stream",
     "text": [
      "c:\\users\\анна\\appdata\\local\\programs\\python\\python39\\lib\\site-packages\\xgboost\\core.py:158: UserWarning: [13:49:39] WARNING: C:\\buildkite-agent\\builds\\buildkite-windows-cpu-autoscaling-group-i-06abd128ca6c1688d-1\\xgboost\\xgboost-ci-windows\\src\\context.cc:43: No visible GPU is found, setting device to CPU.\n",
      "  warnings.warn(smsg, UserWarning)\n",
      "\n",
      "c:\\users\\анна\\appdata\\local\\programs\\python\\python39\\lib\\site-packages\\xgboost\\core.py:158: UserWarning: [13:49:39] WARNING: C:\\buildkite-agent\\builds\\buildkite-windows-cpu-autoscaling-group-i-06abd128ca6c1688d-1\\xgboost\\xgboost-ci-windows\\src\\learner.cc:740: \n",
      "Parameters: { \"use_label_encoder\" } are not used.\n",
      "\n",
      "  warnings.warn(smsg, UserWarning)\n",
      "\n"
     ]
    },
    {
     "name": "stdout",
     "output_type": "stream",
     "text": [
      " 80%|████████████████████████████████████████████████            | 16/20 [00:10<00:02,  1.71trial/s, best loss: -0.901]"
     ]
    },
    {
     "name": "stderr",
     "output_type": "stream",
     "text": [
      "c:\\users\\анна\\appdata\\local\\programs\\python\\python39\\lib\\site-packages\\xgboost\\core.py:158: UserWarning: [13:49:40] WARNING: C:\\buildkite-agent\\builds\\buildkite-windows-cpu-autoscaling-group-i-06abd128ca6c1688d-1\\xgboost\\xgboost-ci-windows\\src\\context.cc:43: No visible GPU is found, setting device to CPU.\n",
      "  warnings.warn(smsg, UserWarning)\n",
      "\n",
      "c:\\users\\анна\\appdata\\local\\programs\\python\\python39\\lib\\site-packages\\xgboost\\core.py:158: UserWarning: [13:49:40] WARNING: C:\\buildkite-agent\\builds\\buildkite-windows-cpu-autoscaling-group-i-06abd128ca6c1688d-1\\xgboost\\xgboost-ci-windows\\src\\learner.cc:740: \n",
      "Parameters: { \"use_label_encoder\" } are not used.\n",
      "\n",
      "  warnings.warn(smsg, UserWarning)\n",
      "\n"
     ]
    },
    {
     "name": "stdout",
     "output_type": "stream",
     "text": [
      " 85%|███████████████████████████████████████████████████         | 17/20 [00:10<00:01,  1.97trial/s, best loss: -0.901]"
     ]
    },
    {
     "name": "stderr",
     "output_type": "stream",
     "text": [
      "c:\\users\\анна\\appdata\\local\\programs\\python\\python39\\lib\\site-packages\\xgboost\\core.py:158: UserWarning: [13:49:40] WARNING: C:\\buildkite-agent\\builds\\buildkite-windows-cpu-autoscaling-group-i-06abd128ca6c1688d-1\\xgboost\\xgboost-ci-windows\\src\\context.cc:43: No visible GPU is found, setting device to CPU.\n",
      "  warnings.warn(smsg, UserWarning)\n",
      "\n",
      "c:\\users\\анна\\appdata\\local\\programs\\python\\python39\\lib\\site-packages\\xgboost\\core.py:158: UserWarning: [13:49:40] WARNING: C:\\buildkite-agent\\builds\\buildkite-windows-cpu-autoscaling-group-i-06abd128ca6c1688d-1\\xgboost\\xgboost-ci-windows\\src\\learner.cc:740: \n",
      "Parameters: { \"use_label_encoder\" } are not used.\n",
      "\n",
      "  warnings.warn(smsg, UserWarning)\n",
      "\n"
     ]
    },
    {
     "name": "stdout",
     "output_type": "stream",
     "text": [
      " 90%|██████████████████████████████████████████████████████      | 18/20 [00:11<00:00,  2.19trial/s, best loss: -0.901]"
     ]
    },
    {
     "name": "stderr",
     "output_type": "stream",
     "text": [
      "c:\\users\\анна\\appdata\\local\\programs\\python\\python39\\lib\\site-packages\\xgboost\\core.py:158: UserWarning: [13:49:41] WARNING: C:\\buildkite-agent\\builds\\buildkite-windows-cpu-autoscaling-group-i-06abd128ca6c1688d-1\\xgboost\\xgboost-ci-windows\\src\\context.cc:43: No visible GPU is found, setting device to CPU.\n",
      "  warnings.warn(smsg, UserWarning)\n",
      "\n",
      "c:\\users\\анна\\appdata\\local\\programs\\python\\python39\\lib\\site-packages\\xgboost\\core.py:158: UserWarning: [13:49:41] WARNING: C:\\buildkite-agent\\builds\\buildkite-windows-cpu-autoscaling-group-i-06abd128ca6c1688d-1\\xgboost\\xgboost-ci-windows\\src\\learner.cc:740: \n",
      "Parameters: { \"use_label_encoder\" } are not used.\n",
      "\n",
      "  warnings.warn(smsg, UserWarning)\n",
      "\n"
     ]
    },
    {
     "name": "stdout",
     "output_type": "stream",
     "text": [
      " 95%|█████████████████████████████████████████████████████████   | 19/20 [00:12<00:00,  1.74trial/s, best loss: -0.901]"
     ]
    },
    {
     "name": "stderr",
     "output_type": "stream",
     "text": [
      "c:\\users\\анна\\appdata\\local\\programs\\python\\python39\\lib\\site-packages\\xgboost\\core.py:158: UserWarning: [13:49:41] WARNING: C:\\buildkite-agent\\builds\\buildkite-windows-cpu-autoscaling-group-i-06abd128ca6c1688d-1\\xgboost\\xgboost-ci-windows\\src\\context.cc:43: No visible GPU is found, setting device to CPU.\n",
      "  warnings.warn(smsg, UserWarning)\n",
      "\n",
      "c:\\users\\анна\\appdata\\local\\programs\\python\\python39\\lib\\site-packages\\xgboost\\core.py:158: UserWarning: [13:49:41] WARNING: C:\\buildkite-agent\\builds\\buildkite-windows-cpu-autoscaling-group-i-06abd128ca6c1688d-1\\xgboost\\xgboost-ci-windows\\src\\learner.cc:740: \n",
      "Parameters: { \"use_label_encoder\" } are not used.\n",
      "\n",
      "  warnings.warn(smsg, UserWarning)\n",
      "\n"
     ]
    },
    {
     "name": "stdout",
     "output_type": "stream",
     "text": [
      "100%|████████████████████████████████████████████████████████████| 20/20 [00:12<00:00,  1.61trial/s, best loss: -0.901]\n",
      "Найкращі гіперпараметри:  {'colsample_bytree': 0.6057124746343694, 'gamma': 0.07239478252026871, 'learning_rate': 0.12650003756514877, 'max_depth': 5, 'min_child_weight': 4, 'n_estimators': 350, 'reg_alpha': 0.09130460865733458, 'reg_lambda': 0.1864183309890357, 'subsample': 0.6724589791149256}\n"
     ]
    },
    {
     "name": "stderr",
     "output_type": "stream",
     "text": [
      "c:\\users\\анна\\appdata\\local\\programs\\python\\python39\\lib\\site-packages\\xgboost\\core.py:158: UserWarning: [13:49:42] WARNING: C:\\buildkite-agent\\builds\\buildkite-windows-cpu-autoscaling-group-i-06abd128ca6c1688d-1\\xgboost\\xgboost-ci-windows\\src\\context.cc:43: No visible GPU is found, setting device to CPU.\n",
      "  warnings.warn(smsg, UserWarning)\n",
      "c:\\users\\анна\\appdata\\local\\programs\\python\\python39\\lib\\site-packages\\xgboost\\core.py:158: UserWarning: [13:49:42] WARNING: C:\\buildkite-agent\\builds\\buildkite-windows-cpu-autoscaling-group-i-06abd128ca6c1688d-1\\xgboost\\xgboost-ci-windows\\src\\learner.cc:740: \n",
      "Parameters: { \"use_label_encoder\" } are not used.\n",
      "\n",
      "  warnings.warn(smsg, UserWarning)\n"
     ]
    },
    {
     "name": "stdout",
     "output_type": "stream",
     "text": [
      "Точність на валідаційній вибірці: 0.8903\n"
     ]
    }
   ],
   "source": [
    "def objective(params):\n",
    "    clf = xgb.XGBClassifier(\n",
    "    n_estimators=int(params['n_estimators']),\n",
    "        learning_rate=params['learning_rate'],\n",
    "        max_depth=int(params['max_depth']),\n",
    "        min_child_weight=params['min_child_weight'],  # Мінімальна сума ваг всіх вибірок, необхідна в кінцевому вузлі\n",
    "        subsample=params['subsample'],  # Частка вибірок, що використовуються для побудови кожного дерева\n",
    "        colsample_bytree=params['colsample_bytree'],  # Частка ознак, що використовуються при побудові кожного дерева\n",
    "        gamma=params['gamma'],  # Мінімальне зменшення втрат, необхідне для виконання поділу\n",
    "        reg_alpha=params['reg_alpha'],  # Параметр регуляризації L1 (Lasso)\n",
    "        reg_lambda=params['reg_lambda'],  # Параметр регуляризації L2 (Ridge)\n",
    "        enable_categorical=True,\n",
    "        use_label_encoder=False,\n",
    "        missing=np.nan,\n",
    "        device='cuda',\n",
    "        early_stopping_rounds=10\n",
    "    )\n",
    "\n",
    "    clf.fit(\n",
    "        train_inputs,\n",
    "        train_targets,\n",
    "        eval_set=[(val_inputs, val_targets)],\n",
    "        verbose=False)\n",
    "    pred = clf.predict(val_inputs)\n",
    "    accuracy = accuracy_score(val_targets, pred)\n",
    "\n",
    "    return {'loss': -accuracy, 'status': STATUS_OK}\n",
    "\n",
    "# Простір гіперпараметрів\n",
    "space = {\n",
    "    'n_estimators': hp.quniform('n_estimators', 50, 500, 25),\n",
    "    'learning_rate': hp.uniform('learning_rate', 0.01, 0.3),\n",
    "    'max_depth': hp.quniform('max_depth', 3, 15, 1),\n",
    "    'min_child_weight': hp.quniform('min_child_weight', 1, 10, 1),\n",
    "    'subsample': hp.uniform('subsample', 0.5, 1.0),\n",
    "    'colsample_bytree': hp.uniform('colsample_bytree', 0.5, 1.0),\n",
    "    'gamma': hp.uniform('gamma', 0, 0.5),\n",
    "    'reg_alpha': hp.uniform('reg_alpha', 0, 1),\n",
    "    'reg_lambda': hp.uniform('reg_lambda', 0, 1)\n",
    "}\n",
    "\n",
    "# Оптимізація\n",
    "trials = Trials()\n",
    "best = fmin(fn=objective, space=space, algo=tpe.suggest, max_evals=20, trials=trials)\n",
    "\n",
    "# Перетворення значень гіперпараметрів у кінцеві типи\n",
    "best['n_estimators'] = int(best['n_estimators'])\n",
    "best['max_depth'] = int(best['max_depth'])\n",
    "best['min_child_weight'] = int(best['min_child_weight'])\n",
    "\n",
    "print(\"Найкращі гіперпараметри: \", best)\n",
    "\n",
    "# Навчання фінальної моделі з найкращими гіперпараметрами\n",
    "final_clf = xgb.XGBClassifier(\n",
    "    n_estimators=best['n_estimators'],\n",
    "    learning_rate=best['learning_rate'],\n",
    "    max_depth=best['max_depth'],\n",
    "    min_child_weight=best['min_child_weight'],\n",
    "    subsample=best['subsample'],\n",
    "    colsample_bytree=best['colsample_bytree'],\n",
    "    gamma=best['gamma'],\n",
    "    reg_alpha=best['reg_alpha'],\n",
    "    reg_lambda=best['reg_lambda'],\n",
    "    enable_categorical=True,\n",
    "    use_label_encoder=False,\n",
    "    missing=np.nan,\n",
    "    device='cuda',\n",
    ")\n",
    "\n",
    "final_clf.fit(train_inputs, train_targets)\n",
    "final_pred = final_clf.predict(val_inputs)\n",
    "final_accuracy = accuracy_score(val_targets, final_pred)\n",
    "print(\"Точність на валідаційній вибірці: {:.4f}\".format(final_accuracy))"
   ]
  },
  {
   "cell_type": "markdown",
   "metadata": {},
   "source": [
    "Порівняно із завданням 2 дана модель спрацювала гірше"
   ]
  },
  {
   "cell_type": "markdown",
   "metadata": {
    "id": "Vg77SVWrBBmU"
   },
   "source": [
    "4. Навчіть на наших даних модель LightGBM. Параметри алгоритму встановіть на свій розсуд, ми далі будемо їх тюнити. Рекомендую тренувати не дуже складну модель.\n",
    "\n",
    "  Опис всіх конфігураційних параметрів LightGBM - тут https://lightgbm.readthedocs.io/en/latest/Parameters.html\n",
    "\n",
    "  **Важливо:** зробіть такі налаштування LightGBM аби він самостійно обробляв незаповнені значення в даних і обробляв категоріальні колонки.\n",
    "\n",
    "  Аби передати категоріальні колонки в LightGBM - необхідно виявити їх індекси і передати в параметрі `cat_feature=cat_feature_indexes`\n",
    "\n",
    "  Після тренування моделі\n",
    "  1. Виміряйте точність з допомогою AUROC на тренувальному та валідаційному наборах.\n",
    "  2. Зробіть висновок про отриману модель: вона хороша/погана, чи є high bias/high variance?\n",
    "  3. Порівняйте якість цієї моделі з тою, що ви отрмали з використанням XGBoostClassifier раніше. Чи вийшло покращити якість?"
   ]
  },
  {
   "cell_type": "code",
   "execution_count": 13,
   "metadata": {
    "id": "C-9aZn4d45No"
   },
   "outputs": [],
   "source": [
    "# Визначення індексів категоріальних ознак\n",
    "cat_features = [i for i, t in enumerate(train_inputs.dtypes) if t == 'object' or t == 'category']"
   ]
  },
  {
   "cell_type": "code",
   "execution_count": 14,
   "metadata": {},
   "outputs": [
    {
     "name": "stdout",
     "output_type": "stream",
     "text": [
      "[10]\ttraining's auc: 0.943191\tvalid_1's auc: 0.932983\n",
      "[20]\ttraining's auc: 0.954158\tvalid_1's auc: 0.93315\n",
      "[30]\ttraining's auc: 0.964255\tvalid_1's auc: 0.934412\n",
      "[40]\ttraining's auc: 0.971325\tvalid_1's auc: 0.935238\n",
      "[50]\ttraining's auc: 0.977523\tvalid_1's auc: 0.934235\n",
      "[60]\ttraining's auc: 0.981673\tvalid_1's auc: 0.933268\n",
      "[70]\ttraining's auc: 0.985126\tvalid_1's auc: 0.932447\n",
      "[80]\ttraining's auc: 0.987917\tvalid_1's auc: 0.931197\n",
      "[90]\ttraining's auc: 0.990171\tvalid_1's auc: 0.93103\n",
      "[100]\ttraining's auc: 0.992002\tvalid_1's auc: 0.930693\n"
     ]
    }
   ],
   "source": [
    "# Налаштування параметрів\n",
    "params = {\n",
    "    'objective': 'binary',  # Для бінарної класифікації\n",
    "    'metric': 'auc',  # Оцінюємо за AUC-ROC\n",
    "    'verbosity': -1,  # Вимкнути виведення інформації\n",
    "    'num_leaves': 31,  # Максимальна кількість листів в дереві\n",
    "    'learning_rate': 0.1,  # Швидкість навчання\n",
    "    'feature_fraction': 0.9,  # Частка ознак, що використовуються для кожного дерева\n",
    "    'bagging_fraction': 0.8,  # Частка спостережень, що використовуються для кожного дерева\n",
    "    # LightGBM автоматично обробляє відсутні значення та категоріальні ознаки\n",
    "}\n",
    "\n",
    "# Перетворення даних в формат LightGBM\n",
    "train_data = lgb.Dataset(train_inputs, label=train_targets, categorical_feature=cat_features)\n",
    "val_data = lgb.Dataset(val_inputs, label=val_targets, categorical_feature=cat_features)\n",
    "\n",
    "# Навчання моделі\n",
    "gbm = lgb.train(params,\n",
    "                train_data,\n",
    "                num_boost_round=100,\n",
    "                valid_sets=[train_data, val_data],\n",
    "                callbacks=[log_evaluation(period=10)])"
   ]
  },
  {
   "cell_type": "code",
   "execution_count": 15,
   "metadata": {},
   "outputs": [
    {
     "name": "stdout",
     "output_type": "stream",
     "text": [
      "Train AUC: 0.9920021888006822\n",
      "Val AUC: 0.9306927772823924\n"
     ]
    }
   ],
   "source": [
    "# Прогнози на тренувальному та валідаційному наборах\n",
    "y_train_pred = gbm.predict(train_inputs)\n",
    "y_val_pred = gbm.predict(val_inputs)\n",
    "\n",
    "# Розрахунок AUC-ROC\n",
    "train_auc = roc_auc_score(train_targets, y_train_pred)\n",
    "val_auc = roc_auc_score(val_targets, y_val_pred)\n",
    "\n",
    "print('Train AUC:', train_auc)\n",
    "print('Val AUC:', val_auc)"
   ]
  },
  {
   "cell_type": "markdown",
   "metadata": {},
   "source": [
    "Маємо значно кращі результати роботи моделі. **На даний момент це найкращий результат**"
   ]
  },
  {
   "cell_type": "markdown",
   "metadata": {
    "id": "nCnkGD_sEW1i"
   },
   "source": [
    "5. Використовуючи бібліотеку `Hyperopt` і приклад пошуку гіперпараметрів для `LightGBM` з лекції знайдіть оптимальні значення гіперпараметрів `LightGBM` для нашої задачі. Задайте свою сітку гіперпараметрів виходячи з тих параметрів, які ви б хотіли перебрати. Поставте кількість раундів в підборі гіперпараметрів рівну **10**.\n",
    "\n",
    "  **Увага!** Для того, аби скористатись hyperopt, нам треба задати функцію `objective`. І тут ми також ставимо loss - негативне значення AUROC, як і при пошуці гіперпараметрів для XGBoost. До речі, можна спробувати написати код так, аби в objective передавати лише модель і не писати схожий код двічі :)\n",
    "\n",
    "  Після успішного завершення пошуку оптимальних гіперпараметрів\n",
    "    - виведіть найкращі значення гіперпараметрів\n",
    "    - створіть в окремій зміній `final_lgb_clf` модель `LightGBM` з найкращими гіперпараметрами\n",
    "    - навчіть модель `final_lgb_clf`\n",
    "    - оцініть якість моделі `final_lgb_clf` на тренувальній і валідаційній вибірках з допомогою AUROC.\n",
    "    - зробіть висновок про якість моделі. Чи стала вона краще порівняно з попереднім пунктом (4) цього завдання?"
   ]
  },
  {
   "cell_type": "code",
   "execution_count": 16,
   "metadata": {},
   "outputs": [
    {
     "name": "stdout",
     "output_type": "stream",
     "text": [
      "100%|███████████████████████████████████████████████| 10/10 [00:10<00:00,  1.01s/trial, best loss: -0.8943333333333333]\n",
      "Найкращі гіперпараметри:  {'colsample_bytree': 0.7123387514249047, 'learning_rate': 0.037479247574000916, 'max_depth': 12, 'min_child_weight': 4, 'min_split_gain': 0.09355271846666924, 'n_estimators': 150, 'num_leaves': 130, 'reg_alpha': 0.1454515838586502, 'reg_lambda': 0.4193471648161927, 'subsample': 0.9011648616364027}\n",
      "Точність на валідаційній вибірці: 0.8943\n"
     ]
    }
   ],
   "source": [
    "def objective(params):\n",
    "    clf = lgb.LGBMClassifier(\n",
    "        n_estimators=int(params['n_estimators']),  # Кількість дерев у ансамблі (кількість ітерацій бустингу)\n",
    "        learning_rate=params['learning_rate'],  # Коефіцієнт, на який зменшується внесок кожного доданого дерева\n",
    "        max_depth=int(params['max_depth']),  # Максимальна глибина кожного дерева\n",
    "        num_leaves=int(params['num_leaves']),  # Максимальна кількість листків, що дозволяємо кожному дереву мати.\n",
    "        min_child_weight=params['min_child_weight'],  # Мінімальна сума ваг всіх вибірок, необхідна в кінцевому вузлі\n",
    "        subsample=params['subsample'],  # Частка вибірок, що використовуються для побудови кожного дерева\n",
    "        colsample_bytree=params['colsample_bytree'],  # Частка ознак, що використовуються при побудові кожного дерева\n",
    "        reg_alpha=params['reg_alpha'],  # Параметр регуляризації L1 (Lasso)\n",
    "        reg_lambda=params['reg_lambda'],  # Параметр регуляризації L2 (Ridge)\n",
    "        min_split_gain=params['min_split_gain'],  # Мінімальне зменшення втрат, необхідне для виконання поділу\n",
    "        cat_feature=cat_features  # Індекси категорійних ознак\n",
    "    )\n",
    "\n",
    "    clf.fit(train_inputs, train_targets, eval_set=[(val_inputs, val_targets)])\n",
    "    pred = clf.predict(val_inputs)\n",
    "    accuracy = accuracy_score(val_targets, pred)\n",
    "\n",
    "    return {'loss': -accuracy, 'status': STATUS_OK}\n",
    "\n",
    "# Простір гіперпараметрів\n",
    "space = {\n",
    "    'n_estimators': hp.quniform('n_estimators', 50, 500, 25),\n",
    "    'learning_rate': hp.uniform('learning_rate', 0.01, 0.3),\n",
    "    'max_depth': hp.quniform('max_depth', 3, 15, 1),\n",
    "    'num_leaves': hp.quniform('num_leaves', 20, 150, 1),\n",
    "    'min_child_weight': hp.quniform('min_child_weight', 1, 10, 1),\n",
    "    'subsample': hp.uniform('subsample', 0.5, 1.0),\n",
    "    'colsample_bytree': hp.uniform('colsample_bytree', 0.5, 1.0),\n",
    "    'reg_alpha': hp.uniform('reg_alpha', 0, 1),\n",
    "    'reg_lambda': hp.uniform('reg_lambda', 0, 1),\n",
    "    'min_split_gain': hp.uniform('min_split_gain', 0, 0.1)  # додано мінімальне зменшення втрат для поділу\n",
    "}\n",
    "\n",
    "# Оптимізація\n",
    "trials = Trials()\n",
    "best = fmin(fn=objective, space=space, algo=tpe.suggest, max_evals=10, trials=trials)\n",
    "\n",
    "# Перетворення значень гіперпараметрів у кінцеві типи\n",
    "best['n_estimators'] = int(best['n_estimators'])\n",
    "best['max_depth'] = int(best['max_depth'])\n",
    "best['num_leaves'] = int(best['num_leaves'])\n",
    "best['min_child_weight'] = int(best['min_child_weight'])\n",
    "\n",
    "print(\"Найкращі гіперпараметри: \", best)\n",
    "\n",
    "# Навчання фінальної моделі з найкращими гіперпараметрами\n",
    "final_clf = lgb.LGBMClassifier(\n",
    "    n_estimators=best['n_estimators'],\n",
    "    learning_rate=best['learning_rate'],\n",
    "    max_depth=best['max_depth'],\n",
    "    num_leaves=best['num_leaves'],\n",
    "    min_child_weight=best['min_child_weight'],\n",
    "    subsample=best['subsample'],\n",
    "    colsample_bytree=best['colsample_bytree'],\n",
    "    reg_alpha=best['reg_alpha'],\n",
    "    reg_lambda=best['reg_lambda'],\n",
    "    min_split_gain=best['min_split_gain'],\n",
    "    cat_feature=cat_features,\n",
    "    missing=np.nan\n",
    ")\n",
    "\n",
    "final_clf.fit(train_inputs, train_targets, eval_set=[(val_inputs, val_targets)])\n",
    "final_pred = final_clf.predict(val_inputs)\n",
    "final_accuracy = accuracy_score(val_targets, final_pred)\n",
    "\n",
    "print(\"Точність на валідаційній вибірці: {:.4f}\".format(final_accuracy))\n"
   ]
  },
  {
   "cell_type": "markdown",
   "metadata": {},
   "source": [
    "На даному експерименті ми отримали гірші результати, ніж експерименти раніше"
   ]
  },
  {
   "cell_type": "markdown",
   "metadata": {
    "id": "XArADR2CG8VK"
   },
   "source": [
    "6. Оберіть модель з експериментів в цьому ДЗ і зробіть новий `submission` на Kaggle та додайте код для цього і скріншот скора на публічному лідерборді.\n",
    "  \n",
    "  **Напишіть коментар, чому ви обрали саме цю модель?**\n",
    "\n",
    "  І я вас вітаю - це останнє завдання з цим набором даних 💪 На цьому етапі корисно проаналізувати, які моделі показали себе найкраще і подумати, чому."
   ]
  },
  {
   "cell_type": "markdown",
   "metadata": {
    "id": "COIjJH9f5SSp"
   },
   "source": [
    "Найкращий результат ми отримали в експерименті 4 з моделлю LightGBM. Саме цей результат ми і засабмішимо у змаганні."
   ]
  },
  {
   "cell_type": "code",
   "execution_count": 17,
   "metadata": {},
   "outputs": [],
   "source": [
    "test_inputs = pd.read_csv('test.csv')\n",
    "\n",
    "cat_features = test_inputs.select_dtypes(include='object').columns\n",
    "test_inputs[cat_features] = test_inputs[cat_features].astype('category')\n",
    "\n",
    "y_test_pred = gbm.predict(test_inputs)"
   ]
  },
  {
   "cell_type": "code",
   "execution_count": 18,
   "metadata": {},
   "outputs": [],
   "source": [
    "# Перетворюємо масив в Series\n",
    "test_preds_df = pd.DataFrame()\n",
    "test_preds_df = test_preds_df.assign(Exited=y_test_pred)\n",
    "\n",
    "# Об'єднуємо DataFrame и Series\n",
    "Final = pd.concat([test_inputs, test_preds_df], axis=1)\n",
    "\n",
    "#залишаємо для завантаження на Kaggle лише CustomerId і Exited\n",
    "Final = Final[['id', 'Exited']]"
   ]
  },
  {
   "cell_type": "code",
   "execution_count": 19,
   "metadata": {},
   "outputs": [],
   "source": [
    "Final.to_csv('submission .csv', index=False)"
   ]
  },
  {
   "cell_type": "code",
   "execution_count": 20,
   "metadata": {},
   "outputs": [
    {
     "name": "stdout",
     "output_type": "stream",
     "text": [
      "Мій Score на Leaderbord :-)\n"
     ]
    },
    {
     "data": {
      "image/jpeg": "[encoded data removed]",
      "text/plain": [
       "<IPython.core.display.Image object>"
      ]
     },
     "execution_count": 20,
     "metadata": {
      "image/jpeg": {
       "height": 1240,
       "width": 1320
      }
     },
     "output_type": "execute_result"
    }
   ],
   "source": [
    "from IPython.display import Image\n",
    "print('Мій Score на Leaderbord :-)')\n",
    "Image(\"Screenshot_3.jpg\", width=1320, height=1240) "
   ]
  },
  {
   "cell_type": "code",
   "execution_count": null,
   "metadata": {},
   "outputs": [],
   "source": []
  }
 ],
 "metadata": {
  "accelerator": "GPU",
  "colab": {
   "gpuType": "T4",
   "provenance": []
  },
  "kernelspec": {
   "display_name": "Python 3 (ipykernel)",
   "language": "python",
   "name": "python3"
  },
  "language_info": {
   "codemirror_mode": {
    "name": "ipython",
    "version": 3
   },
   "file_extension": ".py",
   "mimetype": "text/x-python",
   "name": "python",
   "nbconvert_exporter": "python",
   "pygments_lexer": "ipython3",
   "version": "3.9.0"
  }
 },
 "nbformat": 4,
 "nbformat_minor": 4
}

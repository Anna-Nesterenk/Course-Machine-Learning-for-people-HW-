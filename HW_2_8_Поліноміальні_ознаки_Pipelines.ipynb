{
 "cells": [
  {
   "cell_type": "markdown",
   "metadata": {
    "id": "gJ2A6t3mdEed"
   },
   "source": [
    "В цьому домашньому завданні ми проведемо додаткові експерименти для рішення задачі бінарної класифікації і створимо ваш новий submission на змагання на Kaggle.\n",
    "\n",
    "-----------\n",
    "\n",
    "\n",
    "**Завдання 0**. Завантажте дані `train.csv`, `test.csv`, `sample_submission.csv` зі змагання на Kaggle [\"Bank Customer Churn Prediction (DLU Course)\"](https://www.kaggle.com/t/7c080c5d8ec64364a93cf4e8f880b6a0). Для завантаження потрібно долучитись до змагання (натиснути кнопку \"Join\").\n",
    "\n",
    "**Завдання 1**. **Збираємо весь код з попереднього ДЗ в одному місці.** В лекційному ноутбуці `Логістична регресія з ScikitLearn. Повна ML задача.ipynb` ми познайомились з поняттям пайплайнів, а також я показала, як компактно виглядає рішення МЛ задачі, якщо ми зберемо весь код разом.\n",
    "\n",
    "Оскільки ми далі будемо робити експерименти, які включають ті самі етапи попередньої обробки, але інше моделювання - буде зручно мати весь код компактно і під рукою. Тому зараз ми займемось збором коду до купи :) Після цього завдання для подальших експериментів ви можете перенести частини розвʼязку взагалі в окремий `.py` файл, аби було зручно імпортувати функції.\n",
    "\n",
    "Зі свого рішення в попередньому домашньому завданні (`Логістична регресія з scikit learn.ipynb`) зберіть усі кроки розвʼязку задачі разом з використанням `sklearn.Pipeline` за прикладом з лекції.\n",
    "\n",
    "Ваш код нижче має містити\n",
    "1. Читання даних з файлу (поза пайплайном).\n",
    "2. Розбиття на тренувальний і валідаційний набори, де валідаційний містить 20% даних (поза пайплайном).\n",
    "3. Виділення категоріальних і числових колонок (поза пайплайном).\n",
    "4. Підготовку категоріальних і числових колонок (частина пайплайну). В прикладі в лекції ми оформлювали обробку числових і категоріальних колонок в окремі трансформери `numeric_transformer`, `categorical_cols`. Рекоемндую зробити саме так, так потім зручніше вносити зміни :)\n",
    "5. Тренування лог регресії (частина пайплайну).\n",
    "6. Запуск пайплайну на тренування на трен. даних (поза пайплайном).\n",
    "7. Запуск пайплайну на передбачення на трен і вал. даних і вимір метрик якості ROC-AUC + вивдення Confusion Matrix (поза пайплайном).\n",
    "8. Збереження моделі в формат joblib (поза пайплайном).\n",
    "\n",
    "Ви це все вже зробили в попереднтьому ДЗ! Тож, тут просто заадча все зібрати разом.\n",
    "\n",
    "Нижче я додала підказки, що покроково ви маєте зробити. Якщо ви почуваєтесь впевнено, можете видалити ці підказки і реалізувати все самостійно, або ж - просто заповнити пропуски.\n",
    "\n",
    "Завдання оцінюється в 10 балів. Головний результат - аби код в фіналі був робочий. Бо за не робочий нам гроші ніхто не заплатить :)"
   ]
  },
  {
   "cell_type": "markdown",
   "metadata": {},
   "source": [
    "**Імпортуємо необхідні бібліотеки:**"
   ]
  },
  {
   "cell_type": "code",
   "execution_count": 3,
   "metadata": {},
   "outputs": [],
   "source": [
    "import pandas as pd\n",
    "import numpy as np\n",
    "from sklearn.model_selection import train_test_split\n",
    "from sklearn.preprocessing import OneHotEncoder, LabelEncoder\n",
    "from sklearn.preprocessing import MinMaxScaler\n",
    "from sklearn.linear_model import LogisticRegression\n",
    "from sklearn.metrics import confusion_matrix\n",
    "from sklearn.metrics import roc_curve, auc\n",
    "from sklearn.pipeline import Pipeline\n",
    "from sklearn.compose import ColumnTransformer\n",
    "import matplotlib.pyplot as plt\n",
    "import seaborn as sns\n",
    "import joblib\n",
    "from sklearn.preprocessing import PolynomialFeatures\n",
    "from sklearn.linear_model import LinearRegression\n",
    "from sklearn.metrics import mean_squared_error\n",
    "from sklearn.linear_model import Lasso, Ridge, ElasticNet"
   ]
  },
  {
   "cell_type": "code",
   "execution_count": 4,
   "metadata": {
    "id": "0LZialdo4IPZ",
    "scrolled": true
   },
   "outputs": [
    {
     "name": "stdout",
     "output_type": "stream",
     "text": [
      "Area under ROC score on Train dataset: 0.81%\n"
     ]
    },
    {
     "data": {
      "image/png": "[encoded data removed]",
      "text/plain": [
       "<Figure size 432x288 with 2 Axes>"
      ]
     },
     "metadata": {
      "needs_background": "light"
     },
     "output_type": "display_data"
    },
    {
     "name": "stdout",
     "output_type": "stream",
     "text": [
      "Area under ROC score on Validation dataset: 0.75%\n"
     ]
    },
    {
     "data": {
      "image/png": "[encoded data removed]",
      "text/plain": [
       "<Figure size 432x288 with 2 Axes>"
      ]
     },
     "metadata": {
      "needs_background": "light"
     },
     "output_type": "display_data"
    },
    {
     "data": {
      "text/plain": [
       "['HW_2.8.joblib']"
      ]
     },
     "execution_count": 4,
     "metadata": {},
     "output_type": "execute_result"
    }
   ],
   "source": [
    "start_test_df = pd.read_csv('test.csv') # завантажуємо тестовий набір даних\n",
    "start_train_df = pd.read_csv('train.csv') # завантажуємо трейновий набір даних\n",
    "\n",
    "#Оскільки подальшу роботу ми будемо вести використовучи id клієнта, то колонку Surname і CustomerId видалимо як зайві і ту, що не несут інформаційного навантаження\n",
    "columns_to_drop = ['Surname', 'CustomerId']\n",
    "start_test_df = start_test_df.drop(columns_to_drop, axis=1)\n",
    "start_train_df = start_train_df.drop(columns_to_drop, axis=1)\n",
    "\n",
    "#id має числовий формат, а це є не логічно і не оптимально з точки зору розміру даних. Змінимо тип даних в колонці на str\n",
    "start_train_df['id'] = start_train_df['id'].astype(\"str\")\n",
    "start_test_df['id'] = start_test_df['id'].astype(\"str\")\n",
    "\n",
    "\n",
    "train_df, val_df = train_test_split(start_train_df, test_size=0.2, random_state=42)\n",
    "\n",
    "# Створюємо трен. і вал. набори\n",
    "input_cols = list(train_df.columns)[:-1]\n",
    "target_col = 'Exited'\n",
    "train_inputs, train_targets = train_df[input_cols], train_df[target_col]\n",
    "val_inputs, val_targets = val_df[input_cols], val_df[target_col]\n",
    "\n",
    "# Виявляємо числові і категоріальні колонки\n",
    "numeric_cols =  train_inputs.select_dtypes(include=np.number).columns.tolist()\n",
    "categorical_cols = train_inputs.select_dtypes(include='object').columns.tolist()\n",
    "\n",
    "# Створюємо трансформери для числових і категоріальних колонок\n",
    "numeric_transformer = Pipeline(steps=[\n",
    "    ('scaler', MinMaxScaler())\n",
    "])\n",
    "\n",
    "categorical_transformer = Pipeline(steps=[\n",
    "    ('onehot', OneHotEncoder(sparse=False, handle_unknown='ignore'))\n",
    "])\n",
    "\n",
    "# Комбінуємо трансформери для різних типів колонок в один препроцесор\n",
    "preprocessor = ColumnTransformer(\n",
    "    transformers=[\n",
    "        ('num', numeric_transformer, numeric_cols),\n",
    "        ('cat', categorical_transformer, categorical_cols)\n",
    "    ])\n",
    "\n",
    "# Стоврюємо пайплайн, який спочатку запускає препроцесинг, потім тренуєм модель\n",
    "model_pipeline = Pipeline(steps=[\n",
    "    ('preprocessor', preprocessor),\n",
    "    ('classifier', LogisticRegression(solver='liblinear'))\n",
    "])\n",
    "\n",
    "# Тренуємо пайплайн\n",
    "model_pipeline.fit(train_inputs, train_targets)\n",
    "\n",
    "# Функція, щоб передбачати і рахувати метрики\n",
    "def predict_and_plot(model_pipeline, inputs, targets, name=''):\n",
    "    preds = model_pipeline.predict(inputs)\n",
    "    fpr, tpr, thresholds = roc_curve(targets, preds)\n",
    "    roc_auc = auc(fpr, tpr)\n",
    "    print(f\"Area under ROC score on {name} dataset: {roc_auc:.2f}%\")\n",
    "    confusion_matrix_ = confusion_matrix(targets, preds, normalize='true')\n",
    "    plt.figure()\n",
    "    sns.heatmap(confusion_matrix_, annot=True, cmap='Blues')\n",
    "    plt.xlabel('Prediction')\n",
    "    plt.ylabel('Target')\n",
    "    plt.title('{} Confusion Matrix'.format(name))\n",
    "    plt.show()\n",
    "    return preds\n",
    "\n",
    "# Оцінюємо модель на трен і вал даних\n",
    "train_preds = predict_and_plot(model_pipeline, train_inputs, train_targets, 'Train')\n",
    "val_preds = predict_and_plot(model_pipeline, val_inputs, val_targets, 'Validation')\n",
    "\n",
    "# Зберігаємо модель для подальшого використання\n",
    "joblib.dump(model_pipeline, 'HW_2.8.joblib')"
   ]
  },
  {
   "cell_type": "markdown",
   "metadata": {
    "id": "PXrc2NCa5lAK"
   },
   "source": [
    "**Завдання 2**. Такс, у нас з вами є вже готовий пайплайн. Давайте проведемо нові експерименти.\n",
    "\n",
    "  Додайте в попередню обробку числових колонок генерацію polinomal features до степені 2 включно. Для цього створіть новий препроцесор і створіть новий пайплайн.\n",
    "\n",
    "  Запустіть пайплайн на тренування і виведіть метрики для тренувального і валідаційного набору. Напишіть, як вам модель? Чи спостерігається в цій моделі overfit чи underfit? Чи ця модель добре генералізує?"
   ]
  },
  {
   "cell_type": "code",
   "execution_count": 6,
   "metadata": {
    "id": "TjcmWMTOOjJ1"
   },
   "outputs": [
    {
     "name": "stdout",
     "output_type": "stream",
     "text": [
      "Area under ROC score on Train dataset: 0.84%\n"
     ]
    },
    {
     "data": {
      "image/png": "[encoded data removed]",
      "text/plain": [
       "<Figure size 432x288 with 2 Axes>"
      ]
     },
     "metadata": {
      "needs_background": "light"
     },
     "output_type": "display_data"
    },
    {
     "name": "stdout",
     "output_type": "stream",
     "text": [
      "Area under ROC score on Validation dataset: 0.78%\n"
     ]
    },
    {
     "data": {
      "image/png": "[encoded data removed]",
      "text/plain": [
       "<Figure size 432x288 with 2 Axes>"
      ]
     },
     "metadata": {
      "needs_background": "light"
     },
     "output_type": "display_data"
    }
   ],
   "source": [
    "poly_features = PolynomialFeatures(degree=2, include_bias=False)\n",
    "\n",
    "numeric_transformer_2 = Pipeline(steps=[\n",
    "    ('scaler', MinMaxScaler()),\n",
    "    ('poly_features', poly_features)\n",
    "])\n",
    "\n",
    "preprocessor_2 = ColumnTransformer(\n",
    "    transformers=[\n",
    "        ('num', numeric_transformer_2, numeric_cols),\n",
    "        ('cat', categorical_transformer, categorical_cols)\n",
    "        ])\n",
    "\n",
    "model_pipeline_2 = Pipeline(steps=[\n",
    "    ('preprocessor_2', preprocessor_2),\n",
    "    ('classifier', LogisticRegression(solver='liblinear'))\n",
    "])\n",
    "\n",
    "model_pipeline_2.fit(train_inputs, train_targets)\n",
    "\n",
    "# Оцінюємо модель на трен і вал даних\n",
    "train_preds_2 = predict_and_plot(model_pipeline_2, train_inputs, train_targets, 'Train')\n",
    "val_preds_2 = predict_and_plot(model_pipeline_2, val_inputs, val_targets, 'Validation')"
   ]
  },
  {
   "cell_type": "markdown",
   "metadata": {},
   "source": [
    "**Висновок:**\n",
    "Спостерігаємо покращення результатів моделі при введені поліноміальних ознак. Але спостерігається перенавчання, це ми можемо бачити по більш високому показнику ROC score на трейнових даних ніж на валідаційних"
   ]
  },
  {
   "cell_type": "markdown",
   "metadata": {
    "id": "tkmEmHaP8Pen"
   },
   "source": [
    "**Завдання 3**. Тепер давайте створимо ще новий пайплайн, тільки тепер поліноміальні ознаки згенеруємо до степені 4. Зробіть висновок про якість моделі. Якщо вам подобається резульат якоїсь з моделей в цьому ДЗ - рекомендую зробити submission в змаганні."
   ]
  },
  {
   "cell_type": "code",
   "execution_count": 9,
   "metadata": {
    "id": "OsT-MDWuOkDY"
   },
   "outputs": [
    {
     "name": "stdout",
     "output_type": "stream",
     "text": [
      "Area under ROC score on Train dataset: 0.87%\n"
     ]
    },
    {
     "data": {
      "image/png": "[encoded data removed]",
      "text/plain": [
       "<Figure size 432x288 with 2 Axes>"
      ]
     },
     "metadata": {
      "needs_background": "light"
     },
     "output_type": "display_data"
    },
    {
     "name": "stdout",
     "output_type": "stream",
     "text": [
      "Area under ROC score on Validation dataset: 0.80%\n"
     ]
    },
    {
     "data": {
      "image/png": "[encoded data removed]",
      "text/plain": [
       "<Figure size 432x288 with 2 Axes>"
      ]
     },
     "metadata": {
      "needs_background": "light"
     },
     "output_type": "display_data"
    }
   ],
   "source": [
    "poly_features_2 = PolynomialFeatures(degree=4, include_bias=False)\n",
    "\n",
    "numeric_transformer_3 = Pipeline(steps=[\n",
    "    ('scaler', MinMaxScaler()),\n",
    "    ('poly_features', poly_features_2)\n",
    "])\n",
    "\n",
    "preprocessor_3 = ColumnTransformer(\n",
    "    transformers=[\n",
    "        ('num', numeric_transformer_3, numeric_cols),\n",
    "        ('cat', categorical_transformer, categorical_cols)\n",
    "        ])\n",
    "\n",
    "model_pipeline_3 = Pipeline(steps=[\n",
    "    ('preprocessor_2', preprocessor_3),\n",
    "    ('classifier', LogisticRegression(solver='liblinear'))\n",
    "])\n",
    "\n",
    "model_pipeline_3.fit(train_inputs, train_targets)\n",
    "\n",
    "# Оцінюємо модель на трен і вал даних\n",
    "train_preds_3 = predict_and_plot(model_pipeline_3, train_inputs, train_targets, 'Train')\n",
    "val_preds_3 = predict_and_plot(model_pipeline_3, val_inputs, val_targets, 'Validation')"
   ]
  },
  {
   "cell_type": "markdown",
   "metadata": {},
   "source": [
    "**Висновок:**\n",
    "Зі збільшенням поліноміальних ознак ми бачимо, що якість моделі підвищується, але залишається перенавчання."
   ]
  },
  {
   "cell_type": "markdown",
   "metadata": {
    "id": "ozN2ONZGCBS6"
   },
   "source": [
    "**Завдання 4. Перенавчання і регуляризація**.\n",
    "\n",
    "  Скачайте набір даних `regression_data.csv`. Звичайте набір даних з `regression_data.csv`, розбийте на train і test (в тест 20%) і натренуйте модель лінійної регресії з масштабуванням числових ознак і поліноміальними ознаками до степені **5 включно**.\n",
    "\n",
    "  Виміряйте якість прогностичної моделі і зробіть висновок, чи модель хороша, чи вона добре генералізує?\n"
   ]
  },
  {
   "cell_type": "code",
   "execution_count": 12,
   "metadata": {},
   "outputs": [
    {
     "data": {
      "text/html": [
       "<div>\n",
       "<style scoped>\n",
       "    .dataframe tbody tr th:only-of-type {\n",
       "        vertical-align: middle;\n",
       "    }\n",
       "\n",
       "    .dataframe tbody tr th {\n",
       "        vertical-align: top;\n",
       "    }\n",
       "\n",
       "    .dataframe thead th {\n",
       "        text-align: right;\n",
       "    }\n",
       "</style>\n",
       "<table border=\"1\" class=\"dataframe\">\n",
       "  <thead>\n",
       "    <tr style=\"text-align: right;\">\n",
       "      <th></th>\n",
       "      <th>feature_1</th>\n",
       "      <th>feature_2</th>\n",
       "      <th>feature_3</th>\n",
       "      <th>feature_4</th>\n",
       "      <th>feature_5</th>\n",
       "      <th>target</th>\n",
       "    </tr>\n",
       "  </thead>\n",
       "  <tbody>\n",
       "    <tr>\n",
       "      <th>0</th>\n",
       "      <td>-0.190339</td>\n",
       "      <td>-1.382800</td>\n",
       "      <td>-0.875618</td>\n",
       "      <td>0.538910</td>\n",
       "      <td>-1.037246</td>\n",
       "      <td>28.938854</td>\n",
       "    </tr>\n",
       "    <tr>\n",
       "      <th>1</th>\n",
       "      <td>-0.321386</td>\n",
       "      <td>-0.563725</td>\n",
       "      <td>0.412931</td>\n",
       "      <td>-0.147057</td>\n",
       "      <td>-0.825497</td>\n",
       "      <td>-7.664581</td>\n",
       "    </tr>\n",
       "    <tr>\n",
       "      <th>2</th>\n",
       "      <td>2.122156</td>\n",
       "      <td>-1.519370</td>\n",
       "      <td>1.032465</td>\n",
       "      <td>-1.260884</td>\n",
       "      <td>0.917862</td>\n",
       "      <td>-63.845482</td>\n",
       "    </tr>\n",
       "    <tr>\n",
       "      <th>3</th>\n",
       "      <td>-1.380101</td>\n",
       "      <td>-0.055548</td>\n",
       "      <td>-1.703382</td>\n",
       "      <td>0.074095</td>\n",
       "      <td>1.628616</td>\n",
       "      <td>4.076259</td>\n",
       "    </tr>\n",
       "    <tr>\n",
       "      <th>4</th>\n",
       "      <td>-0.072829</td>\n",
       "      <td>-1.514847</td>\n",
       "      <td>-0.846794</td>\n",
       "      <td>0.714000</td>\n",
       "      <td>0.473238</td>\n",
       "      <td>34.879013</td>\n",
       "    </tr>\n",
       "  </tbody>\n",
       "</table>\n",
       "</div>"
      ],
      "text/plain": [
       "   feature_1  feature_2  feature_3  feature_4  feature_5     target\n",
       "0  -0.190339  -1.382800  -0.875618   0.538910  -1.037246  28.938854\n",
       "1  -0.321386  -0.563725   0.412931  -0.147057  -0.825497  -7.664581\n",
       "2   2.122156  -1.519370   1.032465  -1.260884   0.917862 -63.845482\n",
       "3  -1.380101  -0.055548  -1.703382   0.074095   1.628616   4.076259\n",
       "4  -0.072829  -1.514847  -0.846794   0.714000   0.473238  34.879013"
      ]
     },
     "execution_count": 12,
     "metadata": {},
     "output_type": "execute_result"
    }
   ],
   "source": [
    "start_df = pd.read_csv('regression_data.csv') # завантажуємо набір даних\n",
    "start_df.head(5)"
   ]
  },
  {
   "cell_type": "code",
   "execution_count": 13,
   "metadata": {},
   "outputs": [
    {
     "name": "stdout",
     "output_type": "stream",
     "text": [
      "<class 'pandas.core.frame.DataFrame'>\n",
      "RangeIndex: 129 entries, 0 to 128\n",
      "Data columns (total 6 columns):\n",
      " #   Column     Non-Null Count  Dtype  \n",
      "---  ------     --------------  -----  \n",
      " 0   feature_1  129 non-null    float64\n",
      " 1   feature_2  129 non-null    float64\n",
      " 2   feature_3  129 non-null    float64\n",
      " 3   feature_4  129 non-null    float64\n",
      " 4   feature_5  129 non-null    float64\n",
      " 5   target     129 non-null    float64\n",
      "dtypes: float64(6)\n",
      "memory usage: 6.2 KB\n"
     ]
    }
   ],
   "source": [
    "start_df.info()"
   ]
  },
  {
   "cell_type": "code",
   "execution_count": 14,
   "metadata": {},
   "outputs": [
    {
     "name": "stderr",
     "output_type": "stream",
     "text": [
      "No handles with labels found to put in legend.\n"
     ]
    },
    {
     "name": "stdout",
     "output_type": "stream",
     "text": [
      "Loss (train): 3.8023122168484003e-13\n",
      "Loss (test): 16.212257711627707\n"
     ]
    },
    {
     "data": {
      "image/png": "[encoded data removed]",
      "text/plain": [
       "<Figure size 864x432 with 4 Axes>"
      ]
     },
     "metadata": {
      "needs_background": "light"
     },
     "output_type": "display_data"
    }
   ],
   "source": [
    "train_df, test_df = train_test_split(start_df, test_size=0.2, random_state=42)\n",
    "\n",
    "# Створюємо трен. і тест. набори\n",
    "input_cols = list(train_df.columns)[:-1]\n",
    "target_col = 'target'\n",
    "train_inputs, train_targets = train_df[input_cols], train_df[target_col]\n",
    "test_inputs, test_targets = test_df[input_cols], test_df[target_col]\n",
    "\n",
    "numeric_cols_inputs = train_inputs.select_dtypes(include=np.number).columns.tolist()\n",
    "\n",
    "poly_features_4 = PolynomialFeatures(degree=5, include_bias=False)\n",
    "\n",
    "numeric_transformer_4 = Pipeline(steps=[\n",
    "    ('scaler', MinMaxScaler()),\n",
    "    ('poly_features', poly_features_4)\n",
    "])\n",
    "\n",
    "preprocessor_4 = ColumnTransformer(\n",
    "    transformers=[\n",
    "        ('num_inputs', numeric_transformer_4, numeric_cols_inputs)\n",
    "    ])\n",
    "\n",
    "# Стоврюємо пайплайн, який спочатку запускає препроцесинг, потім тренуєм модель\n",
    "model_pipeline_4 = Pipeline(steps=[\n",
    "    ('preprocessor_4', preprocessor_4),\n",
    "    ('classifier', LinearRegression())\n",
    "])\n",
    "\n",
    "# Тренуємо пайплайн\n",
    "model_pipeline_4.fit(train_inputs, train_targets)\n",
    "\n",
    "# Робимо передбачення моделлю (train)\n",
    "train_preds = model_pipeline_4.predict(train_inputs)\n",
    "\n",
    "# Рахуємо лосс (train)\n",
    "loss_tr = mean_squared_error(train_targets, train_preds, squared=False)\n",
    "print('Loss (train):', loss_tr)\n",
    "\n",
    "# Робимо передбачення моделлю (test)\n",
    "test_preds = model_pipeline_4.predict(test_inputs)\n",
    "\n",
    "# Рахуємо лосс (test)\n",
    "loss_te = mean_squared_error(test_targets, test_preds, squared=False)\n",
    "print('Loss (test):', loss_te)\n",
    "\n",
    "# Візуалізація результатів\n",
    "errors_tr = train_targets - train_preds\n",
    "errors_te = test_targets -  test_preds\n",
    "\n",
    "\n",
    "plt.figure(figsize=(12, 6))\n",
    "\n",
    "plt.subplot(2,2,1)\n",
    "plt.plot(errors_tr,'o', color='blue', label='Errors (train)')\n",
    "\n",
    "plt.subplot(2,2,2)\n",
    "plt.plot(errors_te,'o', color='red', label='Errors (test)')\n",
    "\n",
    "plt.subplot(2,2,3)\n",
    "plt.hist(errors_tr, color='blue')\n",
    "\n",
    "plt.subplot(2,2,4)\n",
    "plt.hist(errors_te, color='red')\n",
    "\n",
    "plt.title('Графік розсіювання передбачень')\n",
    "plt.legend()\n",
    "plt.grid(True)\n",
    "plt.show()"
   ]
  },
  {
   "cell_type": "markdown",
   "metadata": {},
   "source": [
    "**Висновок:**\n",
    "На основі отриманих результатів бачимо, що модель на трейнових даних показала хороші результати і графік розсіювання схожий на нормальне розподілення. А ось на тестових даних ми спостерігаємо значне погіршення результатів. Це свідчить про те, що модель погано розпізнає нові дані. Необхідно працювати далі над даною моделлю."
   ]
  },
  {
   "cell_type": "markdown",
   "metadata": {
    "id": "JNUt-Q6UHkn7"
   },
   "source": [
    "**Завдання 5**. Натренуйте моделі Lasso(), Ridge(), ElasaticNet() на цих даних (з поліном ознаками до степені 20 включно), порівняйте якість з тою, яка була отримана з лінійною регресією. Яка модель найкраще генералізує і чому на ваш погляд (можливо треба буде для відповіді зробити додатковий аналіз ознак)?"
   ]
  },
  {
   "cell_type": "code",
   "execution_count": 17,
   "metadata": {
    "id": "y93ItPYdOnpE"
   },
   "outputs": [],
   "source": [
    "poly_features_5 = PolynomialFeatures(degree=20, include_bias=False)\n",
    "\n",
    "numeric_transformer_5 = Pipeline(steps=[\n",
    "    ('scaler', MinMaxScaler()),\n",
    "    ('poly_features', poly_features_5)\n",
    "])\n",
    "\n",
    "preprocessor_5 = ColumnTransformer(\n",
    "    transformers=[\n",
    "        ('num_inputs', numeric_transformer_5, numeric_cols_inputs)\n",
    "    ])\n",
    "\n",
    "model_pipeline_lasso = Pipeline(steps=[\n",
    "    ('preprocessor_5', preprocessor_5),\n",
    "    ('Lasso', Lasso())\n",
    "])\n",
    "\n",
    "# Тренуємо пайплайн\n",
    "model_pipeline_lasso.fit(train_inputs, train_targets)\n",
    "\n",
    "test_preds_Lasso = model_pipeline_lasso.predict(test_inputs)\n",
    "\n",
    "loss_tr_Lasso = mean_squared_error(train_targets, model_pipeline_lasso.predict(train_inputs))\n",
    "loss_te_Lasso = mean_squared_error(test_targets, test_preds_Lasso)"
   ]
  },
  {
   "cell_type": "code",
   "execution_count": 18,
   "metadata": {},
   "outputs": [],
   "source": [
    "model_pipeline_Ridge = Pipeline(steps=[\n",
    "    ('preprocessor_5', preprocessor_5),\n",
    "    ('Ridge', Ridge())\n",
    "])\n",
    "\n",
    "# Тренуємо пайплайн\n",
    "model_pipeline_Ridge.fit(train_inputs, train_targets)\n",
    "\n",
    "test_preds_Ridge = model_pipeline_Ridge.predict(test_inputs)\n",
    "\n",
    "loss_tr_Ridge = mean_squared_error(train_targets, model_pipeline_Ridge.predict(train_inputs))\n",
    "loss_te_Ridge = mean_squared_error(test_targets, test_preds_Ridge)"
   ]
  },
  {
   "cell_type": "code",
   "execution_count": 19,
   "metadata": {},
   "outputs": [],
   "source": [
    "model_pipeline_ElasticNet = Pipeline(steps=[\n",
    "    ('preprocessor_5', preprocessor_5),\n",
    "    ('ElasticNet', ElasticNet())\n",
    "])\n",
    "\n",
    "# Тренуємо пайплайн\n",
    "model_pipeline_ElasticNet.fit(train_inputs, train_targets)\n",
    "\n",
    "test_preds_ElasticNet = model_pipeline_ElasticNet.predict(test_inputs)\n",
    "\n",
    "loss_tr_ElasticNet = mean_squared_error(train_targets, model_pipeline_ElasticNet.predict(train_inputs))\n",
    "loss_te_ElasticNet = mean_squared_error(test_targets, test_preds_ElasticNet)"
   ]
  },
  {
   "cell_type": "code",
   "execution_count": 20,
   "metadata": {},
   "outputs": [
    {
     "name": "stdout",
     "output_type": "stream",
     "text": [
      "Loss LinearRegression (train): 3.8023122168484003e-13\n",
      "Loss LinearRegression (test): 16.21\n",
      "Loss Lasso (train): 25.99\n",
      "Loss Lasso (test): 32.17\n",
      "Loss Ridge (train): 34.63\n",
      "Loss Ridge (test): 49.3\n",
      "Loss ElasticNet (train): 902.07\n",
      "Loss ElasticNet (test): 926.74\n"
     ]
    },
    {
     "data": {
      "text/plain": [
       "['feature_1', 'feature_2', 'feature_3', 'feature_4', 'feature_5']"
      ]
     },
     "execution_count": 20,
     "metadata": {},
     "output_type": "execute_result"
    }
   ],
   "source": [
    "print('Loss LinearRegression (train):', loss_tr)\n",
    "print('Loss LinearRegression (test):', loss_te.round(2))\n",
    "print('Loss Lasso (train):', loss_tr_Lasso.round(2))\n",
    "print('Loss Lasso (test):', loss_te_Lasso.round(2))\n",
    "print('Loss Ridge (train):', loss_tr_Ridge.round(2))\n",
    "print('Loss Ridge (test):', loss_te_Ridge.round(2))\n",
    "print('Loss ElasticNet (train):', loss_tr_ElasticNet.round(2))\n",
    "print('Loss ElasticNet (test):', loss_te_ElasticNet.round(2))\n",
    "input_cols"
   ]
  },
  {
   "cell_type": "markdown",
   "metadata": {},
   "source": [
    "**На основі отриманих результатів можемо зробити попередній висновок, що найкраще дані генералізує логістична регресія. Три інші показують вищі втрати. Також на кожній моделі ми бачимо перенавчання і збільшення втрат на тестових даних**"
   ]
  },
  {
   "cell_type": "code",
   "execution_count": 22,
   "metadata": {},
   "outputs": [
    {
     "data": {
      "image/png": "[encoded data removed]",
      "text/plain": [
       "<Figure size 720x360 with 2 Axes>"
      ]
     },
     "metadata": {
      "needs_background": "light"
     },
     "output_type": "display_data"
    }
   ],
   "source": [
    "# будуємо матрицю кореляції\n",
    "cor_df_x = pd.concat([train_inputs, test_inputs], axis=0)\n",
    "cor_df_y = pd.concat([train_targets, test_targets], axis=0)\n",
    "cor_df = pd.concat([cor_df_x, cor_df_y], axis=1)\n",
    "plt.figure(figsize=(10, 5))\n",
    "matrix = np.triu(cor_df.corr())\n",
    "sns.heatmap(cor_df.corr(), annot=True, linewidth=.8, mask=matrix, cmap=\"rocket\");"
   ]
  },
  {
   "cell_type": "markdown",
   "metadata": {},
   "source": [
    "На основі матриці кореляції бачимо, що дані дуже погано корелюють між собою. Єдина корелюча ознака, `feature_4`, є прямопропорційною."
   ]
  },
  {
   "cell_type": "code",
   "execution_count": 24,
   "metadata": {},
   "outputs": [
    {
     "data": {
      "image/png": "[encoded data removed]",
      "text/plain": [
       "<Figure size 720x432 with 1 Axes>"
      ]
     },
     "metadata": {
      "needs_background": "light"
     },
     "output_type": "display_data"
    }
   ],
   "source": [
    "# Візуалізація 'target' і 'feature_4'\n",
    "\n",
    "plt.figure(figsize=(10, 6))\n",
    "plt.scatter(start_df['feature_4'], start_df['target'], color='blue', label='Data points')\n",
    "#plt.plot(X_smoker, predictions_sklearn_smoker, color='orange', label='Scikit-learn')\n",
    "plt.xlabel('Значення змінної \"feature_4\"')\n",
    "plt.ylabel('Цільове значення \"target\"')\n",
    "plt.legend()\n",
    "plt.grid(True)\n",
    "plt.show()"
   ]
  },
  {
   "cell_type": "markdown",
   "metadata": {},
   "source": [
    "**За корелюючою ознакою бачимо чітку лінійну залежнисть. Тому для подальшої роботи с даною моделю необхідно видалити не корелюючі ознаки і натренувати модель лінійної регресії на `feature_4`**"
   ]
  },
  {
   "cell_type": "code",
   "execution_count": null,
   "metadata": {},
   "outputs": [],
   "source": []
  }
 ],
 "metadata": {
  "colab": {
   "provenance": []
  },
  "kernelspec": {
   "display_name": "Python 3 (ipykernel)",
   "language": "python",
   "name": "python3"
  },
  "language_info": {
   "codemirror_mode": {
    "name": "ipython",
    "version": 3
   },
   "file_extension": ".py",
   "mimetype": "text/x-python",
   "name": "python",
   "nbconvert_exporter": "python",
   "pygments_lexer": "ipython3",
   "version": "3.9.19"
  }
 },
 "nbformat": 4,
 "nbformat_minor": 4
}

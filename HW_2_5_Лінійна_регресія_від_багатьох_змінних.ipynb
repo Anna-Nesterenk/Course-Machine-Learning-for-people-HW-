{
 "cells": [
  {
   "cell_type": "markdown",
   "metadata": {
    "id": "87fwNK3xoy5K"
   },
   "source": [
    "В цьому домашньому завданні ми з вами побудуємо повноцінне ML-рішення реальної ML-задачі. Ви вже маєте всі знання, які для цього потрібні. Дотримуйтесь інструкцій, та користуйтесь матеріалами лекцій, аби виконувати завдання. Тут інструкції будуть детальні, а в подільших завданнях - будуть ставати все менш детальними, аби ви вже починали самостійно структурувати ML-проєкт і до кінця курсу для вас розвʼязати будь-яку ML–задачу було eazy-breezy.\n",
    "\n",
    "## Dataset\n",
    "\n",
    "Будемо працювати з набором даних `cars.csv`, який описує автомобілі і їх ціну у індійських рупіях :) Мета - передбачити ціну авто за його характеристиками. Опис набору даних:\n",
    "\n",
    "| Назва рядка            | Опис                                                                                                                                                 |\n",
    "|------------------------|--------------------------------------------------------------------------------------------------------------------------------------------------------|\n",
    "| Car_ID                 | Унікальний ідентифікатор для кожного оголошення про автомобіль.                                                                                         |\n",
    "| Brand                  | Бренд або виробник автомобіля (наприклад, Toyota, Honda, Ford тощо).                                                                                     |\n",
    "| Model                  | Модель автомобіля (наприклад, Camry, Civic, Mustang тощо).                                                                                               |\n",
    "| Year                   | Рік виготовлення автомобіля.                                                                                                                            |\n",
    "| Kilometers_Driven      | Загальний пробіг автомобіля у кілометрах.                                                                                                               |\n",
    "| Fuel_Type              | Тип палива, який використовує автомобіль (наприклад, бензин, дизель, електро тощо).                                                                      |\n",
    "| Transmission           | Тип трансмісії автомобіля (наприклад, механічна, автоматична).                                                                                           |\n",
    "| Owner_Type             | Кількість попередніх власників автомобіля (наприклад, перший, другий, третій).                                                                           |\n",
    "| Mileage                | Паливна ефективність автомобіля у кілометрах на літр.                                                                                                   |\n",
    "| Engine                 | Об'єм двигуна автомобіля в кубічних сантиметрах (CC).                                                                                                   |\n",
    "| Power                  | Максимальна потужність автомобіля в кінських силах (bhp).                                                                                               |\n",
    "| Seats                  | Кількість місць в автомобілі.                                                                                                                           |\n",
    "| Price                  | Вартість автомобіля в INR (індійські рупії), що є цільовою змінною для прогнозування.                                                                   |"
   ]
  },
  {
   "cell_type": "markdown",
   "metadata": {
    "id": "52f35fee",
    "papermill": {
     "duration": 0.006069,
     "end_time": "2024-05-08T20:04:53.925383",
     "exception": false,
     "start_time": "2024-05-08T20:04:53.919314",
     "status": "completed"
    },
    "tags": []
   },
   "source": [
    "# Імпорти\n",
    "\n",
    "Для зручності рекомендую всі імпорти розмістити тут нагорі, аби коли ви перезавантажували ноутбук, одразу можна було в один запуск клітинки імпортувати всі потрібні бібліотеки."
   ]
  },
  {
   "cell_type": "code",
   "execution_count": 1,
   "metadata": {
    "execution": {
     "iopub.execute_input": "2024-05-08T20:04:53.940205Z",
     "iopub.status.busy": "2024-05-08T20:04:53.939265Z",
     "iopub.status.idle": "2024-05-08T20:04:56.366812Z",
     "shell.execute_reply": "2024-05-08T20:04:56.365880Z"
    },
    "id": "0a49b1bb",
    "papermill": {
     "duration": 2.43769,
     "end_time": "2024-05-08T20:04:56.369349",
     "exception": false,
     "start_time": "2024-05-08T20:04:53.931659",
     "status": "completed"
    },
    "tags": []
   },
   "outputs": [],
   "source": [
    "import pandas as pd\n",
    "from sklearn.model_selection import train_test_split\n",
    "from sklearn.preprocessing import OrdinalEncoder, OneHotEncoder\n",
    "import numpy as np\n",
    "import matplotlib.pyplot as plt\n",
    "import seaborn as sns\n",
    "from sklearn.linear_model import LinearRegression\n",
    "from sklearn.metrics import mean_squared_error\n",
    "from sklearn.preprocessing import StandardScaler\n",
    "import statsmodels.api as sm"
   ]
  },
  {
   "cell_type": "markdown",
   "metadata": {
    "id": "mpKIfgg-FV98"
   },
   "source": [
    "# Знайомство з даними"
   ]
  },
  {
   "cell_type": "markdown",
   "metadata": {
    "id": "fc07024e",
    "papermill": {
     "duration": 0.006026,
     "end_time": "2024-05-08T20:04:56.381857",
     "exception": false,
     "start_time": "2024-05-08T20:04:56.375831",
     "status": "completed"
    },
    "tags": []
   },
   "source": [
    "**Завдання 1.** Завантажте набір даних `cars.csv` в pandas.DataFrame. Виведіть перші 5 записів."
   ]
  },
  {
   "cell_type": "code",
   "execution_count": 2,
   "metadata": {
    "id": "lKtSXyENfJxD"
   },
   "outputs": [
    {
     "data": {
      "text/html": [
       "<div>\n",
       "<style scoped>\n",
       "    .dataframe tbody tr th:only-of-type {\n",
       "        vertical-align: middle;\n",
       "    }\n",
       "\n",
       "    .dataframe tbody tr th {\n",
       "        vertical-align: top;\n",
       "    }\n",
       "\n",
       "    .dataframe thead th {\n",
       "        text-align: right;\n",
       "    }\n",
       "</style>\n",
       "<table border=\"1\" class=\"dataframe\">\n",
       "  <thead>\n",
       "    <tr style=\"text-align: right;\">\n",
       "      <th></th>\n",
       "      <th>Car_ID</th>\n",
       "      <th>Brand</th>\n",
       "      <th>Model</th>\n",
       "      <th>Year</th>\n",
       "      <th>Kilometers_Driven</th>\n",
       "      <th>Fuel_Type</th>\n",
       "      <th>Transmission</th>\n",
       "      <th>Owner_Type</th>\n",
       "      <th>Mileage</th>\n",
       "      <th>Engine</th>\n",
       "      <th>Power</th>\n",
       "      <th>Seats</th>\n",
       "      <th>Price</th>\n",
       "    </tr>\n",
       "  </thead>\n",
       "  <tbody>\n",
       "    <tr>\n",
       "      <th>0</th>\n",
       "      <td>1</td>\n",
       "      <td>Toyota</td>\n",
       "      <td>Corolla</td>\n",
       "      <td>2018</td>\n",
       "      <td>50000</td>\n",
       "      <td>Petrol</td>\n",
       "      <td>Manual</td>\n",
       "      <td>First</td>\n",
       "      <td>15</td>\n",
       "      <td>1498</td>\n",
       "      <td>108</td>\n",
       "      <td>5</td>\n",
       "      <td>800000</td>\n",
       "    </tr>\n",
       "    <tr>\n",
       "      <th>1</th>\n",
       "      <td>2</td>\n",
       "      <td>Honda</td>\n",
       "      <td>Civic</td>\n",
       "      <td>2019</td>\n",
       "      <td>40000</td>\n",
       "      <td>Petrol</td>\n",
       "      <td>Automatic</td>\n",
       "      <td>Second</td>\n",
       "      <td>17</td>\n",
       "      <td>1597</td>\n",
       "      <td>140</td>\n",
       "      <td>5</td>\n",
       "      <td>1000000</td>\n",
       "    </tr>\n",
       "    <tr>\n",
       "      <th>2</th>\n",
       "      <td>3</td>\n",
       "      <td>Ford</td>\n",
       "      <td>Mustang</td>\n",
       "      <td>2017</td>\n",
       "      <td>20000</td>\n",
       "      <td>Petrol</td>\n",
       "      <td>Automatic</td>\n",
       "      <td>First</td>\n",
       "      <td>10</td>\n",
       "      <td>4951</td>\n",
       "      <td>395</td>\n",
       "      <td>4</td>\n",
       "      <td>2500000</td>\n",
       "    </tr>\n",
       "    <tr>\n",
       "      <th>3</th>\n",
       "      <td>4</td>\n",
       "      <td>Maruti</td>\n",
       "      <td>Swift</td>\n",
       "      <td>2020</td>\n",
       "      <td>30000</td>\n",
       "      <td>Diesel</td>\n",
       "      <td>Manual</td>\n",
       "      <td>Third</td>\n",
       "      <td>23</td>\n",
       "      <td>1248</td>\n",
       "      <td>74</td>\n",
       "      <td>5</td>\n",
       "      <td>600000</td>\n",
       "    </tr>\n",
       "    <tr>\n",
       "      <th>4</th>\n",
       "      <td>5</td>\n",
       "      <td>Hyundai</td>\n",
       "      <td>Sonata</td>\n",
       "      <td>2016</td>\n",
       "      <td>60000</td>\n",
       "      <td>Diesel</td>\n",
       "      <td>Automatic</td>\n",
       "      <td>Second</td>\n",
       "      <td>18</td>\n",
       "      <td>1999</td>\n",
       "      <td>194</td>\n",
       "      <td>5</td>\n",
       "      <td>850000</td>\n",
       "    </tr>\n",
       "  </tbody>\n",
       "</table>\n",
       "</div>"
      ],
      "text/plain": [
       "   Car_ID    Brand    Model  Year  Kilometers_Driven Fuel_Type Transmission  \\\n",
       "0       1   Toyota  Corolla  2018              50000    Petrol       Manual   \n",
       "1       2    Honda    Civic  2019              40000    Petrol    Automatic   \n",
       "2       3     Ford  Mustang  2017              20000    Petrol    Automatic   \n",
       "3       4   Maruti    Swift  2020              30000    Diesel       Manual   \n",
       "4       5  Hyundai   Sonata  2016              60000    Diesel    Automatic   \n",
       "\n",
       "  Owner_Type  Mileage  Engine  Power  Seats    Price  \n",
       "0      First       15    1498    108      5   800000  \n",
       "1     Second       17    1597    140      5  1000000  \n",
       "2      First       10    4951    395      4  2500000  \n",
       "3      Third       23    1248     74      5   600000  \n",
       "4     Second       18    1999    194      5   850000  "
      ]
     },
     "execution_count": 2,
     "metadata": {},
     "output_type": "execute_result"
    }
   ],
   "source": [
    "df = pd.read_csv(\"cars.csv\")\n",
    "df.head(5)"
   ]
  },
  {
   "cell_type": "markdown",
   "metadata": {
    "id": "BlayjhivF7Ha"
   },
   "source": [
    "**Завдання 2.** Виведіть типи даних колонок даних, а також дослідіть, які по факту типи даних мають записи в кожній колонці (тип `object` може містити різні типи даних) і скільки значень є в кожній категоріальній колонці.\n",
    "\n",
    "Напишіть висновок, скільки в наборі даних числових та категоріальних колонок кожного з трьох різних типів (бінарна, мільтикатегоріальна без порядку, мультикатегоріальна з порядком). Шаблон висновку\n",
    "\n",
    "```\n",
    "В наборі даних 10 числових і 10 категоріальних колонок з них\n",
    "- 2 бінарні (мають лише 2 значення)\n",
    "- 6 мультикатегоріальних (більше 2х значень) зі значеннями, для яких немає відношення порядку\n",
    "- 2 колонки, в яких можна встановити відношення порядку (наприклад Small<Medium<Large)\n",
    "```\n",
    "\n",
    "Якщо не знаєте, як це зробити з `pandas` - ось підказка, які методи можуть допомогти вам виконати це завдання\n",
    "\n",
    "- pandas.DataFrame.info()\n",
    "- pandas.DataFrame.dtypes\n",
    "- pandas.DataFrame.loc[...]\n",
    "- pandas.DataFrame.select_dtypes(...)\n",
    "- pandas.Series.unique()\n",
    "- pandas.Series.nunique()\n",
    "\n",
    "Детальніше ознайомитись з кожним ви можете в [документації](https://pandas.pydata.org/docs/reference/frame.html), або написати в окремій клітинці знак питання і назву методу (тільки приберіть це перед здачею, бо перегляд документації - не допомагає зрозуміти дані і хід думок, а Ваша робота - це як презентація замовнику зробленої задачі).\n"
   ]
  },
  {
   "cell_type": "code",
   "execution_count": 3,
   "metadata": {},
   "outputs": [
    {
     "name": "stdout",
     "output_type": "stream",
     "text": [
      "<class 'pandas.core.frame.DataFrame'>\n",
      "RangeIndex: 100 entries, 0 to 99\n",
      "Data columns (total 13 columns):\n",
      " #   Column             Non-Null Count  Dtype \n",
      "---  ------             --------------  ----- \n",
      " 0   Car_ID             100 non-null    int64 \n",
      " 1   Brand              100 non-null    object\n",
      " 2   Model              100 non-null    object\n",
      " 3   Year               100 non-null    int64 \n",
      " 4   Kilometers_Driven  100 non-null    int64 \n",
      " 5   Fuel_Type          100 non-null    object\n",
      " 6   Transmission       100 non-null    object\n",
      " 7   Owner_Type         100 non-null    object\n",
      " 8   Mileage            100 non-null    int64 \n",
      " 9   Engine             100 non-null    int64 \n",
      " 10  Power              100 non-null    int64 \n",
      " 11  Seats              100 non-null    int64 \n",
      " 12  Price              100 non-null    int64 \n",
      "dtypes: int64(8), object(5)\n",
      "memory usage: 10.3+ KB\n"
     ]
    }
   ],
   "source": [
    "df.info()"
   ]
  },
  {
   "cell_type": "code",
   "execution_count": 4,
   "metadata": {},
   "outputs": [
    {
     "name": "stdout",
     "output_type": "stream",
     "text": [
      "Кількість категоріальних змінних:  5\n"
     ]
    },
    {
     "data": {
      "text/plain": [
       "Index(['Brand', 'Model', 'Fuel_Type', 'Transmission', 'Owner_Type'], dtype='object')"
      ]
     },
     "execution_count": 4,
     "metadata": {},
     "output_type": "execute_result"
    }
   ],
   "source": [
    "# Перевірка кількості категоріальних змінних\n",
    "print(\"Кількість категоріальних змінних: \", len(df.select_dtypes(include = \"object\").columns))\n",
    "\n",
    "df.select_dtypes(include = \"object\").columns"
   ]
  },
  {
   "cell_type": "code",
   "execution_count": 5,
   "metadata": {},
   "outputs": [
    {
     "name": "stdout",
     "output_type": "stream",
     "text": [
      "Кількість числових змінних:  8\n"
     ]
    },
    {
     "data": {
      "text/plain": [
       "Index(['Car_ID', 'Year', 'Kilometers_Driven', 'Mileage', 'Engine', 'Power',\n",
       "       'Seats', 'Price'],\n",
       "      dtype='object')"
      ]
     },
     "execution_count": 5,
     "metadata": {},
     "output_type": "execute_result"
    }
   ],
   "source": [
    "# Перевірка кількості числових змінних\n",
    "print(\"Кількість числових змінних: \", len(df.select_dtypes(include = \"number\").columns))\n",
    "\n",
    "df.select_dtypes(include = \"number\").columns"
   ]
  },
  {
   "cell_type": "markdown",
   "metadata": {},
   "source": [
    "Бачимо, що `Car_ID` має числовий формат, а це є не логічно і не оптимально з точки зору розміру даних.\n",
    "Змінимо тип даних в колонці на `str`"
   ]
  },
  {
   "cell_type": "code",
   "execution_count": 6,
   "metadata": {},
   "outputs": [],
   "source": [
    "df['Car_ID'] = df['Car_ID'].astype(\"str\")"
   ]
  },
  {
   "cell_type": "code",
   "execution_count": 7,
   "metadata": {},
   "outputs": [
    {
     "data": {
      "text/plain": [
       "Car_ID          100\n",
       "Brand            11\n",
       "Model            58\n",
       "Fuel_Type         2\n",
       "Transmission      2\n",
       "Owner_Type        3\n",
       "dtype: int64"
      ]
     },
     "execution_count": 7,
     "metadata": {},
     "output_type": "execute_result"
    }
   ],
   "source": [
    "# аналізуємо кіл-ть унікальних значень в категоріальних даних\n",
    "df.select_dtypes(include = \"object\").nunique()"
   ]
  },
  {
   "cell_type": "markdown",
   "metadata": {},
   "source": [
    "**Висновок:**\n",
    "\n",
    "Набір даних містить 13 колонок (ми не маємо відсутніх значень):\n",
    "- 7 є числовими даними\n",
    "- 6 є категоріальними:\n",
    "\n",
    "  -  1 технічна (Car_ID, яку ми перевели з числової для оптимізації розміру)\n",
    "  -  2 бінарні (мають лише 2 значення)\n",
    "  - 2 мультикатегоріальних (більше 2х значень) зі значеннями, для яких немає відношення порядку\n",
    "  - 1 колонка, в якій можна встановити відношення порядку (наприклад, Small<Medium<Large)"
   ]
  },
  {
   "cell_type": "markdown",
   "metadata": {
    "id": "feZvNdSXO-tn"
   },
   "source": [
    "**Завдання 3**. Розділіть дані на тренувальні і тест. Відведіть в тест 20%, поставте `random_state=12`. Ми будемо передбачати колонку `Price` - тож, вона є цільовою змінною. В результаті у Вас має бути 4 набори даних `X_train, X_test, y_train, y_test`.\n",
    "\n",
    "Надалі ми всюди тренуємо методи для кодування, масштабування та саму модель тільки на тренувальних даних X_train (та y_train для моделі), а на тестувальних лише використовуємо вже навчені методи для кодування, масштабування і модель викликаючи в них `transform()` (для методів обробки даних) або `predict()` (для моделі).\n",
    "\n",
    "І так само треба робити завжди."
   ]
  },
  {
   "cell_type": "code",
   "execution_count": 8,
   "metadata": {},
   "outputs": [],
   "source": [
    "# формуємо базові дані\n",
    "X = df.drop(df.columns[[12]], axis = 1)\n",
    "y = df['Price']"
   ]
  },
  {
   "cell_type": "code",
   "execution_count": 9,
   "metadata": {},
   "outputs": [],
   "source": [
    "# для виконання додаткової задачі по категоризації, оновлюємо базові дані\n",
    "X['Seats_cat'] = X['Seats'].apply(lambda x: \n",
    "                                        'small' if x == 4 else\n",
    "                                        'standart' if x == 5 else\n",
    "                                        'large')"
   ]
  },
  {
   "cell_type": "code",
   "execution_count": 10,
   "metadata": {
    "id": "lkugT6mmfM2p"
   },
   "outputs": [],
   "source": [
    "# розділяємо дані на тренувальні і тестові\n",
    "X_train, X_test, y_train, y_test = train_test_split(X, y, test_size=0.2, random_state=12) "
   ]
  },
  {
   "cell_type": "markdown",
   "metadata": {
    "id": "EvzXSbIxKBwR"
   },
   "source": [
    "**Завдання 4**. Кодуємо категоріальні колонки.\n",
    "\n",
    "1. Закодуйте колонки з бінарними значеннями `Fuel_Type` і `Transmission` так, аби вони були у чисельному представленні і містили лише 0 так 1. Приклад був у лекції. Значення 1 нехай буде у категорії, яка містить більше значень в колонці.\n",
    "\n",
    "2. Закодуйте колонку `Brand` з використанням `sklearn.preprocessing.OneHotEncoder` аналогічно до того, як ми робили це в лекції. Увага! Ми робимо виклик методу `Encoder.fit()` на тренувальних даних `X_train`, а на тестувальних тільки викликаємо `Encoder.transform()`. Додайте закодовані значення в набори даних `X_train`, `X_test`.\n",
    "\n",
    "3. Колонку `Owner_Type` з використанням `sklearn.preprocessing.OrdinalEncoder` я закодую для вас. Проаналізуйте, що відбувається.\n",
    "\n",
    "Колонка `Model` містять забагато значень для кодування в тому вигляді, як вона є зараз, з огляду на невелику кількість даних. Якщо ви бачите, як можна згрупувати значення в цій колонці скоротивши кількість унікальних значень до 3-5, то можете виконати ще цю трансформацію, використати цю колонку в моделі і отримати додаткову практику і бал, якщо все буде зроблено правильно. А якщо неправильно - то фідбек на Вашу роботу :)"
   ]
  },
  {
   "cell_type": "code",
   "execution_count": 11,
   "metadata": {
    "id": "oKrg78cYfzBh"
   },
   "outputs": [
    {
     "data": {
      "text/plain": [
       "Petrol    52\n",
       "Diesel    48\n",
       "Name: Fuel_Type, dtype: int64"
      ]
     },
     "execution_count": 11,
     "metadata": {},
     "output_type": "execute_result"
    }
   ],
   "source": [
    "# кодуємо Fuel_Type\n",
    "X['Fuel_Type'].value_counts()"
   ]
  },
  {
   "cell_type": "code",
   "execution_count": 12,
   "metadata": {},
   "outputs": [
    {
     "name": "stderr",
     "output_type": "stream",
     "text": [
      "C:\\Users\\0D04~1\\AppData\\Local\\Temp/ipykernel_11420/3948497752.py:2: SettingWithCopyWarning: \n",
      "A value is trying to be set on a copy of a slice from a DataFrame.\n",
      "Try using .loc[row_indexer,col_indexer] = value instead\n",
      "\n",
      "See the caveats in the documentation: https://pandas.pydata.org/pandas-docs/stable/user_guide/indexing.html#returning-a-view-versus-a-copy\n",
      "  X_train['Fuel_Type_codes'] = X_train.Fuel_Type.map(Fuel_Type_codes)\n",
      "C:\\Users\\0D04~1\\AppData\\Local\\Temp/ipykernel_11420/3948497752.py:3: SettingWithCopyWarning: \n",
      "A value is trying to be set on a copy of a slice from a DataFrame.\n",
      "Try using .loc[row_indexer,col_indexer] = value instead\n",
      "\n",
      "See the caveats in the documentation: https://pandas.pydata.org/pandas-docs/stable/user_guide/indexing.html#returning-a-view-versus-a-copy\n",
      "  X_test['Fuel_Type_codes'] = X_test.Fuel_Type.map(Fuel_Type_codes)\n"
     ]
    }
   ],
   "source": [
    "Fuel_Type_codes = {'Diesel': 0, 'Petrol': 1}\n",
    "X_train['Fuel_Type_codes'] = X_train.Fuel_Type.map(Fuel_Type_codes)\n",
    "X_test['Fuel_Type_codes'] = X_test.Fuel_Type.map(Fuel_Type_codes)"
   ]
  },
  {
   "cell_type": "code",
   "execution_count": 13,
   "metadata": {
    "id": "oKrg78cYfzBh"
   },
   "outputs": [
    {
     "data": {
      "text/plain": [
       "Automatic    57\n",
       "Manual       43\n",
       "Name: Transmission, dtype: int64"
      ]
     },
     "execution_count": 13,
     "metadata": {},
     "output_type": "execute_result"
    }
   ],
   "source": [
    "# кодуємо Fuel_Type\n",
    "X['Transmission'].value_counts()"
   ]
  },
  {
   "cell_type": "code",
   "execution_count": 14,
   "metadata": {},
   "outputs": [
    {
     "name": "stderr",
     "output_type": "stream",
     "text": [
      "C:\\Users\\0D04~1\\AppData\\Local\\Temp/ipykernel_11420/2668483106.py:2: SettingWithCopyWarning: \n",
      "A value is trying to be set on a copy of a slice from a DataFrame.\n",
      "Try using .loc[row_indexer,col_indexer] = value instead\n",
      "\n",
      "See the caveats in the documentation: https://pandas.pydata.org/pandas-docs/stable/user_guide/indexing.html#returning-a-view-versus-a-copy\n",
      "  X_train['Transmission_codes'] = X_train.Transmission.map(Transmission_codes)\n",
      "C:\\Users\\0D04~1\\AppData\\Local\\Temp/ipykernel_11420/2668483106.py:3: SettingWithCopyWarning: \n",
      "A value is trying to be set on a copy of a slice from a DataFrame.\n",
      "Try using .loc[row_indexer,col_indexer] = value instead\n",
      "\n",
      "See the caveats in the documentation: https://pandas.pydata.org/pandas-docs/stable/user_guide/indexing.html#returning-a-view-versus-a-copy\n",
      "  X_test['Transmission_codes'] = X_test.Transmission.map(Transmission_codes)\n"
     ]
    }
   ],
   "source": [
    "Transmission_codes = {'Manual': 0, 'Automatic': 1}\n",
    "X_train['Transmission_codes'] = X_train.Transmission.map(Transmission_codes)\n",
    "X_test['Transmission_codes'] = X_test.Transmission.map(Transmission_codes)"
   ]
  },
  {
   "cell_type": "code",
   "execution_count": 15,
   "metadata": {},
   "outputs": [
    {
     "name": "stderr",
     "output_type": "stream",
     "text": [
      "C:\\Users\\0D04~1\\AppData\\Local\\Temp/ipykernel_11420/1225884209.py:5: SettingWithCopyWarning: \n",
      "A value is trying to be set on a copy of a slice from a DataFrame.\n",
      "Try using .loc[row_indexer,col_indexer] = value instead\n",
      "\n",
      "See the caveats in the documentation: https://pandas.pydata.org/pandas-docs/stable/user_guide/indexing.html#returning-a-view-versus-a-copy\n",
      "  X_train['Brand_Codes'] = hotenc.transform(X_train[['Brand']]).shape[0]\n",
      "C:\\Users\\0D04~1\\AppData\\Local\\Temp/ipykernel_11420/1225884209.py:6: SettingWithCopyWarning: \n",
      "A value is trying to be set on a copy of a slice from a DataFrame.\n",
      "Try using .loc[row_indexer,col_indexer] = value instead\n",
      "\n",
      "See the caveats in the documentation: https://pandas.pydata.org/pandas-docs/stable/user_guide/indexing.html#returning-a-view-versus-a-copy\n",
      "  X_test['Brand_Codes'] = hotenc.transform(X_test[['Brand']]).shape[0]\n"
     ]
    }
   ],
   "source": [
    "# кодуємо колонку Brand\n",
    "hotenc = OneHotEncoder()\n",
    "hotenc.fit(X_train[['Brand']])\n",
    "\n",
    "X_train['Brand_Codes'] = hotenc.transform(X_train[['Brand']]).shape[0]\n",
    "X_test['Brand_Codes'] = hotenc.transform(X_test[['Brand']]).shape[0]"
   ]
  },
  {
   "cell_type": "code",
   "execution_count": 16,
   "metadata": {
    "id": "tU3uA6kNOkzb"
   },
   "outputs": [
    {
     "name": "stderr",
     "output_type": "stream",
     "text": [
      "C:\\Users\\0D04~1\\AppData\\Local\\Temp/ipykernel_11420/508130120.py:5: SettingWithCopyWarning: \n",
      "A value is trying to be set on a copy of a slice from a DataFrame.\n",
      "Try using .loc[row_indexer,col_indexer] = value instead\n",
      "\n",
      "See the caveats in the documentation: https://pandas.pydata.org/pandas-docs/stable/user_guide/indexing.html#returning-a-view-versus-a-copy\n",
      "  X_train['Owner_Type_Codes'] = ordenc.transform(X_train[['Owner_Type']])\n",
      "C:\\Users\\0D04~1\\AppData\\Local\\Temp/ipykernel_11420/508130120.py:6: SettingWithCopyWarning: \n",
      "A value is trying to be set on a copy of a slice from a DataFrame.\n",
      "Try using .loc[row_indexer,col_indexer] = value instead\n",
      "\n",
      "See the caveats in the documentation: https://pandas.pydata.org/pandas-docs/stable/user_guide/indexing.html#returning-a-view-versus-a-copy\n",
      "  X_test['Owner_Type_Codes'] = ordenc.transform(X_test[['Owner_Type']])\n"
     ]
    }
   ],
   "source": [
    "# кодуємо колонку Owner_Type\n",
    "ordenc = OrdinalEncoder(categories=[['First', 'Second', 'Third']]) # визначаємо порядок категорій\n",
    "ordenc.fit(X_train[['Owner_Type']])\n",
    "\n",
    "X_train['Owner_Type_Codes'] = ordenc.transform(X_train[['Owner_Type']])\n",
    "X_test['Owner_Type_Codes'] = ordenc.transform(X_test[['Owner_Type']])"
   ]
  },
  {
   "cell_type": "markdown",
   "metadata": {},
   "source": [
    "**Додатково** кодуємо колонку `Model`\n",
    "Логіка наступна: ми можемо створити категорію моделі за кількістю місць (`Seats`)"
   ]
  },
  {
   "cell_type": "code",
   "execution_count": 17,
   "metadata": {},
   "outputs": [
    {
     "data": {
      "text/plain": [
       "5    81\n",
       "7    14\n",
       "4     5\n",
       "Name: Seats, dtype: int64"
      ]
     },
     "execution_count": 17,
     "metadata": {},
     "output_type": "execute_result"
    }
   ],
   "source": [
    "X['Seats'].value_counts()"
   ]
  },
  {
   "cell_type": "code",
   "execution_count": 18,
   "metadata": {},
   "outputs": [
    {
     "name": "stderr",
     "output_type": "stream",
     "text": [
      "C:\\Users\\0D04~1\\AppData\\Local\\Temp/ipykernel_11420/1737741980.py:4: SettingWithCopyWarning: \n",
      "A value is trying to be set on a copy of a slice from a DataFrame.\n",
      "Try using .loc[row_indexer,col_indexer] = value instead\n",
      "\n",
      "See the caveats in the documentation: https://pandas.pydata.org/pandas-docs/stable/user_guide/indexing.html#returning-a-view-versus-a-copy\n",
      "  X_train['Seats_Codes'] = ordenc_.transform(X_train[['Seats_cat']])\n",
      "C:\\Users\\0D04~1\\AppData\\Local\\Temp/ipykernel_11420/1737741980.py:5: SettingWithCopyWarning: \n",
      "A value is trying to be set on a copy of a slice from a DataFrame.\n",
      "Try using .loc[row_indexer,col_indexer] = value instead\n",
      "\n",
      "See the caveats in the documentation: https://pandas.pydata.org/pandas-docs/stable/user_guide/indexing.html#returning-a-view-versus-a-copy\n",
      "  X_test['Seats_Codes'] = ordenc_.transform(X_test[['Seats_cat']])\n"
     ]
    }
   ],
   "source": [
    "ordenc_ = OrdinalEncoder(categories=[['small', 'standart', 'large']]) # визначаємо порядок категорій\n",
    "ordenc_.fit(X_train[['Seats_cat']])\n",
    "\n",
    "X_train['Seats_Codes'] = ordenc_.transform(X_train[['Seats_cat']])\n",
    "X_test['Seats_Codes'] = ordenc_.transform(X_test[['Seats_cat']])"
   ]
  },
  {
   "cell_type": "markdown",
   "metadata": {
    "id": "P-woc2oUSZu4"
   },
   "source": [
    "Очікуваний результат після трансформацій:"
   ]
  },
  {
   "cell_type": "code",
   "execution_count": 19,
   "metadata": {
    "colab": {
     "base_uri": "https://localhost:8080/",
     "height": 432
    },
    "id": "brxPGShISEhz",
    "outputId": "ae807da8-6694-4951-8c8c-69d1e96733d0"
   },
   "outputs": [
    {
     "data": {
      "text/html": [
       "<div>\n",
       "<style scoped>\n",
       "    .dataframe tbody tr th:only-of-type {\n",
       "        vertical-align: middle;\n",
       "    }\n",
       "\n",
       "    .dataframe tbody tr th {\n",
       "        vertical-align: top;\n",
       "    }\n",
       "\n",
       "    .dataframe thead th {\n",
       "        text-align: right;\n",
       "    }\n",
       "</style>\n",
       "<table border=\"1\" class=\"dataframe\">\n",
       "  <thead>\n",
       "    <tr style=\"text-align: right;\">\n",
       "      <th></th>\n",
       "      <th>Car_ID</th>\n",
       "      <th>Brand</th>\n",
       "      <th>Model</th>\n",
       "      <th>Year</th>\n",
       "      <th>Kilometers_Driven</th>\n",
       "      <th>Fuel_Type</th>\n",
       "      <th>Transmission</th>\n",
       "      <th>Owner_Type</th>\n",
       "      <th>Mileage</th>\n",
       "      <th>Engine</th>\n",
       "      <th>Power</th>\n",
       "      <th>Seats</th>\n",
       "      <th>Seats_cat</th>\n",
       "      <th>Fuel_Type_codes</th>\n",
       "      <th>Transmission_codes</th>\n",
       "      <th>Brand_Codes</th>\n",
       "      <th>Owner_Type_Codes</th>\n",
       "      <th>Seats_Codes</th>\n",
       "    </tr>\n",
       "  </thead>\n",
       "  <tbody>\n",
       "    <tr>\n",
       "      <th>83</th>\n",
       "      <td>84</td>\n",
       "      <td>Volkswagen</td>\n",
       "      <td>T-Roc</td>\n",
       "      <td>2019</td>\n",
       "      <td>22000</td>\n",
       "      <td>Petrol</td>\n",
       "      <td>Automatic</td>\n",
       "      <td>Second</td>\n",
       "      <td>18</td>\n",
       "      <td>1498</td>\n",
       "      <td>148</td>\n",
       "      <td>5</td>\n",
       "      <td>standart</td>\n",
       "      <td>1</td>\n",
       "      <td>1</td>\n",
       "      <td>80</td>\n",
       "      <td>1.0</td>\n",
       "      <td>1.0</td>\n",
       "    </tr>\n",
       "    <tr>\n",
       "      <th>55</th>\n",
       "      <td>56</td>\n",
       "      <td>Audi</td>\n",
       "      <td>A5</td>\n",
       "      <td>2018</td>\n",
       "      <td>28000</td>\n",
       "      <td>Diesel</td>\n",
       "      <td>Automatic</td>\n",
       "      <td>First</td>\n",
       "      <td>17</td>\n",
       "      <td>1968</td>\n",
       "      <td>187</td>\n",
       "      <td>5</td>\n",
       "      <td>standart</td>\n",
       "      <td>0</td>\n",
       "      <td>1</td>\n",
       "      <td>80</td>\n",
       "      <td>0.0</td>\n",
       "      <td>1.0</td>\n",
       "    </tr>\n",
       "    <tr>\n",
       "      <th>26</th>\n",
       "      <td>27</td>\n",
       "      <td>Audi</td>\n",
       "      <td>A6</td>\n",
       "      <td>2018</td>\n",
       "      <td>28000</td>\n",
       "      <td>Petrol</td>\n",
       "      <td>Automatic</td>\n",
       "      <td>First</td>\n",
       "      <td>15</td>\n",
       "      <td>1984</td>\n",
       "      <td>241</td>\n",
       "      <td>5</td>\n",
       "      <td>standart</td>\n",
       "      <td>1</td>\n",
       "      <td>1</td>\n",
       "      <td>80</td>\n",
       "      <td>0.0</td>\n",
       "      <td>1.0</td>\n",
       "    </tr>\n",
       "    <tr>\n",
       "      <th>54</th>\n",
       "      <td>55</td>\n",
       "      <td>Volkswagen</td>\n",
       "      <td>Vento</td>\n",
       "      <td>2017</td>\n",
       "      <td>32000</td>\n",
       "      <td>Petrol</td>\n",
       "      <td>Manual</td>\n",
       "      <td>Second</td>\n",
       "      <td>18</td>\n",
       "      <td>1598</td>\n",
       "      <td>103</td>\n",
       "      <td>5</td>\n",
       "      <td>standart</td>\n",
       "      <td>1</td>\n",
       "      <td>0</td>\n",
       "      <td>80</td>\n",
       "      <td>1.0</td>\n",
       "      <td>1.0</td>\n",
       "    </tr>\n",
       "    <tr>\n",
       "      <th>19</th>\n",
       "      <td>20</td>\n",
       "      <td>Mercedes</td>\n",
       "      <td>GLC</td>\n",
       "      <td>2017</td>\n",
       "      <td>26000</td>\n",
       "      <td>Petrol</td>\n",
       "      <td>Automatic</td>\n",
       "      <td>Second</td>\n",
       "      <td>12</td>\n",
       "      <td>1991</td>\n",
       "      <td>241</td>\n",
       "      <td>5</td>\n",
       "      <td>standart</td>\n",
       "      <td>1</td>\n",
       "      <td>1</td>\n",
       "      <td>80</td>\n",
       "      <td>1.0</td>\n",
       "      <td>1.0</td>\n",
       "    </tr>\n",
       "  </tbody>\n",
       "</table>\n",
       "</div>"
      ],
      "text/plain": [
       "   Car_ID       Brand  Model  Year  Kilometers_Driven Fuel_Type Transmission  \\\n",
       "83     84  Volkswagen  T-Roc  2019              22000    Petrol    Automatic   \n",
       "55     56        Audi     A5  2018              28000    Diesel    Automatic   \n",
       "26     27        Audi     A6  2018              28000    Petrol    Automatic   \n",
       "54     55  Volkswagen  Vento  2017              32000    Petrol       Manual   \n",
       "19     20    Mercedes    GLC  2017              26000    Petrol    Automatic   \n",
       "\n",
       "   Owner_Type  Mileage  Engine  Power  Seats Seats_cat  Fuel_Type_codes  \\\n",
       "83     Second       18    1498    148      5  standart                1   \n",
       "55      First       17    1968    187      5  standart                0   \n",
       "26      First       15    1984    241      5  standart                1   \n",
       "54     Second       18    1598    103      5  standart                1   \n",
       "19     Second       12    1991    241      5  standart                1   \n",
       "\n",
       "    Transmission_codes  Brand_Codes  Owner_Type_Codes  Seats_Codes  \n",
       "83                   1           80               1.0          1.0  \n",
       "55                   1           80               0.0          1.0  \n",
       "26                   1           80               0.0          1.0  \n",
       "54                   0           80               1.0          1.0  \n",
       "19                   1           80               1.0          1.0  "
      ]
     },
     "metadata": {},
     "output_type": "display_data"
    },
    {
     "data": {
      "text/html": [
       "<div>\n",
       "<style scoped>\n",
       "    .dataframe tbody tr th:only-of-type {\n",
       "        vertical-align: middle;\n",
       "    }\n",
       "\n",
       "    .dataframe tbody tr th {\n",
       "        vertical-align: top;\n",
       "    }\n",
       "\n",
       "    .dataframe thead th {\n",
       "        text-align: right;\n",
       "    }\n",
       "</style>\n",
       "<table border=\"1\" class=\"dataframe\">\n",
       "  <thead>\n",
       "    <tr style=\"text-align: right;\">\n",
       "      <th></th>\n",
       "      <th>Car_ID</th>\n",
       "      <th>Brand</th>\n",
       "      <th>Model</th>\n",
       "      <th>Year</th>\n",
       "      <th>Kilometers_Driven</th>\n",
       "      <th>Fuel_Type</th>\n",
       "      <th>Transmission</th>\n",
       "      <th>Owner_Type</th>\n",
       "      <th>Mileage</th>\n",
       "      <th>Engine</th>\n",
       "      <th>Power</th>\n",
       "      <th>Seats</th>\n",
       "      <th>Seats_cat</th>\n",
       "      <th>Fuel_Type_codes</th>\n",
       "      <th>Transmission_codes</th>\n",
       "      <th>Brand_Codes</th>\n",
       "      <th>Owner_Type_Codes</th>\n",
       "      <th>Seats_Codes</th>\n",
       "    </tr>\n",
       "  </thead>\n",
       "  <tbody>\n",
       "    <tr>\n",
       "      <th>17</th>\n",
       "      <td>18</td>\n",
       "      <td>Audi</td>\n",
       "      <td>Q3</td>\n",
       "      <td>2016</td>\n",
       "      <td>38000</td>\n",
       "      <td>Petrol</td>\n",
       "      <td>Automatic</td>\n",
       "      <td>Second</td>\n",
       "      <td>15</td>\n",
       "      <td>1395</td>\n",
       "      <td>148</td>\n",
       "      <td>5</td>\n",
       "      <td>standart</td>\n",
       "      <td>1</td>\n",
       "      <td>1</td>\n",
       "      <td>20</td>\n",
       "      <td>1.0</td>\n",
       "      <td>1.0</td>\n",
       "    </tr>\n",
       "    <tr>\n",
       "      <th>41</th>\n",
       "      <td>42</td>\n",
       "      <td>Hyundai</td>\n",
       "      <td>Santro</td>\n",
       "      <td>2019</td>\n",
       "      <td>26000</td>\n",
       "      <td>Petrol</td>\n",
       "      <td>Manual</td>\n",
       "      <td>Third</td>\n",
       "      <td>20</td>\n",
       "      <td>1086</td>\n",
       "      <td>68</td>\n",
       "      <td>5</td>\n",
       "      <td>standart</td>\n",
       "      <td>1</td>\n",
       "      <td>0</td>\n",
       "      <td>20</td>\n",
       "      <td>2.0</td>\n",
       "      <td>1.0</td>\n",
       "    </tr>\n",
       "    <tr>\n",
       "      <th>92</th>\n",
       "      <td>93</td>\n",
       "      <td>Volkswagen</td>\n",
       "      <td>Vento</td>\n",
       "      <td>2017</td>\n",
       "      <td>32000</td>\n",
       "      <td>Petrol</td>\n",
       "      <td>Manual</td>\n",
       "      <td>Second</td>\n",
       "      <td>18</td>\n",
       "      <td>1598</td>\n",
       "      <td>103</td>\n",
       "      <td>5</td>\n",
       "      <td>standart</td>\n",
       "      <td>1</td>\n",
       "      <td>0</td>\n",
       "      <td>20</td>\n",
       "      <td>1.0</td>\n",
       "      <td>1.0</td>\n",
       "    </tr>\n",
       "    <tr>\n",
       "      <th>14</th>\n",
       "      <td>15</td>\n",
       "      <td>Maruti</td>\n",
       "      <td>Ertiga</td>\n",
       "      <td>2020</td>\n",
       "      <td>18000</td>\n",
       "      <td>Petrol</td>\n",
       "      <td>Manual</td>\n",
       "      <td>First</td>\n",
       "      <td>19</td>\n",
       "      <td>1462</td>\n",
       "      <td>103</td>\n",
       "      <td>7</td>\n",
       "      <td>large</td>\n",
       "      <td>1</td>\n",
       "      <td>0</td>\n",
       "      <td>20</td>\n",
       "      <td>0.0</td>\n",
       "      <td>2.0</td>\n",
       "    </tr>\n",
       "    <tr>\n",
       "      <th>68</th>\n",
       "      <td>69</td>\n",
       "      <td>Ford</td>\n",
       "      <td>Aspire</td>\n",
       "      <td>2019</td>\n",
       "      <td>26000</td>\n",
       "      <td>Petrol</td>\n",
       "      <td>Manual</td>\n",
       "      <td>Third</td>\n",
       "      <td>20</td>\n",
       "      <td>1194</td>\n",
       "      <td>94</td>\n",
       "      <td>5</td>\n",
       "      <td>standart</td>\n",
       "      <td>1</td>\n",
       "      <td>0</td>\n",
       "      <td>20</td>\n",
       "      <td>2.0</td>\n",
       "      <td>1.0</td>\n",
       "    </tr>\n",
       "  </tbody>\n",
       "</table>\n",
       "</div>"
      ],
      "text/plain": [
       "   Car_ID       Brand   Model  Year  Kilometers_Driven Fuel_Type Transmission  \\\n",
       "17     18        Audi      Q3  2016              38000    Petrol    Automatic   \n",
       "41     42     Hyundai  Santro  2019              26000    Petrol       Manual   \n",
       "92     93  Volkswagen   Vento  2017              32000    Petrol       Manual   \n",
       "14     15      Maruti  Ertiga  2020              18000    Petrol       Manual   \n",
       "68     69        Ford  Aspire  2019              26000    Petrol       Manual   \n",
       "\n",
       "   Owner_Type  Mileage  Engine  Power  Seats Seats_cat  Fuel_Type_codes  \\\n",
       "17     Second       15    1395    148      5  standart                1   \n",
       "41      Third       20    1086     68      5  standart                1   \n",
       "92     Second       18    1598    103      5  standart                1   \n",
       "14      First       19    1462    103      7     large                1   \n",
       "68      Third       20    1194     94      5  standart                1   \n",
       "\n",
       "    Transmission_codes  Brand_Codes  Owner_Type_Codes  Seats_Codes  \n",
       "17                   1           20               1.0          1.0  \n",
       "41                   0           20               2.0          1.0  \n",
       "92                   0           20               1.0          1.0  \n",
       "14                   0           20               0.0          2.0  \n",
       "68                   0           20               2.0          1.0  "
      ]
     },
     "metadata": {},
     "output_type": "display_data"
    },
    {
     "data": {
      "text/plain": [
       "(None, None)"
      ]
     },
     "execution_count": 19,
     "metadata": {},
     "output_type": "execute_result"
    }
   ],
   "source": [
    "pd.set_option('display.max_columns', 100)\n",
    "display(X_train.head()), display(X_test.head())"
   ]
  },
  {
   "cell_type": "markdown",
   "metadata": {
    "id": "wHDyZp9QSnsF"
   },
   "source": [
    "**Завдання 5.** Оберіть лише числові колонки з `X_train` (можна для цього використати `pandas.select_dtypes(...)` або видалити всі НЕчислові дані, вони нам вже не потрібні), обʼєднайте ці дані з `y_train` (зручно з `pandas.concat([df1, df2], axis=1)`), побудуйте для цих даних матрицю кореляції і проаналізуйте її. Напишіть висновок, які колонки корелюють з цільовою змінною на більш ніж 0.5 за модулем (може бути як позитивна, так і негативна кореляція)."
   ]
  },
  {
   "cell_type": "code",
   "execution_count": 20,
   "metadata": {
    "id": "0EIv0cVVf05Z"
   },
   "outputs": [],
   "source": [
    "# вибираємо числові колонки\n",
    "X_train = X_train.select_dtypes(include=[np.number]).drop(['Seats'], axis=1)\n",
    "X_test = X_test.select_dtypes(include=[np.number]).drop(['Seats'], axis=1)"
   ]
  },
  {
   "cell_type": "code",
   "execution_count": 21,
   "metadata": {},
   "outputs": [
    {
     "name": "stdout",
     "output_type": "stream",
     "text": [
      "<class 'pandas.core.frame.DataFrame'>\n",
      "Int64Index: 80 entries, 83 to 75\n",
      "Data columns (total 11 columns):\n",
      " #   Column              Non-Null Count  Dtype  \n",
      "---  ------              --------------  -----  \n",
      " 0   Year                80 non-null     int64  \n",
      " 1   Kilometers_Driven   80 non-null     int64  \n",
      " 2   Mileage             80 non-null     int64  \n",
      " 3   Engine              80 non-null     int64  \n",
      " 4   Power               80 non-null     int64  \n",
      " 5   Fuel_Type_codes     80 non-null     int64  \n",
      " 6   Transmission_codes  80 non-null     int64  \n",
      " 7   Brand_Codes         80 non-null     int64  \n",
      " 8   Owner_Type_Codes    80 non-null     float64\n",
      " 9   Seats_Codes         80 non-null     float64\n",
      " 10  Price               80 non-null     int64  \n",
      "dtypes: float64(2), int64(9)\n",
      "memory usage: 7.5 KB\n"
     ]
    }
   ],
   "source": [
    "# обєднуємо тренінгові дані\n",
    "df_train = pd.concat([X_train, y_train], axis=1)\n",
    "df_train.info()"
   ]
  },
  {
   "cell_type": "code",
   "execution_count": 22,
   "metadata": {},
   "outputs": [
    {
     "data": {
      "image/png": "[encoded data removed]",
      "text/plain": [
       "<Figure size 720x360 with 2 Axes>"
      ]
     },
     "metadata": {
      "needs_background": "light"
     },
     "output_type": "display_data"
    }
   ],
   "source": [
    "# будуємо матрицю кореляції\n",
    "plt.figure(figsize=(10, 5))\n",
    "matrix = np.triu(df_train.corr())\n",
    "sns.heatmap(df_train.corr(), annot=True, linewidth=.8, mask=matrix, cmap=\"rocket\");"
   ]
  },
  {
   "cell_type": "code",
   "execution_count": 23,
   "metadata": {},
   "outputs": [
    {
     "data": {
      "text/html": [
       "<div>\n",
       "<style scoped>\n",
       "    .dataframe tbody tr th:only-of-type {\n",
       "        vertical-align: middle;\n",
       "    }\n",
       "\n",
       "    .dataframe tbody tr th {\n",
       "        vertical-align: top;\n",
       "    }\n",
       "\n",
       "    .dataframe thead th {\n",
       "        text-align: right;\n",
       "    }\n",
       "</style>\n",
       "<table border=\"1\" class=\"dataframe\">\n",
       "  <thead>\n",
       "    <tr style=\"text-align: right;\">\n",
       "      <th></th>\n",
       "      <th>Price</th>\n",
       "    </tr>\n",
       "    <tr>\n",
       "      <th>Параметр</th>\n",
       "      <th></th>\n",
       "    </tr>\n",
       "  </thead>\n",
       "  <tbody>\n",
       "    <tr>\n",
       "      <th>Power</th>\n",
       "      <td>0.849137</td>\n",
       "    </tr>\n",
       "    <tr>\n",
       "      <th>Engine</th>\n",
       "      <td>0.710561</td>\n",
       "    </tr>\n",
       "    <tr>\n",
       "      <th>Transmission_codes</th>\n",
       "      <td>0.680731</td>\n",
       "    </tr>\n",
       "    <tr>\n",
       "      <th>Seats_Codes</th>\n",
       "      <td>-0.033071</td>\n",
       "    </tr>\n",
       "    <tr>\n",
       "      <th>Kilometers_Driven</th>\n",
       "      <td>-0.083951</td>\n",
       "    </tr>\n",
       "    <tr>\n",
       "      <th>Fuel_Type_codes</th>\n",
       "      <td>-0.110782</td>\n",
       "    </tr>\n",
       "    <tr>\n",
       "      <th>Year</th>\n",
       "      <td>-0.233769</td>\n",
       "    </tr>\n",
       "    <tr>\n",
       "      <th>Owner_Type_Codes</th>\n",
       "      <td>-0.265537</td>\n",
       "    </tr>\n",
       "    <tr>\n",
       "      <th>Mileage</th>\n",
       "      <td>-0.638404</td>\n",
       "    </tr>\n",
       "  </tbody>\n",
       "</table>\n",
       "</div>"
      ],
      "text/plain": [
       "                       Price\n",
       "Параметр                    \n",
       "Power               0.849137\n",
       "Engine              0.710561\n",
       "Transmission_codes  0.680731\n",
       "Seats_Codes        -0.033071\n",
       "Kilometers_Driven  -0.083951\n",
       "Fuel_Type_codes    -0.110782\n",
       "Year               -0.233769\n",
       "Owner_Type_Codes   -0.265537\n",
       "Mileage            -0.638404"
      ]
     },
     "execution_count": 23,
     "metadata": {},
     "output_type": "execute_result"
    }
   ],
   "source": [
    "#виводимо показники кореляції по всім даним\n",
    "df_cor=df_train.corr()\n",
    "\n",
    "df_cor2=pd.DataFrame(\n",
    "    {\n",
    "        \"Параметр\":df_cor.index,\n",
    "        \"Price\":df_cor['Price']\n",
    "    }\n",
    ").groupby('Параметр').first()\n",
    "\n",
    "df_cor3=df_cor2.loc[df_cor2['Price'] < 1]\n",
    "\n",
    "df_cor4=df_cor3.nlargest(9, 'Price')\n",
    "\n",
    "df_cor4"
   ]
  },
  {
   "cell_type": "code",
   "execution_count": 24,
   "metadata": {},
   "outputs": [
    {
     "data": {
      "text/html": [
       "<div>\n",
       "<style scoped>\n",
       "    .dataframe tbody tr th:only-of-type {\n",
       "        vertical-align: middle;\n",
       "    }\n",
       "\n",
       "    .dataframe tbody tr th {\n",
       "        vertical-align: top;\n",
       "    }\n",
       "\n",
       "    .dataframe thead th {\n",
       "        text-align: right;\n",
       "    }\n",
       "</style>\n",
       "<table border=\"1\" class=\"dataframe\">\n",
       "  <thead>\n",
       "    <tr style=\"text-align: right;\">\n",
       "      <th></th>\n",
       "      <th>Price</th>\n",
       "    </tr>\n",
       "    <tr>\n",
       "      <th>Параметр</th>\n",
       "      <th></th>\n",
       "    </tr>\n",
       "  </thead>\n",
       "  <tbody>\n",
       "    <tr>\n",
       "      <th>Power</th>\n",
       "      <td>True</td>\n",
       "    </tr>\n",
       "    <tr>\n",
       "      <th>Engine</th>\n",
       "      <td>True</td>\n",
       "    </tr>\n",
       "    <tr>\n",
       "      <th>Transmission_codes</th>\n",
       "      <td>True</td>\n",
       "    </tr>\n",
       "    <tr>\n",
       "      <th>Seats_Codes</th>\n",
       "      <td>False</td>\n",
       "    </tr>\n",
       "    <tr>\n",
       "      <th>Kilometers_Driven</th>\n",
       "      <td>False</td>\n",
       "    </tr>\n",
       "    <tr>\n",
       "      <th>Fuel_Type_codes</th>\n",
       "      <td>False</td>\n",
       "    </tr>\n",
       "    <tr>\n",
       "      <th>Year</th>\n",
       "      <td>False</td>\n",
       "    </tr>\n",
       "    <tr>\n",
       "      <th>Owner_Type_Codes</th>\n",
       "      <td>False</td>\n",
       "    </tr>\n",
       "    <tr>\n",
       "      <th>Mileage</th>\n",
       "      <td>True</td>\n",
       "    </tr>\n",
       "  </tbody>\n",
       "</table>\n",
       "</div>"
      ],
      "text/plain": [
       "                    Price\n",
       "Параметр                 \n",
       "Power                True\n",
       "Engine               True\n",
       "Transmission_codes   True\n",
       "Seats_Codes         False\n",
       "Kilometers_Driven   False\n",
       "Fuel_Type_codes     False\n",
       "Year                False\n",
       "Owner_Type_Codes    False\n",
       "Mileage              True"
      ]
     },
     "execution_count": 24,
     "metadata": {},
     "output_type": "execute_result"
    }
   ],
   "source": [
    "# виводимо дані, що мають кореляцію по модулю >0.5\n",
    "df_cor4 = df_cor4.abs() > 0.5\n",
    "df_cor4"
   ]
  },
  {
   "cell_type": "markdown",
   "metadata": {},
   "source": [
    "**Висновок:**\n",
    "- найбільш корелюючими значеннями є 4 з 10 : `Power`, `Engine`, `Transmission_codes` і `Mileage`\n",
    "- цікаво, що `Mileage` має зворотню кореляцію"
   ]
  },
  {
   "cell_type": "markdown",
   "metadata": {
    "id": "G7BZ3pD-USgU"
   },
   "source": [
    "**Завдання 6**. Тренуємо лінійну регресію.\n",
    "0. Видаліть усі НЕчислові колонки з `X_train`, `X_test`, якщо ще цього не зробили.\n",
    "1. Натренуйте лінійну регресую з `sklearn` на усіх числових даних тренувального набору `X_train`.\n",
    "2. Зробіть передбачення на  `X_train`, `X_test`. Знайдіть і виведіть root mean squared error відхилення передбачення від справжніх значень цільової змінної.\n",
    "3. Побудуйте графік розсіювання передбачень проти реальних даних цільової змінної для тренувального і тестувального наборів даних. Що можете сказати про якість моделі?"
   ]
  },
  {
   "cell_type": "code",
   "execution_count": 25,
   "metadata": {
    "id": "SElx21B4f3VY"
   },
   "outputs": [
    {
     "name": "stdout",
     "output_type": "stream",
     "text": [
      "Loss (train): 406980.07302450103\n",
      "Loss (test): 328956.5223120837\n"
     ]
    }
   ],
   "source": [
    "# Створюємо і одразу тренуємо модель\n",
    "model = LinearRegression().fit(X_train, y_train)\n",
    "\n",
    "# Робимо передбачення моделлю (train)\n",
    "predictions_tr = model.predict(X_train)\n",
    "\n",
    "# Рахуємо лосс (train)\n",
    "loss_tr = mean_squared_error(y_train, predictions_tr, squared=False)\n",
    "print('Loss (train):', loss_tr)\n",
    "\n",
    "# Робимо передбачення моделлю (test)\n",
    "predictions_te = model.predict(X_test)\n",
    "\n",
    "# Рахуємо лосс (test)\n",
    "loss_te = mean_squared_error(y_test, predictions_te, squared=False)\n",
    "print('Loss (test):', loss_te)"
   ]
  },
  {
   "cell_type": "code",
   "execution_count": 26,
   "metadata": {},
   "outputs": [
    {
     "name": "stderr",
     "output_type": "stream",
     "text": [
      "No handles with labels found to put in legend.\n"
     ]
    },
    {
     "data": {
      "image/png": "[encoded data removed]",
      "text/plain": [
       "<Figure size 864x432 with 4 Axes>"
      ]
     },
     "metadata": {
      "needs_background": "light"
     },
     "output_type": "display_data"
    }
   ],
   "source": [
    "# Візуалізація результатів\n",
    "errors_tr = y_train - predictions_tr\n",
    "errors_te = y_test - predictions_te\n",
    "\n",
    "\n",
    "plt.figure(figsize=(12, 6))\n",
    "\n",
    "plt.subplot(2,2,1)\n",
    "plt.plot(errors_tr,'o', color='blue', label='Errors (train)')\n",
    "\n",
    "plt.subplot(2,2,2)\n",
    "plt.plot(errors_te,'o', color='red', label='Errors (test)')\n",
    "\n",
    "plt.subplot(2,2,3)\n",
    "plt.hist(errors_tr, color='blue')\n",
    "\n",
    "plt.subplot(2,2,4)\n",
    "plt.hist(errors_te, color='red')\n",
    "\n",
    "plt.title('Графік розсіювання передбачень')\n",
    "plt.legend()\n",
    "plt.grid(True)\n",
    "plt.show()"
   ]
  },
  {
   "cell_type": "markdown",
   "metadata": {},
   "source": [
    "**Висновок:**\n",
    "судячи з графіків розсіювання бачимо, що вони не є нормально розподвленніми. Це говорить про те, що модель необхідно поліпшувати"
   ]
  },
  {
   "cell_type": "markdown",
   "metadata": {
    "id": "0LcACfQ3W3VP"
   },
   "source": [
    "**Завдання 7**. Ми хочемо проаналізувати як впливає кожен чинник на цілову змінну. Для цього давайте промасштабуємо наші дані.\n",
    "1. Зробіть масштабування незалежних змінних використовуючи `StandardScaler`. Тренуємо на тренувальних даних, а на тестувальних лише викликаємо `transform`.\n",
    "\n",
    "2. Натренуйте модель на відмасштабованих даних і перегляньте коефіцієнти моделі. Які колонки є найвпливовішими на формування передбачення з точки зору коефіцієнтів? Проаналізуйте напрям дії найважливіших коефіцієнтів. Чи це логічно з точки зору значення відповідних змінних, що вони впливають на цільову змінну саме в напрямі збільшення / зменшення?"
   ]
  },
  {
   "cell_type": "code",
   "execution_count": 27,
   "metadata": {
    "id": "HA-l3vUWf6Af"
   },
   "outputs": [],
   "source": [
    "#масштабуємо дані\n",
    "scaler = StandardScaler()\n",
    "scaler.fit(X_train)\n",
    "X_train_s = scaler.transform(X_train)\n",
    "X_test_s = scaler.transform(X_test)"
   ]
  },
  {
   "cell_type": "code",
   "execution_count": 28,
   "metadata": {},
   "outputs": [
    {
     "name": "stdout",
     "output_type": "stream",
     "text": [
      "Loss (train, scaler): 406980.0730245044\n",
      "Loss (test, scaler): 328956.5223120787\n"
     ]
    }
   ],
   "source": [
    "# Створюємо і одразу тренуємо модель\n",
    "model_s = LinearRegression().fit(X_train_s, y_train)\n",
    "\n",
    "# Робимо передбачення моделлю (train)\n",
    "predictions_tr_s = model_s.predict(X_train_s)\n",
    "\n",
    "# Рахуємо лосс (train)\n",
    "loss_tr_s = mean_squared_error(y_train, predictions_tr_s, squared=False)\n",
    "print('Loss (train, scaler):', loss_tr_s)\n",
    "\n",
    "# Робимо передбачення моделлю (test)\n",
    "predictions_te_s = model_s.predict(X_test_s)\n",
    "\n",
    "# Рахуємо лосс (test)\n",
    "loss_te_s = mean_squared_error(y_test, predictions_te_s, squared=False)\n",
    "print('Loss (test, scaler):', loss_te_s)"
   ]
  },
  {
   "cell_type": "code",
   "execution_count": 29,
   "metadata": {},
   "outputs": [
    {
     "data": {
      "text/plain": [
       "(array([ -99896.36155009, -221835.38839589, -170040.14928553,\n",
       "        -172510.00998139,  737269.66167682, -165991.21713765,\n",
       "         259366.75603928,       0.        , -113172.01996292,\n",
       "         160751.74755921]),\n",
       " 1680000.000000004)"
      ]
     },
     "execution_count": 29,
     "metadata": {},
     "output_type": "execute_result"
    }
   ],
   "source": [
    "model_s.coef_, model_s.intercept_"
   ]
  },
  {
   "cell_type": "markdown",
   "metadata": {},
   "source": [
    "**Висновок:**\n",
    "- отримавши коеф відмасштабованої моделі бачимо від\"ємний, позитивний і нульовий вплив даних\n",
    "- найбільш впливовим від\"ємним значенням є `Kilometers_Driven`, що є логічним: при збільшенні пробігу знижується ціна на авто\n",
    "- найбільш впливовим позитивним показником є `Power`, що є логічним: при збільшенні потужності двигуна зростає вартість авто"
   ]
  },
  {
   "cell_type": "markdown",
   "metadata": {
    "id": "WNNkfnrHr7wL"
   },
   "source": [
    "**Завдання 8.** На тих самих відмасштабованих даних натренуйте модель з `statsmodels`. Виведіть звіт і проаналізуйте p-value коефіцієнтів. Які ознаки є стат значущими на рівні значущості 0.05? Напишіть їх список."
   ]
  },
  {
   "cell_type": "code",
   "execution_count": 30,
   "metadata": {
    "id": "hcYoViyff7zE"
   },
   "outputs": [
    {
     "name": "stdout",
     "output_type": "stream",
     "text": [
      "                            OLS Regression Results                            \n",
      "==============================================================================\n",
      "Dep. Variable:                  Price   R-squared:                       0.845\n",
      "Model:                            OLS   Adj. R-squared:                  0.825\n",
      "Method:                 Least Squares   F-statistic:                     42.42\n",
      "Date:                Wed, 29 May 2024   Prob (F-statistic):           6.95e-25\n",
      "Time:                        23:16:10   Log-Likelihood:                -1146.8\n",
      "No. Observations:                  80   AIC:                             2314.\n",
      "Df Residuals:                      70   BIC:                             2337.\n",
      "Df Model:                           9                                         \n",
      "Covariance Type:            nonrobust                                         \n",
      "==============================================================================\n",
      "                 coef    std err          t      P>|t|      [0.025      0.975]\n",
      "------------------------------------------------------------------------------\n",
      "const        1.68e+06   4.86e+04     34.537      0.000    1.58e+06    1.78e+06\n",
      "x1          -9.99e+04   8.02e+04     -1.246      0.217    -2.6e+05       6e+04\n",
      "x2         -2.218e+05   7.96e+04     -2.786      0.007   -3.81e+05    -6.3e+04\n",
      "x3           -1.7e+05   7.89e+04     -2.156      0.035   -3.27e+05   -1.27e+04\n",
      "x4         -1.725e+05   1.03e+05     -1.672      0.099   -3.78e+05    3.33e+04\n",
      "x5          7.373e+05   1.12e+05      6.594      0.000    5.14e+05     9.6e+05\n",
      "x6          -1.66e+05   6.16e+04     -2.697      0.009   -2.89e+05   -4.32e+04\n",
      "x7          2.594e+05   6.25e+04      4.148      0.000    1.35e+05    3.84e+05\n",
      "x8         -5.143e-11   4.63e-11     -1.110      0.271   -1.44e-10     4.1e-11\n",
      "x9         -1.132e+05   5.44e+04     -2.082      0.041   -2.22e+05   -4737.721\n",
      "x10         1.608e+05   6.24e+04      2.577      0.012    3.64e+04    2.85e+05\n",
      "==============================================================================\n",
      "Omnibus:                        3.352   Durbin-Watson:                   2.142\n",
      "Prob(Omnibus):                  0.187   Jarque-Bera (JB):                3.324\n",
      "Skew:                          -0.472   Prob(JB):                        0.190\n",
      "Kurtosis:                       2.673   Cond. No.                     1.99e+17\n",
      "==============================================================================\n",
      "\n",
      "Notes:\n",
      "[1] Standard Errors assume that the covariance matrix of the errors is correctly specified.\n",
      "[2] The smallest eigenvalue is 6.24e-33. This might indicate that there are\n",
      "strong multicollinearity problems or that the design matrix is singular.\n"
     ]
    }
   ],
   "source": [
    "Y = y_train\n",
    "X = X_train_s\n",
    "X = sm.add_constant(X)\n",
    "model = sm.OLS(Y,X)\n",
    "results = model.fit()\n",
    "print(results.summary())"
   ]
  },
  {
   "cell_type": "markdown",
   "metadata": {},
   "source": [
    "**Висновок:**\n",
    "Найбільш статзначущими є \n",
    "`Kilometers_Driven`, \n",
    "`Mileage`, \n",
    "`Power`, \n",
    "`Fuel_Type_codes`, \n",
    "`Transmission_codes`, \n",
    "`Owner_Type_Codes\t`,\n",
    "`Seats_Codes`"
   ]
  },
  {
   "cell_type": "markdown",
   "metadata": {
    "id": "pvOdCEVccfcM"
   },
   "source": [
    "**Завдання 9**. Натренуйте лінійну регресію з `statsmodels` тільки на ознаках, які виявлись стат. значущими в попередньому завданні. Проаналізуйте показники моделі. Чи значно змінились R2 і Adj. R-squared?"
   ]
  },
  {
   "cell_type": "code",
   "execution_count": 31,
   "metadata": {
    "id": "2uE1DqiCf85H"
   },
   "outputs": [
    {
     "name": "stdout",
     "output_type": "stream",
     "text": [
      "                            OLS Regression Results                            \n",
      "==============================================================================\n",
      "Dep. Variable:                  Price   R-squared:                       0.842\n",
      "Model:                            OLS   Adj. R-squared:                  0.824\n",
      "Method:                 Least Squares   F-statistic:                     47.16\n",
      "Date:                Wed, 29 May 2024   Prob (F-statistic):           2.07e-25\n",
      "Time:                        23:16:10   Log-Likelihood:                -1147.7\n",
      "No. Observations:                  80   AIC:                             2313.\n",
      "Df Residuals:                      71   BIC:                             2335.\n",
      "Df Model:                           8                                         \n",
      "Covariance Type:            nonrobust                                         \n",
      "==============================================================================\n",
      "                 coef    std err          t      P>|t|      [0.025      0.975]\n",
      "------------------------------------------------------------------------------\n",
      "const        1.68e+06   4.88e+04     34.404      0.000    1.58e+06    1.78e+06\n",
      "x1         -1.508e+05   5.58e+04     -2.702      0.009   -2.62e+05   -3.95e+04\n",
      "x2         -1.554e+05   7.83e+04     -1.984      0.051   -3.11e+05     767.511\n",
      "x3         -1.391e+05      1e+05     -1.391      0.169   -3.39e+05    6.03e+04\n",
      "x4           7.45e+05   1.12e+05      6.647      0.000    5.22e+05    9.69e+05\n",
      "x5         -1.627e+05   6.17e+04     -2.636      0.010   -2.86e+05   -3.96e+04\n",
      "x6          2.703e+05   6.22e+04      4.348      0.000    1.46e+05    3.94e+05\n",
      "x7         -1.049e+05   5.42e+04     -1.936      0.057   -2.13e+05    3149.594\n",
      "x8           1.62e+05   6.26e+04      2.588      0.012    3.72e+04    2.87e+05\n",
      "==============================================================================\n",
      "Omnibus:                        4.109   Durbin-Watson:                   2.093\n",
      "Prob(Omnibus):                  0.128   Jarque-Bera (JB):                4.063\n",
      "Skew:                          -0.540   Prob(JB):                        0.131\n",
      "Kurtosis:                       2.771   Cond. No.                         4.90\n",
      "==============================================================================\n",
      "\n",
      "Notes:\n",
      "[1] Standard Errors assume that the covariance matrix of the errors is correctly specified.\n"
     ]
    }
   ],
   "source": [
    "X_2 = X_train_s[:, [1, 2, 3, 4, 5, 6, 8, 9]]\n",
    "X_2 = sm.add_constant(X_2)\n",
    "model_2 = sm.OLS(Y,X_2)\n",
    "results_2 = model_2.fit()\n",
    "print(results_2.summary())"
   ]
  },
  {
   "cell_type": "markdown",
   "metadata": {},
   "source": [
    "**Висновок:**\n",
    "Після вибірки у моделі лише статзначущих показників не побачили покращення показників моделі, навіть  є падіння результат на тисячні"
   ]
  },
  {
   "cell_type": "markdown",
   "metadata": {
    "id": "q-AJSrlxdx-p"
   },
   "source": [
    "**Завдання 10**. Натренуйте лінійну регресію з `statsmodels` на усіх ознаках з масштабованого `X_train`, у яких p_value в завданні 7 менше за `0.25`. Ми таким чином помʼякшили критерій відбору ознак. Проаналізуйте показники моделі. Чи значно змінились R2 і Adj. R-squared порівняно з завданням 7? Яку модель з останніх 3х завдань ви б лишили для використання?"
   ]
  },
  {
   "cell_type": "code",
   "execution_count": 32,
   "metadata": {},
   "outputs": [
    {
     "name": "stdout",
     "output_type": "stream",
     "text": [
      "                            OLS Regression Results                            \n",
      "==============================================================================\n",
      "Dep. Variable:                  Price   R-squared:                       0.845\n",
      "Model:                            OLS   Adj. R-squared:                  0.825\n",
      "Method:                 Least Squares   F-statistic:                     42.42\n",
      "Date:                Wed, 29 May 2024   Prob (F-statistic):           6.95e-25\n",
      "Time:                        23:16:10   Log-Likelihood:                -1146.8\n",
      "No. Observations:                  80   AIC:                             2314.\n",
      "Df Residuals:                      70   BIC:                             2337.\n",
      "Df Model:                           9                                         \n",
      "Covariance Type:            nonrobust                                         \n",
      "==============================================================================\n",
      "                 coef    std err          t      P>|t|      [0.025      0.975]\n",
      "------------------------------------------------------------------------------\n",
      "const        1.68e+06   4.86e+04     34.537      0.000    1.58e+06    1.78e+06\n",
      "x1          -9.99e+04   8.02e+04     -1.246      0.217    -2.6e+05       6e+04\n",
      "x2         -2.218e+05   7.96e+04     -2.786      0.007   -3.81e+05    -6.3e+04\n",
      "x3           -1.7e+05   7.89e+04     -2.156      0.035   -3.27e+05   -1.27e+04\n",
      "x4         -1.725e+05   1.03e+05     -1.672      0.099   -3.78e+05    3.33e+04\n",
      "x5          7.373e+05   1.12e+05      6.594      0.000    5.14e+05     9.6e+05\n",
      "x6          -1.66e+05   6.16e+04     -2.697      0.009   -2.89e+05   -4.32e+04\n",
      "x7          2.594e+05   6.25e+04      4.148      0.000    1.35e+05    3.84e+05\n",
      "x8         -1.132e+05   5.44e+04     -2.082      0.041   -2.22e+05   -4737.721\n",
      "x9          1.608e+05   6.24e+04      2.577      0.012    3.64e+04    2.85e+05\n",
      "==============================================================================\n",
      "Omnibus:                        3.352   Durbin-Watson:                   2.142\n",
      "Prob(Omnibus):                  0.187   Jarque-Bera (JB):                3.324\n",
      "Skew:                          -0.472   Prob(JB):                        0.190\n",
      "Kurtosis:                       2.673   Cond. No.                         5.13\n",
      "==============================================================================\n",
      "\n",
      "Notes:\n",
      "[1] Standard Errors assume that the covariance matrix of the errors is correctly specified.\n"
     ]
    }
   ],
   "source": [
    "X_3 = X_train_s[:, [0, 1, 2, 3, 4, 5, 6, 8, 9]]\n",
    "X_3 = sm.add_constant(X_3)\n",
    "model_3 = sm.OLS(Y,X_3)\n",
    "results_3 = model_3.fit()\n",
    "print(results_3.summary())"
   ]
  },
  {
   "cell_type": "markdown",
   "metadata": {},
   "source": [
    "**Висновок:**\n",
    "На мою думку найкращі результати ми отримали в завданні 9, тому цю модель я б використовувала для подальшої роботи"
   ]
  },
  {
   "cell_type": "code",
   "execution_count": null,
   "metadata": {},
   "outputs": [],
   "source": []
  }
 ],
 "metadata": {
  "colab": {
   "provenance": []
  },
  "kernelspec": {
   "display_name": "Python 3 (ipykernel)",
   "language": "python",
   "name": "python3"
  },
  "language_info": {
   "codemirror_mode": {
    "name": "ipython",
    "version": 3
   },
   "file_extension": ".py",
   "mimetype": "text/x-python",
   "name": "python",
   "nbconvert_exporter": "python",
   "pygments_lexer": "ipython3",
   "version": "3.9.7"
  }
 },
 "nbformat": 4,
 "nbformat_minor": 1
}

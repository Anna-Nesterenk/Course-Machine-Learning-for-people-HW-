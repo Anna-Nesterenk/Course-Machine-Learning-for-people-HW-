{
 "cells": [
  {
   "cell_type": "markdown",
   "metadata": {
    "id": "EWomc9mXPTqZ"
   },
   "source": [
    "В цьому домашньому завданні кожне завдання оцінюється по 10 балів."
   ]
  },
  {
   "cell_type": "code",
   "execution_count": 1,
   "metadata": {},
   "outputs": [],
   "source": [
    "import pandas as pd\n",
    "import numpy as np\n",
    "import matplotlib.pyplot as plt\n",
    "from sklearn.linear_model import LinearRegression\n",
    "from sklearn.metrics import mean_squared_error"
   ]
  },
  {
   "cell_type": "markdown",
   "metadata": {
    "id": "6c79c881"
   },
   "source": [
    " **Завдання 1.** Після перегляду лекцій про поняття функії, вступ до лінійної алгебри і мат. формулювання лін. регресії знайдіть найкращу лінію для прогнозу `charges` за `age` **для некурців** (датафрейм `non_smoker_df`) з допомогою\n",
    "\n",
    "1. Методу МНК (з використанням тільки `numpy`, без `scikit learn`)\n",
    "\n",
    "2. Full-Batch градієнтного спуску з `numpy` . Протестуйте 3 різних learning rate і зробіть висновок, який є найкращим виходячи з практик для цього, наведених в лекції. Зверніть увагу, що на вхід треба набір даних дворозміний, для цього можливо треба буде трансформувати Ваші дані X в формат, як був в лекції \"Математичне формулювання лінійної регресії\". Також, градієнтний спуск в нашому випадку може розходитись з навчальним рейтом 0.1, бо цей рейт в цій задачі завеликий. Спробуйте нижчі рейти.\n",
    "3. З `scikit-learn.LinearRegression`. Тут зверніть увагу, що вхід `X` має бути двовимірним масивом, тому нам потрібно передати dataframe, а не окрему колонку. Якщо у Вас X - колонка (а у Вас так мало б бути), то можна скористатись `X.to_frame()` щоб конвертувати колонку в датафрейм.\n",
    "\n",
    "Для кожного методу\n",
    "- знайдіть і виведіть коефіцієнти моделі\n",
    "- обчисліть прогнози моделі і збережіть в окрему змінну\n",
    "- порахуйте точність прогнозу RMSE  \n",
    "\n",
    "Для градієнтного спуску виведіть графік помилки в залежності від ітерації.\n",
    "\n",
    "А також побудуйте на одному графіку дані `age` проти `charges` в вигляді діаграми розсіювання і всі чотири лінії регресії, знайдені кожним з методів (для град. спуску оберіть варіант з тим learning rate, який виявився найкращим).\n",
    "\n",
    "Зробіть висновки, чи відрізняються результати моделей?\n",
    "Чи є знайдены параметри моделы близькими до ваших найкращих припущень?"
   ]
  },
  {
   "cell_type": "markdown",
   "metadata": {},
   "source": [
    "**1. Метод МНК**"
   ]
  },
  {
   "cell_type": "code",
   "execution_count": 2,
   "metadata": {
    "id": "FQoRJkFUX6ln"
   },
   "outputs": [],
   "source": [
    "# створюємо базовий датафрейм\n",
    "\n",
    "medical_df = pd.read_csv('medical-charges.csv')\n",
    "non_smoker_df = medical_df[medical_df.smoker == 'no']"
   ]
  },
  {
   "cell_type": "code",
   "execution_count": 3,
   "metadata": {},
   "outputs": [],
   "source": [
    "# формуємо змінну Х\n",
    "\n",
    "age = non_smoker_df['age']\n",
    "X = np.array(age)\n",
    "ones = np.ones_like(X)\n",
    "\n",
    "X_1 = np.column_stack((ones, X))"
   ]
  },
  {
   "cell_type": "code",
   "execution_count": 4,
   "metadata": {},
   "outputs": [],
   "source": [
    "# задаємо цільову змінну у\n",
    "\n",
    "charges = non_smoker_df['charges']\n",
    "y = np.array(charges)"
   ]
  },
  {
   "cell_type": "code",
   "execution_count": 5,
   "metadata": {},
   "outputs": [],
   "source": [
    "def normal_equations(X,y):\n",
    "    \"\"\"Computes the closed-form solution to linear regression\"\"\"\n",
    "    theta = np.linalg.inv(X.T.dot(X)).dot(X.T).dot(y)\n",
    "    return theta"
   ]
  },
  {
   "cell_type": "code",
   "execution_count": 6,
   "metadata": {},
   "outputs": [],
   "source": [
    "MNK_coefs = normal_equations(X_1, y)"
   ]
  },
  {
   "cell_type": "code",
   "execution_count": 7,
   "metadata": {},
   "outputs": [
    {
     "data": {
      "text/plain": [
       "2719.059874396515"
      ]
     },
     "execution_count": 7,
     "metadata": {},
     "output_type": "execute_result"
    }
   ],
   "source": [
    "np.dot(X_1[0], MNK_coefs)"
   ]
  },
  {
   "cell_type": "code",
   "execution_count": 8,
   "metadata": {},
   "outputs": [],
   "source": [
    "predictions_MNK = np.dot(X_1, MNK_coefs)"
   ]
  },
  {
   "cell_type": "markdown",
   "metadata": {},
   "source": [
    "**2. Full-Batch градієнтного спуску з `numpy`**"
   ]
  },
  {
   "cell_type": "code",
   "execution_count": 9,
   "metadata": {},
   "outputs": [],
   "source": [
    "# Градієнтний спуск\n",
    "\n",
    "def full_batch_gradient_descent(X, y, lr=0.01, epochs=1000):\n",
    "    m, b = 0.0, 0.0  # Початкові параметри\n",
    "    n = len(y)\n",
    "    errors = []\n",
    "    for _ in range(epochs):\n",
    "        y_pred = m * X[:, 0] + b\n",
    "        error = y_pred - y\n",
    "        errors.append(sum(error**2))\n",
    "        m_gradient = (2/n) * np.dot(error, X[:, 0])\n",
    "        b_gradient = (2/n) * np.sum(error)\n",
    "        m = m - lr * m_gradient\n",
    "        b = b - lr * b_gradient\n",
    "    return m, b, errors"
   ]
  },
  {
   "cell_type": "code",
   "execution_count": 10,
   "metadata": {},
   "outputs": [
    {
     "data": {
      "text/plain": [
       "(4217.1341409276165, 4217.134140927617)"
      ]
     },
     "execution_count": 10,
     "metadata": {},
     "output_type": "execute_result"
    }
   ],
   "source": [
    "m_1, b_1, errors_1 = full_batch_gradient_descent(X_1, y, lr=0.05, epochs=90)\n",
    "predictions_fbgd_1 = m_1 * X_1[:, 0] + b_1\n",
    "m_1, b_1"
   ]
  },
  {
   "cell_type": "code",
   "execution_count": 11,
   "metadata": {},
   "outputs": [
    {
     "data": {
      "image/png": "[encoded data removed]",
      "text/plain": [
       "<Figure size 432x288 with 1 Axes>"
      ]
     },
     "metadata": {
      "needs_background": "light"
     },
     "output_type": "display_data"
    }
   ],
   "source": [
    "plt.plot(errors_1);"
   ]
  },
  {
   "cell_type": "code",
   "execution_count": 12,
   "metadata": {},
   "outputs": [
    {
     "data": {
      "text/plain": [
       "(3647.5489390095236, 3647.548939009524)"
      ]
     },
     "execution_count": 12,
     "metadata": {},
     "output_type": "execute_result"
    }
   ],
   "source": [
    "m_2, b_2, errors_2 = full_batch_gradient_descent(X_1, y, lr=0.0005, epochs=1000)\n",
    "predictions_fbgd_2 = m_2 * X_1[:, 0] + b_2\n",
    "m_2, b_2"
   ]
  },
  {
   "cell_type": "code",
   "execution_count": 13,
   "metadata": {},
   "outputs": [
    {
     "data": {
      "image/png": "[encoded data removed]",
      "text/plain": [
       "<Figure size 432x288 with 1 Axes>"
      ]
     },
     "metadata": {
      "needs_background": "light"
     },
     "output_type": "display_data"
    }
   ],
   "source": [
    "plt.plot(errors_2);"
   ]
  },
  {
   "cell_type": "code",
   "execution_count": 14,
   "metadata": {},
   "outputs": [
    {
     "data": {
      "text/plain": [
       "(165.35943665686773, 165.35943665686773)"
      ]
     },
     "execution_count": 14,
     "metadata": {},
     "output_type": "execute_result"
    }
   ],
   "source": [
    "m_3, b_3, errors_3 = full_batch_gradient_descent(X_1, y, lr=0.00001, epochs=1000)\n",
    "predictions_fbgd_3 = m_3 * X_1[:, 0] + b_3\n",
    "m_3, b_3"
   ]
  },
  {
   "cell_type": "code",
   "execution_count": 15,
   "metadata": {},
   "outputs": [
    {
     "data": {
      "image/png": "[encoded data removed]",
      "text/plain": [
       "<Figure size 432x288 with 1 Axes>"
      ]
     },
     "metadata": {
      "needs_background": "light"
     },
     "output_type": "display_data"
    }
   ],
   "source": [
    "plt.plot(errors_3);"
   ]
  },
  {
   "cell_type": "markdown",
   "metadata": {},
   "source": [
    "Судячи з отриманих графікв помилок, найкращий результат №1 з `lr=0.05, epochs=90`\n",
    "Його приймаємо для подальших розрахунків"
   ]
  },
  {
   "cell_type": "markdown",
   "metadata": {},
   "source": [
    "**3. `scikit-learn.LinearRegression`**"
   ]
  },
  {
   "cell_type": "code",
   "execution_count": 16,
   "metadata": {},
   "outputs": [],
   "source": [
    "# Модель лінійної регресії засобами Scikit-learn (МНК)\n",
    "lin_reg = LinearRegression()"
   ]
  },
  {
   "cell_type": "code",
   "execution_count": 17,
   "metadata": {},
   "outputs": [
    {
     "data": {
      "text/plain": [
       "LinearRegression()"
      ]
     },
     "execution_count": 17,
     "metadata": {},
     "output_type": "execute_result"
    }
   ],
   "source": [
    "lin_reg.fit(X_1, y)"
   ]
  },
  {
   "cell_type": "code",
   "execution_count": 18,
   "metadata": {},
   "outputs": [],
   "source": [
    "predictions_sklearn = lin_reg.predict(X_1)"
   ]
  },
  {
   "cell_type": "code",
   "execution_count": 19,
   "metadata": {},
   "outputs": [
    {
     "data": {
      "image/png": "[encoded data removed]",
      "text/plain": [
       "<Figure size 720x432 with 1 Axes>"
      ]
     },
     "metadata": {
      "needs_background": "light"
     },
     "output_type": "display_data"
    }
   ],
   "source": [
    "# Візуалізація результатів\n",
    "\n",
    "plt.figure(figsize=(10, 6))\n",
    "plt.scatter(X, y, color='blue', label='Data points')\n",
    "plt.plot(X, predictions_MNK, color='red', label='MNK')\n",
    "plt.plot(X, predictions_fbgd_1, color='green', label='Gradient descent')\n",
    "plt.plot(X, predictions_sklearn, color='pink', label='Scikit-learn')\n",
    "plt.xlabel('Значення змінної \"Age\"')\n",
    "plt.ylabel('Цільове значення \"Charges\"')\n",
    "plt.legend()\n",
    "plt.grid(True)\n",
    "plt.show()"
   ]
  },
  {
   "cell_type": "code",
   "execution_count": 20,
   "metadata": {},
   "outputs": [
    {
     "name": "stdout",
     "output_type": "stream",
     "text": [
      "Коефіцієнти з МНК:  [-2091.42055657   267.24891283]\n",
      "Коефіцієнти з град. спуску:  4217.134140927617 4217.1341409276165\n",
      "Коефіцієнти з sklearn:  -2091.4205565650846 [  0.         267.24891283]\n"
     ]
    }
   ],
   "source": [
    "print('Коефіцієнти з МНК: ', MNK_coefs)\n",
    "print('Коефіцієнти з град. спуску: ', b_1, m_1)\n",
    "print('Коефіцієнти з sklearn: ', lin_reg.intercept_, lin_reg.coef_)"
   ]
  },
  {
   "cell_type": "code",
   "execution_count": 21,
   "metadata": {},
   "outputs": [
    {
     "name": "stdout",
     "output_type": "stream",
     "text": [
      "RMSE МНК:  4662.505766636395\n",
      "RMSE град. спуску:  5990.964530287611\n",
      "RMSE sklearn:  4662.505766636395\n"
     ]
    }
   ],
   "source": [
    "rmse = mean_squared_error(y, predictions_MNK, squared=False)\n",
    "print('RMSE МНК: ', rmse)\n",
    "\n",
    "rmse_fbgd = mean_squared_error(y, predictions_fbgd_1, squared=False)\n",
    "print('RMSE град. спуску: ', rmse_fbgd)\n",
    "\n",
    "rmse_sklearn = mean_squared_error(y, predictions_sklearn, squared=False)\n",
    "print('RMSE sklearn: ', rmse_sklearn)"
   ]
  },
  {
   "cell_type": "markdown",
   "metadata": {},
   "source": [
    "**Висновок:**\n",
    "- маємо ідентичні результати, використовуючи методи МНК і sklearn\n",
    "- вирішення задачі градієнтним спуском не дало гарних результатів і ми бачимо більший показник rmse"
   ]
  },
  {
   "cell_type": "markdown",
   "metadata": {
    "id": "eaf4b75b"
   },
   "source": [
    " **Завдання 2.** Навчіть модель лінійної регресії з допомогою sklearn оцінювати розмір медичних збори для **курців** за їх віком.\n",
    "Виведіть\n",
    "- точність моделі\n",
    "-  коефіцієнти\n",
    "-  візуалізуйте модель у вигляді лінії на графіку розсіювання `age` проти `charges`\n",
    "\n",
    "і зробіть висновки, чи це хороша модель, чи ви б її використовували в компанії?"
   ]
  },
  {
   "cell_type": "code",
   "execution_count": 22,
   "metadata": {
    "id": "56e996b8"
   },
   "outputs": [],
   "source": [
    "# створюємо базовий датафрейм\n",
    "smoker_df = medical_df[medical_df.smoker == 'yes']\n",
    "\n",
    "# формуємо змінну Х\n",
    "age_smoker = smoker_df['age']\n",
    "X_smoker = np.array(age_smoker)\n",
    "ones_smoker = np.ones_like(X_smoker)\n",
    "\n",
    "X_smoker_1 = np.column_stack((ones_smoker, X_smoker))\n",
    "\n",
    "# задаємо цільову змінну у\n",
    "charges_smoker = smoker_df['charges']\n",
    "y_smoker = np.array(charges_smoker)"
   ]
  },
  {
   "cell_type": "code",
   "execution_count": 23,
   "metadata": {},
   "outputs": [],
   "source": [
    "# Модель лінійної регресії засобами Scikit-learn (МНК)\n",
    "lin_reg_smoker = LinearRegression()\n",
    "\n",
    "lin_reg_smoker.fit(X_smoker_1, y_smoker) #тренуємо модель\n",
    "\n",
    "predictions_sklearn_smoker = lin_reg.predict(X_smoker_1) #робимо передбачення"
   ]
  },
  {
   "cell_type": "code",
   "execution_count": 24,
   "metadata": {},
   "outputs": [
    {
     "name": "stdout",
     "output_type": "stream",
     "text": [
      "Коефіцієнти з sklearn:  20294.128126915966 [  0.         305.23760211]\n",
      "RMSE sklearn:  26148.867808867617\n"
     ]
    }
   ],
   "source": [
    "print('Коефіцієнти з sklearn: ', lin_reg_smoker.intercept_, lin_reg_smoker.coef_)\n",
    "\n",
    "rmse_sklearn_smoker = mean_squared_error(y_smoker, predictions_sklearn_smoker, squared=False)\n",
    "print('RMSE sklearn: ', rmse_sklearn_smoker)"
   ]
  },
  {
   "cell_type": "code",
   "execution_count": 25,
   "metadata": {},
   "outputs": [
    {
     "data": {
      "image/png": "[encoded data removed]",
      "text/plain": [
       "<Figure size 720x432 with 1 Axes>"
      ]
     },
     "metadata": {
      "needs_background": "light"
     },
     "output_type": "display_data"
    }
   ],
   "source": [
    "# Візуалізація результатів\n",
    "\n",
    "plt.figure(figsize=(10, 6))\n",
    "plt.scatter(X_smoker, y_smoker, color='blue', label='Data points')\n",
    "plt.plot(X_smoker, predictions_sklearn_smoker, color='orange', label='Scikit-learn')\n",
    "plt.xlabel('Значення змінної \"Age\"')\n",
    "plt.ylabel('Цільове значення \"Charges\"')\n",
    "plt.legend()\n",
    "plt.grid(True)\n",
    "plt.show()"
   ]
  },
  {
   "cell_type": "markdown",
   "metadata": {},
   "source": [
    "**Висновок:**\n",
    "На основі отриманих результатів розрахунків, я б не рекомендувала дану модель для використання в Компанії.\n",
    "На візуалізації ми чітко бачимо дві групи `курців`. Також ми маємо коеф. і точність моделі в рази вищі ніж в попередньому завданні для `не курців`. Це говорить про модель з великою похибкою передбачення.\n",
    "\n",
    "Для побудови більш якісної моделі спочатку необхідно виділити ці групи в окремі датасети, наприклад, `chsrges`<30 000 і >30 000 і потім для кожної з цих груп провести своє навчання"
   ]
  },
  {
   "cell_type": "code",
   "execution_count": null,
   "metadata": {},
   "outputs": [],
   "source": []
  }
 ],
 "metadata": {
  "colab": {
   "provenance": []
  },
  "kernelspec": {
   "display_name": "Python 3 (ipykernel)",
   "language": "python",
   "name": "python3"
  },
  "language_info": {
   "codemirror_mode": {
    "name": "ipython",
    "version": 3
   },
   "file_extension": ".py",
   "mimetype": "text/x-python",
   "name": "python",
   "nbconvert_exporter": "python",
   "pygments_lexer": "ipython3",
   "version": "3.9.7"
  }
 },
 "nbformat": 4,
 "nbformat_minor": 1
}

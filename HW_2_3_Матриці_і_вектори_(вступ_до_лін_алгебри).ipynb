{
 "cells": [
  {
   "cell_type": "code",
   "execution_count": 1,
   "metadata": {},
   "outputs": [],
   "source": [
    "import numpy as np"
   ]
  },
  {
   "cell_type": "markdown",
   "metadata": {
    "id": "efug1V4CM0lT"
   },
   "source": [
    "### Завдання 1: Створення матриць та векторів\n",
    "1. Створіть `numpy` вектор `vector` розмірністю 10 з випадковими дійсними значеннями в діапазоні від 0 до 1. Можна скористатись двома альтернативними варіантами:\n",
    "  1. Генерація випадкових чисел з модулем [`random.uniform`](https://docs.python.org/3/library/random.html).\n",
    "  2. Створення вектора з допомогою метода `numpy` [np.random.rand](https://numpy.org/doc/stable/reference/random/generated/numpy.random.rand.html)\n",
    "\n",
    "2. Створіть матрицю `matrix` типу `numpy.array` розмірності 3x3 з наступними значеннями\n",
    "\n",
    "  $$\n",
    "  matrix = \\begin{bmatrix}\n",
    "  11 & 14 & 17 \\\\\n",
    "  20 & 23 & 26 \\\\\n",
    "  29 & 32 & 35\n",
    "  \\end{bmatrix}\n",
    "  $$\n",
    "\n",
    "  будь-яким відомими Вам способом.\n",
    "\n",
    "Виведіть на екран вектор і матрицю, а також їх розміри.\n"
   ]
  },
  {
   "cell_type": "code",
   "execution_count": 2,
   "metadata": {
    "id": "jxA_lG2_VIMe"
   },
   "outputs": [
    {
     "name": "stdout",
     "output_type": "stream",
     "text": [
      "Тип даних вектора: <class 'numpy.ndarray'>\n",
      "Розмір вектора:  (10,)\n",
      "Вектор: [0.44242955 0.87094724 0.84984115 0.38015224 0.82266712 0.1131045\n",
      " 0.91338808 0.62528154 0.37771829 0.46153463]\n"
     ]
    }
   ],
   "source": [
    "# Вектор з 10 випадковими значеннями в діапазоні від 0 до 1\n",
    "vector = np.random.rand(10)\n",
    "\n",
    "print(\"Тип даних вектора:\", type(vector))\n",
    "print(\"Розмір вектора: \", vector.shape)\n",
    "print(\"Вектор:\", vector)"
   ]
  },
  {
   "cell_type": "code",
   "execution_count": 3,
   "metadata": {},
   "outputs": [
    {
     "name": "stdout",
     "output_type": "stream",
     "text": [
      "Тип даних матриці:  <class 'numpy.ndarray'>\n",
      "Розмір матриці:  (3, 3)\n",
      "Матриця:  [[11 14 17]\n",
      " [20 23 26]\n",
      " [29 32 35]]\n"
     ]
    }
   ],
   "source": [
    "# Створимо матрицю 3x3 з заданими значеннями\n",
    "matrix = np.array([\n",
    "    [11, 14, 17],\n",
    "    [20, 23, 26],\n",
    "    [29, 32, 35]\n",
    "])\n",
    "\n",
    "print(\"Тип даних матриці: \", type(matrix))\n",
    "print(\"Розмір матриці: \", matrix.shape)\n",
    "print(\"Матриця: \", matrix)"
   ]
  },
  {
   "cell_type": "markdown",
   "metadata": {
    "id": "TSJ1P4OuOVe2"
   },
   "source": [
    "\n",
    "### Завдання 2: Операції над векторами та матрицями\n",
    "Виконайте кожну з зазначених операцій над зазначеними оʼєктами і виведіть результат на екран:\n",
    "1. Додайте до кожного значення вектора `vector` число 10 і округліть кожне значення до 2 знаків після коми без використання циклів.\n",
    "2. Помножте кожен елемент матриці з першого завдання на 2 без використання циклів.\n",
    "3. Створіть новий вектор, який містить квадрат кожного `vector` без циклів.\n"
   ]
  },
  {
   "cell_type": "code",
   "execution_count": 4,
   "metadata": {
    "id": "nAAojtyUVJXN"
   },
   "outputs": [
    {
     "name": "stdout",
     "output_type": "stream",
     "text": [
      "1. Вектор з доданими 10 і округленням до 2 знаків після коми: [10.44 10.87 10.85 10.38 10.82 10.11 10.91 10.63 10.38 10.46]\n"
     ]
    }
   ],
   "source": [
    "# 1. Додаємо до кожного значення вектора число 10 і округлюємо до 2 знаків після коми\n",
    "vector = vector + 10\n",
    "vector = np.round(vector, 2)\n",
    "\n",
    "print(\"1. Вектор з доданими 10 і округленням до 2 знаків після коми:\", vector)"
   ]
  },
  {
   "cell_type": "code",
   "execution_count": 5,
   "metadata": {},
   "outputs": [
    {
     "name": "stdout",
     "output_type": "stream",
     "text": [
      "2. Матриця, помножена на 2: [[22 28 34]\n",
      " [40 46 52]\n",
      " [58 64 70]]\n"
     ]
    }
   ],
   "source": [
    "# 2. Множимо кожен елемент matrix на 2\n",
    "matrix = matrix * 2\n",
    "\n",
    "print(\"2. Матриця, помножена на 2:\", matrix)"
   ]
  },
  {
   "cell_type": "code",
   "execution_count": 6,
   "metadata": {},
   "outputs": [
    {
     "name": "stdout",
     "output_type": "stream",
     "text": [
      "3. Вектор квадратів елементів vector: [108.9936 118.1569 117.7225 107.7444 117.0724 102.2121 119.0281 112.9969\n",
      " 107.7444 109.4116]\n"
     ]
    }
   ],
   "source": [
    "# 3. Створюємо новий вектор, що містить квадрат кожного vector\n",
    "vector_squared = vector ** 2\n",
    "\n",
    "print(\"3. Вектор квадратів елементів vector:\", vector_squared)"
   ]
  },
  {
   "cell_type": "markdown",
   "metadata": {
    "id": "u6RvWVfhPy-k"
   },
   "source": [
    "\n",
    "### Завдання 3: Множення матриць\n",
    "1. Задані дві матриці `A` і `B`розмірностями 3x2 та 2х3. Виконайте їхнє множення, щоб отримати матрицю 2x2. Виведіть результуючу матрицю `result_matrix` на екран.\n",
    "\n",
    "2. Заданий вектор `C` розмірністю 2х1. Подумайте спочатку, яку розмірність Ви отрмаєте, коли домножите `result_matrix` на вектор `C` і який результат буде. А потім виконайте множення і виведіть результат на екран.\n",
    "\n",
    "3. Задана матриця `D` розмірністю 2х2. Подумайте спочатку, яку розмірність Ви отрмаєте, коли домножите `result_matrix` на матрицю `D` і який результат буде. А потім виконайте множення і виведіть результат на екран."
   ]
  },
  {
   "cell_type": "code",
   "execution_count": 7,
   "metadata": {
    "id": "RwXfPzlbSJ44"
   },
   "outputs": [
    {
     "data": {
      "text/plain": [
       "array([[0.18, 0.53],\n",
       "       [0.75, 0.47],\n",
       "       [0.35, 0.21]])"
      ]
     },
     "metadata": {},
     "output_type": "display_data"
    },
    {
     "data": {
      "text/plain": [
       "array([[0.17, 0.58, 0.75],\n",
       "       [0.38, 0.11, 0.15]])"
      ]
     },
     "metadata": {},
     "output_type": "display_data"
    },
    {
     "data": {
      "text/plain": [
       "array([[0],\n",
       "       [1]])"
      ]
     },
     "metadata": {},
     "output_type": "display_data"
    },
    {
     "data": {
      "text/plain": [
       "array([[0, 1],\n",
       "       [1, 0]])"
      ]
     },
     "metadata": {},
     "output_type": "display_data"
    }
   ],
   "source": [
    "A = np.array(\n",
    "    [[0.18, 0.53],\n",
    "     [0.75, 0.47],\n",
    "     [0.35, 0.21]])\n",
    "\n",
    "B = np.array(\n",
    "    [[0.17, 0.58, 0.75],\n",
    "     [0.38, 0.11, 0.15]])\n",
    "\n",
    "C = np.array([[0], [1]])\n",
    "\n",
    "D = np.array([[0,1], [1,0]])\n",
    "\n",
    "display(A, B, C, D)"
   ]
  },
  {
   "cell_type": "code",
   "execution_count": 8,
   "metadata": {
    "id": "z7-boTbhVKkj"
   },
   "outputs": [
    {
     "name": "stdout",
     "output_type": "stream",
     "text": [
      "Множення матриць A і B: [[0.232  0.1627 0.2145]\n",
      " [0.3061 0.4867 0.633 ]\n",
      " [0.1393 0.2261 0.294 ]]\n"
     ]
    }
   ],
   "source": [
    "# 1. Множення матриць A і B\n",
    "\n",
    "# Перевірка розмірностей матриць\n",
    "if A.shape[1] != B.shape[0]:\n",
    "    raise ValueError(\"Неможливо помножити матриці: розмірності неспівпадають.\")\n",
    "\n",
    "# Множення матриць A та B\n",
    "result_matrix = np.dot(A, B)\n",
    "\n",
    "# Виведемо результуючу матрицю\n",
    "print(\"Множення матриць A і B:\", result_matrix)"
   ]
  },
  {
   "cell_type": "code",
   "execution_count": 9,
   "metadata": {},
   "outputs": [
    {
     "ename": "ValueError",
     "evalue": "Неможливо помножити матрицю та вектор: розмірності неспівпадають.",
     "output_type": "error",
     "traceback": [
      "\u001b[1;31m---------------------------------------------------------------------------\u001b[0m",
      "\u001b[1;31mValueError\u001b[0m                                Traceback (most recent call last)",
      "\u001b[1;32mC:\\Users\\0D04~1\\AppData\\Local\\Temp/ipykernel_19284/2326629332.py\u001b[0m in \u001b[0;36m<module>\u001b[1;34m\u001b[0m\n\u001b[0;32m      3\u001b[0m \u001b[1;31m# Перевірка розмірностей вектора і матриці\u001b[0m\u001b[1;33m\u001b[0m\u001b[1;33m\u001b[0m\u001b[0m\n\u001b[0;32m      4\u001b[0m \u001b[1;32mif\u001b[0m \u001b[0mresult_matrix\u001b[0m\u001b[1;33m.\u001b[0m\u001b[0mshape\u001b[0m\u001b[1;33m[\u001b[0m\u001b[1;36m1\u001b[0m\u001b[1;33m]\u001b[0m \u001b[1;33m!=\u001b[0m \u001b[0mC\u001b[0m\u001b[1;33m.\u001b[0m\u001b[0mshape\u001b[0m\u001b[1;33m[\u001b[0m\u001b[1;36m0\u001b[0m\u001b[1;33m]\u001b[0m\u001b[1;33m:\u001b[0m\u001b[1;33m\u001b[0m\u001b[1;33m\u001b[0m\u001b[0m\n\u001b[1;32m----> 5\u001b[1;33m     \u001b[1;32mraise\u001b[0m \u001b[0mValueError\u001b[0m\u001b[1;33m(\u001b[0m\u001b[1;34m\"Неможливо помножити матрицю та вектор: розмірності неспівпадають.\"\u001b[0m\u001b[1;33m)\u001b[0m\u001b[1;33m\u001b[0m\u001b[1;33m\u001b[0m\u001b[0m\n\u001b[0m\u001b[0;32m      6\u001b[0m \u001b[1;33m\u001b[0m\u001b[0m\n\u001b[0;32m      7\u001b[0m \u001b[1;31m# Множення result_matrix на вектор C\u001b[0m\u001b[1;33m\u001b[0m\u001b[1;33m\u001b[0m\u001b[0m\n",
      "\u001b[1;31mValueError\u001b[0m: Неможливо помножити матрицю та вектор: розмірності неспівпадають."
     ]
    }
   ],
   "source": [
    "# 2. Множення вектора С на матрицю result_matrix\n",
    "\n",
    "# Перевірка розмірностей вектора і матриці\n",
    "if result_matrix.shape[1] != C.shape[0]:\n",
    "    raise ValueError(\"Неможливо помножити матрицю та вектор: розмірності неспівпадають.\")\n",
    "\n",
    "# Множення result_matrix на вектор C\n",
    "final_result = np.dot(result_matrix, C)\n",
    "\n",
    "# Виведення кінцевого результату\n",
    "print(\"Результат:\", final_result)"
   ]
  },
  {
   "cell_type": "code",
   "execution_count": 10,
   "metadata": {},
   "outputs": [
    {
     "ename": "ValueError",
     "evalue": "Неможливо помножити матрицю та вектор: розмірності неспівпадають.",
     "output_type": "error",
     "traceback": [
      "\u001b[1;31m---------------------------------------------------------------------------\u001b[0m",
      "\u001b[1;31mValueError\u001b[0m                                Traceback (most recent call last)",
      "\u001b[1;32mC:\\Users\\0D04~1\\AppData\\Local\\Temp/ipykernel_19284/1292917113.py\u001b[0m in \u001b[0;36m<module>\u001b[1;34m\u001b[0m\n\u001b[0;32m      3\u001b[0m \u001b[1;31m# Перевірка розмірностей матриць\u001b[0m\u001b[1;33m\u001b[0m\u001b[1;33m\u001b[0m\u001b[0m\n\u001b[0;32m      4\u001b[0m \u001b[1;32mif\u001b[0m \u001b[0mresult_matrix\u001b[0m\u001b[1;33m.\u001b[0m\u001b[0mshape\u001b[0m\u001b[1;33m[\u001b[0m\u001b[1;36m1\u001b[0m\u001b[1;33m]\u001b[0m \u001b[1;33m!=\u001b[0m \u001b[0mD\u001b[0m\u001b[1;33m.\u001b[0m\u001b[0mshape\u001b[0m\u001b[1;33m[\u001b[0m\u001b[1;36m0\u001b[0m\u001b[1;33m]\u001b[0m\u001b[1;33m:\u001b[0m\u001b[1;33m\u001b[0m\u001b[1;33m\u001b[0m\u001b[0m\n\u001b[1;32m----> 5\u001b[1;33m     \u001b[1;32mraise\u001b[0m \u001b[0mValueError\u001b[0m\u001b[1;33m(\u001b[0m\u001b[1;34m\"Неможливо помножити матрицю та вектор: розмірності неспівпадають.\"\u001b[0m\u001b[1;33m)\u001b[0m\u001b[1;33m\u001b[0m\u001b[1;33m\u001b[0m\u001b[0m\n\u001b[0m\u001b[0;32m      6\u001b[0m \u001b[1;33m\u001b[0m\u001b[0m\n\u001b[0;32m      7\u001b[0m \u001b[1;31m# Множення result_matrix на матрицю D\u001b[0m\u001b[1;33m\u001b[0m\u001b[1;33m\u001b[0m\u001b[0m\n",
      "\u001b[1;31mValueError\u001b[0m: Неможливо помножити матрицю та вектор: розмірності неспівпадають."
     ]
    }
   ],
   "source": [
    "# 3. Множення матриці D на матрицю result_matrix\n",
    "\n",
    "# Перевірка розмірностей матриць\n",
    "if result_matrix.shape[1] != D.shape[0]:\n",
    "    raise ValueError(\"Неможливо помножити матрицю та вектор: розмірності неспівпадають.\")\n",
    "\n",
    "# Множення result_matrix на матрицю D\n",
    "final_result = np.dot(result_matrix, D)\n",
    "\n",
    "# Виведення кінцевого результату\n",
    "print(\"Результат:\", final_result)"
   ]
  },
  {
   "cell_type": "markdown",
   "metadata": {
    "id": "wohp0_cxSGpl"
   },
   "source": [
    "\n",
    "### Завдання 4: Транспонування матриць\n",
    "1. Транспонуйте `result_matrix`.\n",
    "2. Зробіть транспонування вектора `vector` і виведіть форму нової структури. Чи бачите ви зміну?\n",
    "3. Використайте операцію `numpy.expand_dims` над вектором `vector` з аргументом axis=1. Запишіть отриманий результат в змінну `column_vector` і виведіть на екран. Порівняйте з `vector`.\n",
    "4. Зробіть транспонування `column_vector`, виведіть результат на екран разом з розмірностями отриманої структури.\n",
    "\n",
    "\n"
   ]
  },
  {
   "cell_type": "code",
   "execution_count": 11,
   "metadata": {
    "id": "4hFcq1baVLii"
   },
   "outputs": [
    {
     "name": "stdout",
     "output_type": "stream",
     "text": [
      "Оригінальна матриця result_matrix\n",
      "[[0.232  0.1627 0.2145]\n",
      " [0.3061 0.4867 0.633 ]\n",
      " [0.1393 0.2261 0.294 ]]\n",
      "Транспонована матриця result_matrix\n",
      "[[0.232  0.3061 0.1393]\n",
      " [0.1627 0.4867 0.2261]\n",
      " [0.2145 0.633  0.294 ]]\n"
     ]
    }
   ],
   "source": [
    "# 1. Транспонування result_matrix\n",
    "result_matrix_T = result_matrix.T\n",
    "\n",
    "print(\"Оригінальна матриця result_matrix\", result_matrix, sep='\\n')\n",
    "print(\"Транспонована матриця result_matrix\", result_matrix_T, sep='\\n')"
   ]
  },
  {
   "cell_type": "code",
   "execution_count": 12,
   "metadata": {},
   "outputs": [
    {
     "name": "stdout",
     "output_type": "stream",
     "text": [
      "Оригінальний вектор vector\n",
      "[10.44 10.87 10.85 10.38 10.82 10.11 10.91 10.63 10.38 10.46]\n",
      "Транспонований  вектор vector\n",
      "[10.44 10.87 10.85 10.38 10.82 10.11 10.91 10.63 10.38 10.46]\n"
     ]
    }
   ],
   "source": [
    "# 2. Транспонування вектора vector\n",
    "\n",
    "vector_T = vector.T\n",
    "\n",
    "print(\"Оригінальний вектор vector\", vector, sep='\\n')\n",
    "print(\"Транспонований  вектор vector\", vector_T, sep='\\n')\n"
   ]
  },
  {
   "cell_type": "markdown",
   "metadata": {},
   "source": [
    "При транспонуванні вектора ми не бачимо змін"
   ]
  },
  {
   "cell_type": "code",
   "execution_count": 13,
   "metadata": {},
   "outputs": [
    {
     "name": "stdout",
     "output_type": "stream",
     "text": [
      "Оригінальний вектор vector: [10.44 10.87 10.85 10.38 10.82 10.11 10.91 10.63 10.38 10.46]\n",
      "Cвектор-стовпець з numpy.expand_dims: [[10.44]\n",
      " [10.87]\n",
      " [10.85]\n",
      " [10.38]\n",
      " [10.82]\n",
      " [10.11]\n",
      " [10.91]\n",
      " [10.63]\n",
      " [10.38]\n",
      " [10.46]]\n",
      "Розмір оригінального vector: (10,)\n",
      "Розмір вектора-стовпця: (10, 1)\n"
     ]
    }
   ],
   "source": [
    "# 3. Операція numpy.expand_dims над вектором vector\n",
    "\n",
    "# Створюємо вектор-стовпець за допомогою numpy.expand_dims\n",
    "column_vector = np.expand_dims(vector, axis=1)\n",
    "\n",
    "print(\"Оригінальний вектор vector:\", vector)\n",
    "print(\"Cвектор-стовпець з numpy.expand_dims:\", column_vector)\n",
    "\n",
    "print(\"Розмір оригінального vector:\", vector.shape)\n",
    "print(\"Розмір вектора-стовпця:\", column_vector.shape)"
   ]
  },
  {
   "cell_type": "markdown",
   "metadata": {},
   "source": [
    "при використанні `numpy.expand_dims` ми змінюємо розмір (перевертаємо) вектор з вектора-рядка на вектор-стовпець"
   ]
  },
  {
   "cell_type": "code",
   "execution_count": 14,
   "metadata": {},
   "outputs": [
    {
     "name": "stdout",
     "output_type": "stream",
     "text": [
      "Nhfycgjyjdfybq column vector: [[10.44 10.87 10.85 10.38 10.82 10.11 10.91 10.63 10.38 10.46]]\n",
      "Transposed column vector shape: (1, 10)\n"
     ]
    }
   ],
   "source": [
    "# 4. Транспонуємо column_vector\n",
    "\n",
    "column_vector_T = column_vector.T\n",
    "\n",
    "print(\"Nhfycgjyjdfybq column vector:\", column_vector_T)\n",
    "print(\"Transposed column vector shape:\", column_vector_T.shape)"
   ]
  },
  {
   "cell_type": "code",
   "execution_count": null,
   "metadata": {},
   "outputs": [],
   "source": []
  }
 ],
 "metadata": {
  "colab": {
   "provenance": []
  },
  "kernelspec": {
   "display_name": "Python 3 (ipykernel)",
   "language": "python",
   "name": "python3"
  },
  "language_info": {
   "codemirror_mode": {
    "name": "ipython",
    "version": 3
   },
   "file_extension": ".py",
   "mimetype": "text/x-python",
   "name": "python",
   "nbconvert_exporter": "python",
   "pygments_lexer": "ipython3",
   "version": "3.9.7"
  }
 },
 "nbformat": 4,
 "nbformat_minor": 1
}

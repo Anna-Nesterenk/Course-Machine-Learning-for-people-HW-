{
 "cells": [
  {
   "cell_type": "markdown",
   "id": "fc044757",
   "metadata": {},
   "source": [
    "**Імпортуємо необхідні бібліотеки:**"
   ]
  },
  {
   "cell_type": "code",
   "execution_count": 1,
   "id": "b01cf690",
   "metadata": {},
   "outputs": [],
   "source": [
    "import pandas as pd\n",
    "from sklearn.model_selection import train_test_split\n",
    "import numpy as np\n",
    "from sklearn.preprocessing import OneHotEncoder\n",
    "from sklearn.preprocessing import MinMaxScaler\n",
    "from sklearn.linear_model import LogisticRegression\n",
    "from sklearn.metrics import accuracy_score\n",
    "from sklearn.metrics import confusion_matrix\n",
    "import matplotlib.pyplot as plt\n",
    "import seaborn as sns\n",
    "from sklearn.metrics import f1_score\n",
    "import joblib"
   ]
  },
  {
   "cell_type": "markdown",
   "id": "8818a941",
   "metadata": {},
   "source": [
    "# 1. Завантажуємо дані, ознайомлюємся з їх структурою і характеристиками"
   ]
  },
  {
   "cell_type": "markdown",
   "id": "27911401",
   "metadata": {},
   "source": [
    "Файли\n",
    "\n",
    "**train.csv** - тренувальний набір даних; `Exited` є бінарною цільовою змінною\n",
    "\n",
    "**test.csv** - тестовий набір даних; наша мета — передбачити ймовірність `Exited`"
   ]
  },
  {
   "cell_type": "code",
   "execution_count": 2,
   "id": "45eadea6",
   "metadata": {},
   "outputs": [
    {
     "data": {
      "text/html": [
       "<div>\n",
       "<style scoped>\n",
       "    .dataframe tbody tr th:only-of-type {\n",
       "        vertical-align: middle;\n",
       "    }\n",
       "\n",
       "    .dataframe tbody tr th {\n",
       "        vertical-align: top;\n",
       "    }\n",
       "\n",
       "    .dataframe thead th {\n",
       "        text-align: right;\n",
       "    }\n",
       "</style>\n",
       "<table border=\"1\" class=\"dataframe\">\n",
       "  <thead>\n",
       "    <tr style=\"text-align: right;\">\n",
       "      <th></th>\n",
       "      <th>id</th>\n",
       "      <th>CustomerId</th>\n",
       "      <th>Surname</th>\n",
       "      <th>CreditScore</th>\n",
       "      <th>Geography</th>\n",
       "      <th>Gender</th>\n",
       "      <th>Age</th>\n",
       "      <th>Tenure</th>\n",
       "      <th>Balance</th>\n",
       "      <th>NumOfProducts</th>\n",
       "      <th>HasCrCard</th>\n",
       "      <th>IsActiveMember</th>\n",
       "      <th>EstimatedSalary</th>\n",
       "    </tr>\n",
       "  </thead>\n",
       "  <tbody>\n",
       "    <tr>\n",
       "      <th>0</th>\n",
       "      <td>15000</td>\n",
       "      <td>15594796.0</td>\n",
       "      <td>Chu</td>\n",
       "      <td>584.0</td>\n",
       "      <td>Germany</td>\n",
       "      <td>Male</td>\n",
       "      <td>30.0</td>\n",
       "      <td>2.0</td>\n",
       "      <td>146053.66</td>\n",
       "      <td>1.0</td>\n",
       "      <td>1.0</td>\n",
       "      <td>1.0</td>\n",
       "      <td>157891.86</td>\n",
       "    </tr>\n",
       "    <tr>\n",
       "      <th>1</th>\n",
       "      <td>15001</td>\n",
       "      <td>15642821.0</td>\n",
       "      <td>Mazzi</td>\n",
       "      <td>551.0</td>\n",
       "      <td>France</td>\n",
       "      <td>Male</td>\n",
       "      <td>39.0</td>\n",
       "      <td>5.0</td>\n",
       "      <td>0.00</td>\n",
       "      <td>2.0</td>\n",
       "      <td>1.0</td>\n",
       "      <td>1.0</td>\n",
       "      <td>67431.28</td>\n",
       "    </tr>\n",
       "    <tr>\n",
       "      <th>2</th>\n",
       "      <td>15002</td>\n",
       "      <td>15716284.0</td>\n",
       "      <td>Onyekachi</td>\n",
       "      <td>706.0</td>\n",
       "      <td>France</td>\n",
       "      <td>Male</td>\n",
       "      <td>43.0</td>\n",
       "      <td>8.0</td>\n",
       "      <td>0.00</td>\n",
       "      <td>2.0</td>\n",
       "      <td>1.0</td>\n",
       "      <td>0.0</td>\n",
       "      <td>156768.45</td>\n",
       "    </tr>\n",
       "    <tr>\n",
       "      <th>3</th>\n",
       "      <td>15003</td>\n",
       "      <td>15785078.0</td>\n",
       "      <td>Martin</td>\n",
       "      <td>717.0</td>\n",
       "      <td>Spain</td>\n",
       "      <td>Male</td>\n",
       "      <td>45.0</td>\n",
       "      <td>3.0</td>\n",
       "      <td>0.00</td>\n",
       "      <td>1.0</td>\n",
       "      <td>1.0</td>\n",
       "      <td>1.0</td>\n",
       "      <td>166909.87</td>\n",
       "    </tr>\n",
       "    <tr>\n",
       "      <th>4</th>\n",
       "      <td>15004</td>\n",
       "      <td>15662955.0</td>\n",
       "      <td>Kenechukwu</td>\n",
       "      <td>592.0</td>\n",
       "      <td>Spain</td>\n",
       "      <td>Male</td>\n",
       "      <td>43.0</td>\n",
       "      <td>8.0</td>\n",
       "      <td>0.00</td>\n",
       "      <td>2.0</td>\n",
       "      <td>1.0</td>\n",
       "      <td>1.0</td>\n",
       "      <td>143681.97</td>\n",
       "    </tr>\n",
       "    <tr>\n",
       "      <th>...</th>\n",
       "      <td>...</td>\n",
       "      <td>...</td>\n",
       "      <td>...</td>\n",
       "      <td>...</td>\n",
       "      <td>...</td>\n",
       "      <td>...</td>\n",
       "      <td>...</td>\n",
       "      <td>...</td>\n",
       "      <td>...</td>\n",
       "      <td>...</td>\n",
       "      <td>...</td>\n",
       "      <td>...</td>\n",
       "      <td>...</td>\n",
       "    </tr>\n",
       "    <tr>\n",
       "      <th>9995</th>\n",
       "      <td>24995</td>\n",
       "      <td>15642997.0</td>\n",
       "      <td>Chukwumaobim</td>\n",
       "      <td>639.0</td>\n",
       "      <td>Spain</td>\n",
       "      <td>Male</td>\n",
       "      <td>38.0</td>\n",
       "      <td>10.0</td>\n",
       "      <td>0.00</td>\n",
       "      <td>2.0</td>\n",
       "      <td>1.0</td>\n",
       "      <td>1.0</td>\n",
       "      <td>49637.65</td>\n",
       "    </tr>\n",
       "    <tr>\n",
       "      <th>9996</th>\n",
       "      <td>24996</td>\n",
       "      <td>15739271.0</td>\n",
       "      <td>Clements</td>\n",
       "      <td>678.0</td>\n",
       "      <td>Spain</td>\n",
       "      <td>Male</td>\n",
       "      <td>39.0</td>\n",
       "      <td>9.0</td>\n",
       "      <td>0.00</td>\n",
       "      <td>2.0</td>\n",
       "      <td>1.0</td>\n",
       "      <td>1.0</td>\n",
       "      <td>142513.50</td>\n",
       "    </tr>\n",
       "    <tr>\n",
       "      <th>9997</th>\n",
       "      <td>24997</td>\n",
       "      <td>15756743.0</td>\n",
       "      <td>Chidiebere</td>\n",
       "      <td>774.0</td>\n",
       "      <td>France</td>\n",
       "      <td>Male</td>\n",
       "      <td>30.0</td>\n",
       "      <td>9.0</td>\n",
       "      <td>0.00</td>\n",
       "      <td>2.0</td>\n",
       "      <td>1.0</td>\n",
       "      <td>0.0</td>\n",
       "      <td>4861.72</td>\n",
       "    </tr>\n",
       "    <tr>\n",
       "      <th>9998</th>\n",
       "      <td>24998</td>\n",
       "      <td>15680167.0</td>\n",
       "      <td>Yermakova</td>\n",
       "      <td>595.0</td>\n",
       "      <td>France</td>\n",
       "      <td>Male</td>\n",
       "      <td>38.0</td>\n",
       "      <td>6.0</td>\n",
       "      <td>144875.79</td>\n",
       "      <td>1.0</td>\n",
       "      <td>1.0</td>\n",
       "      <td>0.0</td>\n",
       "      <td>126469.09</td>\n",
       "    </tr>\n",
       "    <tr>\n",
       "      <th>9999</th>\n",
       "      <td>24999</td>\n",
       "      <td>15662901.0</td>\n",
       "      <td>Ting</td>\n",
       "      <td>660.0</td>\n",
       "      <td>France</td>\n",
       "      <td>Male</td>\n",
       "      <td>30.0</td>\n",
       "      <td>3.0</td>\n",
       "      <td>0.00</td>\n",
       "      <td>1.0</td>\n",
       "      <td>1.0</td>\n",
       "      <td>0.0</td>\n",
       "      <td>105784.85</td>\n",
       "    </tr>\n",
       "  </tbody>\n",
       "</table>\n",
       "<p>10000 rows × 13 columns</p>\n",
       "</div>"
      ],
      "text/plain": [
       "         id  CustomerId       Surname  CreditScore Geography Gender   Age  \\\n",
       "0     15000  15594796.0           Chu        584.0   Germany   Male  30.0   \n",
       "1     15001  15642821.0         Mazzi        551.0    France   Male  39.0   \n",
       "2     15002  15716284.0     Onyekachi        706.0    France   Male  43.0   \n",
       "3     15003  15785078.0        Martin        717.0     Spain   Male  45.0   \n",
       "4     15004  15662955.0    Kenechukwu        592.0     Spain   Male  43.0   \n",
       "...     ...         ...           ...          ...       ...    ...   ...   \n",
       "9995  24995  15642997.0  Chukwumaobim        639.0     Spain   Male  38.0   \n",
       "9996  24996  15739271.0      Clements        678.0     Spain   Male  39.0   \n",
       "9997  24997  15756743.0    Chidiebere        774.0    France   Male  30.0   \n",
       "9998  24998  15680167.0     Yermakova        595.0    France   Male  38.0   \n",
       "9999  24999  15662901.0          Ting        660.0    France   Male  30.0   \n",
       "\n",
       "      Tenure    Balance  NumOfProducts  HasCrCard  IsActiveMember  \\\n",
       "0        2.0  146053.66            1.0        1.0             1.0   \n",
       "1        5.0       0.00            2.0        1.0             1.0   \n",
       "2        8.0       0.00            2.0        1.0             0.0   \n",
       "3        3.0       0.00            1.0        1.0             1.0   \n",
       "4        8.0       0.00            2.0        1.0             1.0   \n",
       "...      ...        ...            ...        ...             ...   \n",
       "9995    10.0       0.00            2.0        1.0             1.0   \n",
       "9996     9.0       0.00            2.0        1.0             1.0   \n",
       "9997     9.0       0.00            2.0        1.0             0.0   \n",
       "9998     6.0  144875.79            1.0        1.0             0.0   \n",
       "9999     3.0       0.00            1.0        1.0             0.0   \n",
       "\n",
       "      EstimatedSalary  \n",
       "0           157891.86  \n",
       "1            67431.28  \n",
       "2           156768.45  \n",
       "3           166909.87  \n",
       "4           143681.97  \n",
       "...               ...  \n",
       "9995         49637.65  \n",
       "9996        142513.50  \n",
       "9997          4861.72  \n",
       "9998        126469.09  \n",
       "9999        105784.85  \n",
       "\n",
       "[10000 rows x 13 columns]"
      ]
     },
     "execution_count": 2,
     "metadata": {},
     "output_type": "execute_result"
    }
   ],
   "source": [
    "start_test_df = pd.read_csv('test.csv') # завантажуємо тестовий набір даних\n",
    "start_test_df"
   ]
  },
  {
   "cell_type": "code",
   "execution_count": 3,
   "id": "d30df57f",
   "metadata": {},
   "outputs": [
    {
     "data": {
      "text/html": [
       "<div>\n",
       "<style scoped>\n",
       "    .dataframe tbody tr th:only-of-type {\n",
       "        vertical-align: middle;\n",
       "    }\n",
       "\n",
       "    .dataframe tbody tr th {\n",
       "        vertical-align: top;\n",
       "    }\n",
       "\n",
       "    .dataframe thead th {\n",
       "        text-align: right;\n",
       "    }\n",
       "</style>\n",
       "<table border=\"1\" class=\"dataframe\">\n",
       "  <thead>\n",
       "    <tr style=\"text-align: right;\">\n",
       "      <th></th>\n",
       "      <th>id</th>\n",
       "      <th>CustomerId</th>\n",
       "      <th>Surname</th>\n",
       "      <th>CreditScore</th>\n",
       "      <th>Geography</th>\n",
       "      <th>Gender</th>\n",
       "      <th>Age</th>\n",
       "      <th>Tenure</th>\n",
       "      <th>Balance</th>\n",
       "      <th>NumOfProducts</th>\n",
       "      <th>HasCrCard</th>\n",
       "      <th>IsActiveMember</th>\n",
       "      <th>EstimatedSalary</th>\n",
       "      <th>Exited</th>\n",
       "    </tr>\n",
       "  </thead>\n",
       "  <tbody>\n",
       "    <tr>\n",
       "      <th>0</th>\n",
       "      <td>0</td>\n",
       "      <td>15779985.0</td>\n",
       "      <td>Nwankwo</td>\n",
       "      <td>678.0</td>\n",
       "      <td>France</td>\n",
       "      <td>Male</td>\n",
       "      <td>29.0</td>\n",
       "      <td>4.0</td>\n",
       "      <td>0.00</td>\n",
       "      <td>3.0</td>\n",
       "      <td>1.0</td>\n",
       "      <td>0.0</td>\n",
       "      <td>180626.36</td>\n",
       "      <td>0.0</td>\n",
       "    </tr>\n",
       "    <tr>\n",
       "      <th>1</th>\n",
       "      <td>1</td>\n",
       "      <td>15650086.0</td>\n",
       "      <td>Ch'in</td>\n",
       "      <td>687.0</td>\n",
       "      <td>France</td>\n",
       "      <td>Female</td>\n",
       "      <td>34.0</td>\n",
       "      <td>1.0</td>\n",
       "      <td>0.00</td>\n",
       "      <td>2.0</td>\n",
       "      <td>0.0</td>\n",
       "      <td>1.0</td>\n",
       "      <td>63736.17</td>\n",
       "      <td>0.0</td>\n",
       "    </tr>\n",
       "    <tr>\n",
       "      <th>2</th>\n",
       "      <td>2</td>\n",
       "      <td>15733602.0</td>\n",
       "      <td>Thompson</td>\n",
       "      <td>682.0</td>\n",
       "      <td>France</td>\n",
       "      <td>Female</td>\n",
       "      <td>52.0</td>\n",
       "      <td>6.0</td>\n",
       "      <td>0.00</td>\n",
       "      <td>3.0</td>\n",
       "      <td>0.0</td>\n",
       "      <td>0.0</td>\n",
       "      <td>179655.87</td>\n",
       "      <td>1.0</td>\n",
       "    </tr>\n",
       "    <tr>\n",
       "      <th>3</th>\n",
       "      <td>3</td>\n",
       "      <td>15645794.0</td>\n",
       "      <td>Macleod</td>\n",
       "      <td>753.0</td>\n",
       "      <td>Germany</td>\n",
       "      <td>Male</td>\n",
       "      <td>44.0</td>\n",
       "      <td>6.0</td>\n",
       "      <td>83347.25</td>\n",
       "      <td>2.0</td>\n",
       "      <td>1.0</td>\n",
       "      <td>0.0</td>\n",
       "      <td>161407.48</td>\n",
       "      <td>0.0</td>\n",
       "    </tr>\n",
       "    <tr>\n",
       "      <th>4</th>\n",
       "      <td>4</td>\n",
       "      <td>15633840.0</td>\n",
       "      <td>Hsia</td>\n",
       "      <td>544.0</td>\n",
       "      <td>Germany</td>\n",
       "      <td>Female</td>\n",
       "      <td>55.0</td>\n",
       "      <td>0.0</td>\n",
       "      <td>107747.57</td>\n",
       "      <td>1.0</td>\n",
       "      <td>1.0</td>\n",
       "      <td>0.0</td>\n",
       "      <td>176580.86</td>\n",
       "      <td>1.0</td>\n",
       "    </tr>\n",
       "    <tr>\n",
       "      <th>...</th>\n",
       "      <td>...</td>\n",
       "      <td>...</td>\n",
       "      <td>...</td>\n",
       "      <td>...</td>\n",
       "      <td>...</td>\n",
       "      <td>...</td>\n",
       "      <td>...</td>\n",
       "      <td>...</td>\n",
       "      <td>...</td>\n",
       "      <td>...</td>\n",
       "      <td>...</td>\n",
       "      <td>...</td>\n",
       "      <td>...</td>\n",
       "      <td>...</td>\n",
       "    </tr>\n",
       "    <tr>\n",
       "      <th>14995</th>\n",
       "      <td>14995</td>\n",
       "      <td>15807989.0</td>\n",
       "      <td>Ch'iu</td>\n",
       "      <td>585.0</td>\n",
       "      <td>France</td>\n",
       "      <td>Male</td>\n",
       "      <td>33.0</td>\n",
       "      <td>3.0</td>\n",
       "      <td>0.00</td>\n",
       "      <td>1.0</td>\n",
       "      <td>1.0</td>\n",
       "      <td>0.0</td>\n",
       "      <td>54191.38</td>\n",
       "      <td>0.0</td>\n",
       "    </tr>\n",
       "    <tr>\n",
       "      <th>14996</th>\n",
       "      <td>14996</td>\n",
       "      <td>15731781.0</td>\n",
       "      <td>Ch'ang</td>\n",
       "      <td>678.0</td>\n",
       "      <td>France</td>\n",
       "      <td>Male</td>\n",
       "      <td>34.0</td>\n",
       "      <td>6.0</td>\n",
       "      <td>0.00</td>\n",
       "      <td>2.0</td>\n",
       "      <td>1.0</td>\n",
       "      <td>1.0</td>\n",
       "      <td>53437.10</td>\n",
       "      <td>0.0</td>\n",
       "    </tr>\n",
       "    <tr>\n",
       "      <th>14997</th>\n",
       "      <td>14997</td>\n",
       "      <td>15667093.0</td>\n",
       "      <td>Goliwe</td>\n",
       "      <td>678.0</td>\n",
       "      <td>France</td>\n",
       "      <td>Female</td>\n",
       "      <td>54.0</td>\n",
       "      <td>4.0</td>\n",
       "      <td>0.00</td>\n",
       "      <td>1.0</td>\n",
       "      <td>1.0</td>\n",
       "      <td>0.0</td>\n",
       "      <td>147720.29</td>\n",
       "      <td>1.0</td>\n",
       "    </tr>\n",
       "    <tr>\n",
       "      <th>14998</th>\n",
       "      <td>14998</td>\n",
       "      <td>15732644.0</td>\n",
       "      <td>Fanucci</td>\n",
       "      <td>705.0</td>\n",
       "      <td>Spain</td>\n",
       "      <td>Female</td>\n",
       "      <td>40.0</td>\n",
       "      <td>7.0</td>\n",
       "      <td>0.00</td>\n",
       "      <td>2.0</td>\n",
       "      <td>1.0</td>\n",
       "      <td>0.0</td>\n",
       "      <td>149550.95</td>\n",
       "      <td>0.0</td>\n",
       "    </tr>\n",
       "    <tr>\n",
       "      <th>14999</th>\n",
       "      <td>14999</td>\n",
       "      <td>15713890.0</td>\n",
       "      <td>Milanesi</td>\n",
       "      <td>648.0</td>\n",
       "      <td>France</td>\n",
       "      <td>Female</td>\n",
       "      <td>42.0</td>\n",
       "      <td>3.0</td>\n",
       "      <td>0.00</td>\n",
       "      <td>3.0</td>\n",
       "      <td>1.0</td>\n",
       "      <td>0.0</td>\n",
       "      <td>112442.63</td>\n",
       "      <td>1.0</td>\n",
       "    </tr>\n",
       "  </tbody>\n",
       "</table>\n",
       "<p>15000 rows × 14 columns</p>\n",
       "</div>"
      ],
      "text/plain": [
       "          id  CustomerId   Surname  CreditScore Geography  Gender   Age  \\\n",
       "0          0  15779985.0   Nwankwo        678.0    France    Male  29.0   \n",
       "1          1  15650086.0     Ch'in        687.0    France  Female  34.0   \n",
       "2          2  15733602.0  Thompson        682.0    France  Female  52.0   \n",
       "3          3  15645794.0   Macleod        753.0   Germany    Male  44.0   \n",
       "4          4  15633840.0      Hsia        544.0   Germany  Female  55.0   \n",
       "...      ...         ...       ...          ...       ...     ...   ...   \n",
       "14995  14995  15807989.0     Ch'iu        585.0    France    Male  33.0   \n",
       "14996  14996  15731781.0    Ch'ang        678.0    France    Male  34.0   \n",
       "14997  14997  15667093.0    Goliwe        678.0    France  Female  54.0   \n",
       "14998  14998  15732644.0   Fanucci        705.0     Spain  Female  40.0   \n",
       "14999  14999  15713890.0  Milanesi        648.0    France  Female  42.0   \n",
       "\n",
       "       Tenure    Balance  NumOfProducts  HasCrCard  IsActiveMember  \\\n",
       "0         4.0       0.00            3.0        1.0             0.0   \n",
       "1         1.0       0.00            2.0        0.0             1.0   \n",
       "2         6.0       0.00            3.0        0.0             0.0   \n",
       "3         6.0   83347.25            2.0        1.0             0.0   \n",
       "4         0.0  107747.57            1.0        1.0             0.0   \n",
       "...       ...        ...            ...        ...             ...   \n",
       "14995     3.0       0.00            1.0        1.0             0.0   \n",
       "14996     6.0       0.00            2.0        1.0             1.0   \n",
       "14997     4.0       0.00            1.0        1.0             0.0   \n",
       "14998     7.0       0.00            2.0        1.0             0.0   \n",
       "14999     3.0       0.00            3.0        1.0             0.0   \n",
       "\n",
       "       EstimatedSalary  Exited  \n",
       "0            180626.36     0.0  \n",
       "1             63736.17     0.0  \n",
       "2            179655.87     1.0  \n",
       "3            161407.48     0.0  \n",
       "4            176580.86     1.0  \n",
       "...                ...     ...  \n",
       "14995         54191.38     0.0  \n",
       "14996         53437.10     0.0  \n",
       "14997        147720.29     1.0  \n",
       "14998        149550.95     0.0  \n",
       "14999        112442.63     1.0  \n",
       "\n",
       "[15000 rows x 14 columns]"
      ]
     },
     "execution_count": 3,
     "metadata": {},
     "output_type": "execute_result"
    }
   ],
   "source": [
    "start_train_df = pd.read_csv('train.csv') # завантажуємо трейновий набір даних\n",
    "start_train_df"
   ]
  },
  {
   "cell_type": "markdown",
   "id": "81733123",
   "metadata": {},
   "source": [
    "Із завантажених файлів бачимо, що наші набори даних містять як числові, так і категоріальні дані\n",
    "\n",
    "**Перевіремо якість даних на предмет відсутніх даних, а також перевіряємо типи даних у стовпцях**"
   ]
  },
  {
   "cell_type": "code",
   "execution_count": 4,
   "id": "ff62c2a5",
   "metadata": {},
   "outputs": [
    {
     "name": "stdout",
     "output_type": "stream",
     "text": [
      "<class 'pandas.core.frame.DataFrame'>\n",
      "RangeIndex: 10000 entries, 0 to 9999\n",
      "Data columns (total 13 columns):\n",
      " #   Column           Non-Null Count  Dtype  \n",
      "---  ------           --------------  -----  \n",
      " 0   id               10000 non-null  int64  \n",
      " 1   CustomerId       10000 non-null  float64\n",
      " 2   Surname          10000 non-null  object \n",
      " 3   CreditScore      10000 non-null  float64\n",
      " 4   Geography        10000 non-null  object \n",
      " 5   Gender           10000 non-null  object \n",
      " 6   Age              10000 non-null  float64\n",
      " 7   Tenure           10000 non-null  float64\n",
      " 8   Balance          10000 non-null  float64\n",
      " 9   NumOfProducts    10000 non-null  float64\n",
      " 10  HasCrCard        10000 non-null  float64\n",
      " 11  IsActiveMember   10000 non-null  float64\n",
      " 12  EstimatedSalary  10000 non-null  float64\n",
      "dtypes: float64(9), int64(1), object(3)\n",
      "memory usage: 1015.8+ KB\n"
     ]
    }
   ],
   "source": [
    "start_test_df.info()"
   ]
  },
  {
   "cell_type": "code",
   "execution_count": 5,
   "id": "5ec58af8",
   "metadata": {},
   "outputs": [
    {
     "name": "stdout",
     "output_type": "stream",
     "text": [
      "<class 'pandas.core.frame.DataFrame'>\n",
      "RangeIndex: 15000 entries, 0 to 14999\n",
      "Data columns (total 14 columns):\n",
      " #   Column           Non-Null Count  Dtype  \n",
      "---  ------           --------------  -----  \n",
      " 0   id               15000 non-null  int64  \n",
      " 1   CustomerId       15000 non-null  float64\n",
      " 2   Surname          15000 non-null  object \n",
      " 3   CreditScore      15000 non-null  float64\n",
      " 4   Geography        15000 non-null  object \n",
      " 5   Gender           15000 non-null  object \n",
      " 6   Age              15000 non-null  float64\n",
      " 7   Tenure           15000 non-null  float64\n",
      " 8   Balance          15000 non-null  float64\n",
      " 9   NumOfProducts    15000 non-null  float64\n",
      " 10  HasCrCard        15000 non-null  float64\n",
      " 11  IsActiveMember   15000 non-null  float64\n",
      " 12  EstimatedSalary  15000 non-null  float64\n",
      " 13  Exited           15000 non-null  float64\n",
      "dtypes: float64(10), int64(1), object(3)\n",
      "memory usage: 1.6+ MB\n"
     ]
    }
   ],
   "source": [
    "start_train_df.info()"
   ]
  },
  {
   "cell_type": "markdown",
   "id": "783f4c5c",
   "metadata": {},
   "source": [
    "Бачимо, що в наших трейнових і тестових даних немає пропущених значень"
   ]
  },
  {
   "cell_type": "markdown",
   "id": "08cad361",
   "metadata": {},
   "source": [
    "Оскільки подальшу роботу ми будемо вести використовучи `id` клієнта, то колонку `Surname` і `CustomerId` видалимо як зайві і ту, що не несут інформаційного навантаження"
   ]
  },
  {
   "cell_type": "code",
   "execution_count": 6,
   "id": "93fa0e99",
   "metadata": {},
   "outputs": [],
   "source": [
    "columns_to_drop = ['Surname', 'CustomerId']\n",
    "\n",
    "start_test_df = start_test_df.drop(columns_to_drop, axis=1)\n",
    "start_train_df = start_train_df.drop(columns_to_drop, axis=1)"
   ]
  },
  {
   "cell_type": "markdown",
   "id": "503178e6",
   "metadata": {},
   "source": [
    "Бачимо, що `id` має числовий формат, а це є не логічно і не оптимально з точки зору розміру даних.\n",
    "Змінимо тип даних в колонці на `str`"
   ]
  },
  {
   "cell_type": "code",
   "execution_count": 7,
   "id": "1c119daf",
   "metadata": {},
   "outputs": [],
   "source": [
    "start_train_df['id'] = start_train_df['id'].astype(\"str\")\n",
    "start_test_df['id'] = start_test_df['id'].astype(\"str\")"
   ]
  },
  {
   "cell_type": "markdown",
   "id": "c5eacf2e",
   "metadata": {},
   "source": [
    "# 2. Готуємо трейнову, валідаційну і тестові вибірки для подальшої роботи"
   ]
  },
  {
   "cell_type": "markdown",
   "id": "17337239",
   "metadata": {},
   "source": [
    "Оскільки для роботи нам надані дві вибірки: трейнова і тестова; то наша задача розділити трейнову вибірку на трейнову і валідоційну. Ділити будемо у співвідношенні 75/25"
   ]
  },
  {
   "cell_type": "code",
   "execution_count": 8,
   "id": "b010278f",
   "metadata": {},
   "outputs": [],
   "source": [
    "train_df, val_df = train_test_split(start_train_df, test_size=0.25, random_state=42)"
   ]
  },
  {
   "cell_type": "code",
   "execution_count": 9,
   "id": "b3af8c38",
   "metadata": {},
   "outputs": [
    {
     "name": "stdout",
     "output_type": "stream",
     "text": [
      "train_df.shape : (11250, 12)\n",
      "val_df.shape : (3750, 12)\n",
      "start_test_df.shape : (10000, 11)\n"
     ]
    }
   ],
   "source": [
    "print('train_df.shape :', train_df.shape)\n",
    "print('val_df.shape :', val_df.shape)\n",
    "print('start_test_df.shape :', start_test_df.shape)"
   ]
  },
  {
   "cell_type": "markdown",
   "id": "15a8182d",
   "metadata": {},
   "source": [
    "Визначаємо цільові і нецільові значення для подальшої роботи моделі:"
   ]
  },
  {
   "cell_type": "code",
   "execution_count": 10,
   "id": "dda6494e",
   "metadata": {},
   "outputs": [],
   "source": [
    "# трейновий набір\n",
    "train_inputs = train_df.drop('Exited', axis=1)\n",
    "train_targets = train_df['Exited']\n",
    "\n",
    "target_col='Exited'"
   ]
  },
  {
   "cell_type": "code",
   "execution_count": 11,
   "id": "5358be11",
   "metadata": {},
   "outputs": [],
   "source": [
    "# валідаційний набір\n",
    "val_inputs = val_df.drop('Exited', axis=1)\n",
    "val_targets = val_df['Exited']"
   ]
  },
  {
   "cell_type": "code",
   "execution_count": 12,
   "id": "0ba4eb1b",
   "metadata": {},
   "outputs": [],
   "source": [
    "# тестовий набір\n",
    "test_inputs = start_test_df"
   ]
  },
  {
   "cell_type": "markdown",
   "id": "ba4d7865",
   "metadata": {},
   "source": [
    "# 3. Працюємо з кодуванням і маштабуванням наборів даних для підготовки їх до навчання"
   ]
  },
  {
   "cell_type": "markdown",
   "id": "79a33608",
   "metadata": {},
   "source": [
    "Першим кроком аналізуємо окремо числові і категоріальні колонки"
   ]
  },
  {
   "cell_type": "code",
   "execution_count": 13,
   "id": "fa5c6e0d",
   "metadata": {},
   "outputs": [],
   "source": [
    "numeric_cols = train_inputs.select_dtypes(include=np.number).columns.tolist()\n",
    "categorical_cols = train_inputs.select_dtypes('object').columns.tolist()"
   ]
  },
  {
   "cell_type": "code",
   "execution_count": 14,
   "id": "7c721413",
   "metadata": {},
   "outputs": [
    {
     "data": {
      "text/html": [
       "<div>\n",
       "<style scoped>\n",
       "    .dataframe tbody tr th:only-of-type {\n",
       "        vertical-align: middle;\n",
       "    }\n",
       "\n",
       "    .dataframe tbody tr th {\n",
       "        vertical-align: top;\n",
       "    }\n",
       "\n",
       "    .dataframe thead th {\n",
       "        text-align: right;\n",
       "    }\n",
       "</style>\n",
       "<table border=\"1\" class=\"dataframe\">\n",
       "  <thead>\n",
       "    <tr style=\"text-align: right;\">\n",
       "      <th></th>\n",
       "      <th>CreditScore</th>\n",
       "      <th>Age</th>\n",
       "      <th>Tenure</th>\n",
       "      <th>Balance</th>\n",
       "      <th>NumOfProducts</th>\n",
       "      <th>HasCrCard</th>\n",
       "      <th>IsActiveMember</th>\n",
       "      <th>EstimatedSalary</th>\n",
       "    </tr>\n",
       "  </thead>\n",
       "  <tbody>\n",
       "    <tr>\n",
       "      <th>count</th>\n",
       "      <td>11250.00</td>\n",
       "      <td>11250.00</td>\n",
       "      <td>11250.00</td>\n",
       "      <td>11250.00</td>\n",
       "      <td>11250.00</td>\n",
       "      <td>11250.00</td>\n",
       "      <td>11250.00</td>\n",
       "      <td>11250.00</td>\n",
       "    </tr>\n",
       "    <tr>\n",
       "      <th>mean</th>\n",
       "      <td>659.70</td>\n",
       "      <td>37.72</td>\n",
       "      <td>5.01</td>\n",
       "      <td>42289.10</td>\n",
       "      <td>1.60</td>\n",
       "      <td>0.79</td>\n",
       "      <td>0.49</td>\n",
       "      <td>117881.64</td>\n",
       "    </tr>\n",
       "    <tr>\n",
       "      <th>std</th>\n",
       "      <td>72.47</td>\n",
       "      <td>8.22</td>\n",
       "      <td>2.78</td>\n",
       "      <td>59506.53</td>\n",
       "      <td>0.54</td>\n",
       "      <td>0.41</td>\n",
       "      <td>0.50</td>\n",
       "      <td>45741.40</td>\n",
       "    </tr>\n",
       "    <tr>\n",
       "      <th>min</th>\n",
       "      <td>431.00</td>\n",
       "      <td>18.00</td>\n",
       "      <td>0.00</td>\n",
       "      <td>0.00</td>\n",
       "      <td>1.00</td>\n",
       "      <td>0.00</td>\n",
       "      <td>0.00</td>\n",
       "      <td>11.58</td>\n",
       "    </tr>\n",
       "    <tr>\n",
       "      <th>25%</th>\n",
       "      <td>604.00</td>\n",
       "      <td>32.00</td>\n",
       "      <td>3.00</td>\n",
       "      <td>0.00</td>\n",
       "      <td>1.00</td>\n",
       "      <td>1.00</td>\n",
       "      <td>0.00</td>\n",
       "      <td>83085.03</td>\n",
       "    </tr>\n",
       "    <tr>\n",
       "      <th>50%</th>\n",
       "      <td>663.00</td>\n",
       "      <td>37.00</td>\n",
       "      <td>5.00</td>\n",
       "      <td>0.00</td>\n",
       "      <td>2.00</td>\n",
       "      <td>1.00</td>\n",
       "      <td>0.00</td>\n",
       "      <td>123587.83</td>\n",
       "    </tr>\n",
       "    <tr>\n",
       "      <th>75%</th>\n",
       "      <td>709.00</td>\n",
       "      <td>42.00</td>\n",
       "      <td>7.00</td>\n",
       "      <td>108902.95</td>\n",
       "      <td>2.00</td>\n",
       "      <td>1.00</td>\n",
       "      <td>1.00</td>\n",
       "      <td>157097.09</td>\n",
       "    </tr>\n",
       "    <tr>\n",
       "      <th>max</th>\n",
       "      <td>850.00</td>\n",
       "      <td>74.00</td>\n",
       "      <td>10.00</td>\n",
       "      <td>209767.31</td>\n",
       "      <td>4.00</td>\n",
       "      <td>1.00</td>\n",
       "      <td>1.00</td>\n",
       "      <td>199992.48</td>\n",
       "    </tr>\n",
       "  </tbody>\n",
       "</table>\n",
       "</div>"
      ],
      "text/plain": [
       "       CreditScore       Age    Tenure    Balance  NumOfProducts  HasCrCard  \\\n",
       "count     11250.00  11250.00  11250.00   11250.00       11250.00   11250.00   \n",
       "mean        659.70     37.72      5.01   42289.10           1.60       0.79   \n",
       "std          72.47      8.22      2.78   59506.53           0.54       0.41   \n",
       "min         431.00     18.00      0.00       0.00           1.00       0.00   \n",
       "25%         604.00     32.00      3.00       0.00           1.00       1.00   \n",
       "50%         663.00     37.00      5.00       0.00           2.00       1.00   \n",
       "75%         709.00     42.00      7.00  108902.95           2.00       1.00   \n",
       "max         850.00     74.00     10.00  209767.31           4.00       1.00   \n",
       "\n",
       "       IsActiveMember  EstimatedSalary  \n",
       "count        11250.00         11250.00  \n",
       "mean             0.49        117881.64  \n",
       "std              0.50         45741.40  \n",
       "min              0.00            11.58  \n",
       "25%              0.00         83085.03  \n",
       "50%              0.00        123587.83  \n",
       "75%              1.00        157097.09  \n",
       "max              1.00        199992.48  "
      ]
     },
     "execution_count": 14,
     "metadata": {},
     "output_type": "execute_result"
    }
   ],
   "source": [
    "train_inputs[numeric_cols].describe().round(2)"
   ]
  },
  {
   "cell_type": "code",
   "execution_count": 15,
   "id": "206f5e89",
   "metadata": {},
   "outputs": [
    {
     "data": {
      "text/plain": [
       "CreditScore         368\n",
       "Age                  56\n",
       "Tenure               11\n",
       "Balance            2765\n",
       "NumOfProducts         4\n",
       "HasCrCard             2\n",
       "IsActiveMember        2\n",
       "EstimatedSalary    5330\n",
       "dtype: int64"
      ]
     },
     "execution_count": 15,
     "metadata": {},
     "output_type": "execute_result"
    }
   ],
   "source": [
    "train_inputs[numeric_cols].nunique()"
   ]
  },
  {
   "cell_type": "markdown",
   "id": "5ca64fc0",
   "metadata": {},
   "source": [
    "Із наведених даних бачимо, що числові значення логічні, майже відсутні викиди (є зміщення по віку: 75-й персентиль 42 роки, максимальне значення 74 роки)"
   ]
  },
  {
   "cell_type": "markdown",
   "id": "75dc6008",
   "metadata": {},
   "source": [
    "Також ми спостерігаємо дві колонки з бінарними значеннями `HasCrCard` і `IsActiveMember`"
   ]
  },
  {
   "cell_type": "code",
   "execution_count": 16,
   "id": "085a3969",
   "metadata": {},
   "outputs": [
    {
     "data": {
      "text/plain": [
       "id           11250\n",
       "Geography        3\n",
       "Gender           2\n",
       "dtype: int64"
      ]
     },
     "execution_count": 16,
     "metadata": {},
     "output_type": "execute_result"
    }
   ],
   "source": [
    "train_inputs[categorical_cols].nunique()"
   ]
  },
  {
   "cell_type": "markdown",
   "id": "20a3968c",
   "metadata": {},
   "source": [
    "## 3.1. Кодуємо категоріальні дані"
   ]
  },
  {
   "cell_type": "markdown",
   "id": "f914cf73",
   "metadata": {},
   "source": [
    "Оскільки:\n",
    "\n",
    "`Gender` є бінарним для його кодування будемо використовувати метод \"0 і 1\"\n",
    "\n",
    "`Geography` є мультикатегоріальною, то будемо використовувати для кодування `sklearn.preprocessing.OneHotEncoder`\n",
    "\n",
    "`id` є ідентифікатором, його кодувати не будемо"
   ]
  },
  {
   "cell_type": "code",
   "execution_count": 17,
   "id": "ba6ea4a3",
   "metadata": {},
   "outputs": [
    {
     "data": {
      "text/plain": [
       "Male      6417\n",
       "Female    4833\n",
       "Name: Gender, dtype: int64"
      ]
     },
     "execution_count": 17,
     "metadata": {},
     "output_type": "execute_result"
    }
   ],
   "source": [
    "# кодуємо Gender\n",
    "train_inputs['Gender'].value_counts()"
   ]
  },
  {
   "cell_type": "code",
   "execution_count": 18,
   "id": "3c52b72c",
   "metadata": {},
   "outputs": [],
   "source": [
    "Gender_codes = {'Female': 0, 'Male': 1}\n",
    "\n",
    "train_inputs['Gender_codes'] = train_inputs.Gender.map(Gender_codes)\n",
    "val_inputs['Gender_codes'] = val_inputs.Gender.map(Gender_codes)\n",
    "test_inputs['Gender_codes'] = test_inputs.Gender.map(Gender_codes)"
   ]
  },
  {
   "cell_type": "code",
   "execution_count": 19,
   "id": "793bab55",
   "metadata": {},
   "outputs": [],
   "source": [
    "# кодуємо Geography\n",
    "hotenc = OneHotEncoder()\n",
    "hotenc.fit(train_inputs[['Geography']])\n",
    "\n",
    "train_inputs['Geography_Codes'] = hotenc.transform(train_inputs[['Geography']]).shape[0]\n",
    "val_inputs['Geography_Codes'] = hotenc.transform(val_inputs[['Geography']]).shape[0]\n",
    "test_inputs['Geography_Codes'] = hotenc.transform(test_inputs[['Geography']]).shape[0]"
   ]
  },
  {
   "cell_type": "markdown",
   "id": "a48513ce",
   "metadata": {},
   "source": [
    "Видяляємо оригінальні колонки `Gender` і `Geography`, надалі будемо працювати лише з їх кодами"
   ]
  },
  {
   "cell_type": "code",
   "execution_count": 20,
   "id": "569da6d7",
   "metadata": {},
   "outputs": [],
   "source": [
    "columns_to_drop = ['Geography', 'Gender']\n",
    "\n",
    "train_inputs = train_inputs.drop(columns_to_drop, axis=1)\n",
    "val_inputs = val_inputs.drop(columns_to_drop, axis=1)\n",
    "test_inputs = test_inputs.drop(columns_to_drop, axis=1)"
   ]
  },
  {
   "cell_type": "markdown",
   "id": "4d6a2961",
   "metadata": {},
   "source": [
    "## 3.2. Масштабуємо числові дані"
   ]
  },
  {
   "cell_type": "markdown",
   "id": "bc193e7e",
   "metadata": {},
   "source": [
    "Для масштабування будемо використовувати `MinMaxScaler` з `sklearn.preprocessing`, щоб масштабувати значення до діапазону $(0,1)$."
   ]
  },
  {
   "cell_type": "markdown",
   "id": "0b9f216e",
   "metadata": {},
   "source": [
    "Виключенням в масштабуванні у нас будуть колонки `HasCrCard` і `IsActiveMember` оскільки вони вже є бінарними"
   ]
  },
  {
   "cell_type": "code",
   "execution_count": 21,
   "id": "af7ba3dd",
   "metadata": {},
   "outputs": [
    {
     "data": {
      "text/plain": [
       "1.0    8892\n",
       "0.0    2358\n",
       "Name: HasCrCard, dtype: int64"
      ]
     },
     "execution_count": 21,
     "metadata": {},
     "output_type": "execute_result"
    }
   ],
   "source": [
    "train_inputs['HasCrCard'].value_counts()"
   ]
  },
  {
   "cell_type": "code",
   "execution_count": 22,
   "id": "4b3a3904",
   "metadata": {},
   "outputs": [
    {
     "data": {
      "text/plain": [
       "0.0    5758\n",
       "1.0    5492\n",
       "Name: IsActiveMember, dtype: int64"
      ]
     },
     "execution_count": 22,
     "metadata": {},
     "output_type": "execute_result"
    }
   ],
   "source": [
    "train_inputs['IsActiveMember'].value_counts()"
   ]
  },
  {
   "cell_type": "code",
   "execution_count": 23,
   "id": "c5d672f6",
   "metadata": {},
   "outputs": [
    {
     "data": {
      "text/plain": [
       "['CreditScore',\n",
       " 'Age',\n",
       " 'Tenure',\n",
       " 'Balance',\n",
       " 'NumOfProducts',\n",
       " 'HasCrCard',\n",
       " 'IsActiveMember',\n",
       " 'EstimatedSalary']"
      ]
     },
     "execution_count": 23,
     "metadata": {},
     "output_type": "execute_result"
    }
   ],
   "source": [
    "numeric_cols"
   ]
  },
  {
   "cell_type": "code",
   "execution_count": 24,
   "id": "265d4e9a",
   "metadata": {},
   "outputs": [],
   "source": [
    "# видаляємо назви цих стовпців із numeric_cols\n",
    "elements_to_remove = ['HasCrCard', 'IsActiveMember']\n",
    "\n",
    "for element in elements_to_remove:\n",
    "    if element in numeric_cols:\n",
    "        numeric_cols.remove(element)"
   ]
  },
  {
   "cell_type": "code",
   "execution_count": 25,
   "id": "0e41f69c",
   "metadata": {},
   "outputs": [],
   "source": [
    "# інніціюємо\n",
    "scaler = MinMaxScaler()"
   ]
  },
  {
   "cell_type": "code",
   "execution_count": 26,
   "id": "33dfdb67",
   "metadata": {},
   "outputs": [
    {
     "data": {
      "text/plain": [
       "MinMaxScaler()"
      ]
     },
     "execution_count": 26,
     "metadata": {},
     "output_type": "execute_result"
    }
   ],
   "source": [
    "# фітимо\n",
    "scaler.fit(train_inputs[numeric_cols])"
   ]
  },
  {
   "cell_type": "code",
   "execution_count": 27,
   "id": "0930115e",
   "metadata": {},
   "outputs": [],
   "source": [
    "# застосовуємо\n",
    "train_inputs[numeric_cols] = scaler.transform(train_inputs[numeric_cols])\n",
    "val_inputs[numeric_cols] = scaler.transform(val_inputs[numeric_cols])\n",
    "test_inputs[numeric_cols] = scaler.transform(test_inputs[numeric_cols])"
   ]
  },
  {
   "cell_type": "code",
   "execution_count": 28,
   "id": "79f0936c",
   "metadata": {},
   "outputs": [
    {
     "data": {
      "text/html": [
       "<div>\n",
       "<style scoped>\n",
       "    .dataframe tbody tr th:only-of-type {\n",
       "        vertical-align: middle;\n",
       "    }\n",
       "\n",
       "    .dataframe tbody tr th {\n",
       "        vertical-align: top;\n",
       "    }\n",
       "\n",
       "    .dataframe thead th {\n",
       "        text-align: right;\n",
       "    }\n",
       "</style>\n",
       "<table border=\"1\" class=\"dataframe\">\n",
       "  <thead>\n",
       "    <tr style=\"text-align: right;\">\n",
       "      <th></th>\n",
       "      <th>id</th>\n",
       "      <th>CreditScore</th>\n",
       "      <th>Age</th>\n",
       "      <th>Tenure</th>\n",
       "      <th>Balance</th>\n",
       "      <th>NumOfProducts</th>\n",
       "      <th>HasCrCard</th>\n",
       "      <th>IsActiveMember</th>\n",
       "      <th>EstimatedSalary</th>\n",
       "      <th>Gender_codes</th>\n",
       "      <th>Geography_Codes</th>\n",
       "    </tr>\n",
       "  </thead>\n",
       "  <tbody>\n",
       "    <tr>\n",
       "      <th>7410</th>\n",
       "      <td>7410</td>\n",
       "      <td>0.568019</td>\n",
       "      <td>0.196429</td>\n",
       "      <td>0.6</td>\n",
       "      <td>0.600483</td>\n",
       "      <td>0.333333</td>\n",
       "      <td>1.0</td>\n",
       "      <td>0.0</td>\n",
       "      <td>0.794453</td>\n",
       "      <td>0</td>\n",
       "      <td>11250</td>\n",
       "    </tr>\n",
       "    <tr>\n",
       "      <th>10894</th>\n",
       "      <td>10894</td>\n",
       "      <td>0.923628</td>\n",
       "      <td>0.178571</td>\n",
       "      <td>0.7</td>\n",
       "      <td>0.000000</td>\n",
       "      <td>0.333333</td>\n",
       "      <td>1.0</td>\n",
       "      <td>0.0</td>\n",
       "      <td>0.514536</td>\n",
       "      <td>1</td>\n",
       "      <td>11250</td>\n",
       "    </tr>\n",
       "    <tr>\n",
       "      <th>1934</th>\n",
       "      <td>1934</td>\n",
       "      <td>0.381862</td>\n",
       "      <td>0.285714</td>\n",
       "      <td>0.7</td>\n",
       "      <td>0.000000</td>\n",
       "      <td>0.333333</td>\n",
       "      <td>1.0</td>\n",
       "      <td>1.0</td>\n",
       "      <td>0.604264</td>\n",
       "      <td>0</td>\n",
       "      <td>11250</td>\n",
       "    </tr>\n",
       "    <tr>\n",
       "      <th>11539</th>\n",
       "      <td>11539</td>\n",
       "      <td>0.293556</td>\n",
       "      <td>0.303571</td>\n",
       "      <td>0.3</td>\n",
       "      <td>0.000000</td>\n",
       "      <td>0.333333</td>\n",
       "      <td>1.0</td>\n",
       "      <td>1.0</td>\n",
       "      <td>0.049869</td>\n",
       "      <td>1</td>\n",
       "      <td>11250</td>\n",
       "    </tr>\n",
       "    <tr>\n",
       "      <th>2952</th>\n",
       "      <td>2952</td>\n",
       "      <td>0.553699</td>\n",
       "      <td>0.375000</td>\n",
       "      <td>0.8</td>\n",
       "      <td>0.000000</td>\n",
       "      <td>0.333333</td>\n",
       "      <td>1.0</td>\n",
       "      <td>0.0</td>\n",
       "      <td>0.619911</td>\n",
       "      <td>1</td>\n",
       "      <td>11250</td>\n",
       "    </tr>\n",
       "  </tbody>\n",
       "</table>\n",
       "</div>"
      ],
      "text/plain": [
       "          id  CreditScore       Age  Tenure   Balance  NumOfProducts  \\\n",
       "7410    7410     0.568019  0.196429     0.6  0.600483       0.333333   \n",
       "10894  10894     0.923628  0.178571     0.7  0.000000       0.333333   \n",
       "1934    1934     0.381862  0.285714     0.7  0.000000       0.333333   \n",
       "11539  11539     0.293556  0.303571     0.3  0.000000       0.333333   \n",
       "2952    2952     0.553699  0.375000     0.8  0.000000       0.333333   \n",
       "\n",
       "       HasCrCard  IsActiveMember  EstimatedSalary  Gender_codes  \\\n",
       "7410         1.0             0.0         0.794453             0   \n",
       "10894        1.0             0.0         0.514536             1   \n",
       "1934         1.0             1.0         0.604264             0   \n",
       "11539        1.0             1.0         0.049869             1   \n",
       "2952         1.0             0.0         0.619911             1   \n",
       "\n",
       "       Geography_Codes  \n",
       "7410             11250  \n",
       "10894            11250  \n",
       "1934             11250  \n",
       "11539            11250  \n",
       "2952             11250  "
      ]
     },
     "metadata": {},
     "output_type": "display_data"
    },
    {
     "data": {
      "text/html": [
       "<div>\n",
       "<style scoped>\n",
       "    .dataframe tbody tr th:only-of-type {\n",
       "        vertical-align: middle;\n",
       "    }\n",
       "\n",
       "    .dataframe tbody tr th {\n",
       "        vertical-align: top;\n",
       "    }\n",
       "\n",
       "    .dataframe thead th {\n",
       "        text-align: right;\n",
       "    }\n",
       "</style>\n",
       "<table border=\"1\" class=\"dataframe\">\n",
       "  <thead>\n",
       "    <tr style=\"text-align: right;\">\n",
       "      <th></th>\n",
       "      <th>id</th>\n",
       "      <th>CreditScore</th>\n",
       "      <th>Age</th>\n",
       "      <th>Tenure</th>\n",
       "      <th>Balance</th>\n",
       "      <th>NumOfProducts</th>\n",
       "      <th>HasCrCard</th>\n",
       "      <th>IsActiveMember</th>\n",
       "      <th>EstimatedSalary</th>\n",
       "      <th>Gender_codes</th>\n",
       "      <th>Geography_Codes</th>\n",
       "    </tr>\n",
       "  </thead>\n",
       "  <tbody>\n",
       "    <tr>\n",
       "      <th>11499</th>\n",
       "      <td>11499</td>\n",
       "      <td>0.536993</td>\n",
       "      <td>0.321429</td>\n",
       "      <td>0.2</td>\n",
       "      <td>0.387906</td>\n",
       "      <td>0.333333</td>\n",
       "      <td>0.0</td>\n",
       "      <td>1.0</td>\n",
       "      <td>0.582344</td>\n",
       "      <td>1</td>\n",
       "      <td>3750</td>\n",
       "    </tr>\n",
       "    <tr>\n",
       "      <th>6475</th>\n",
       "      <td>6475</td>\n",
       "      <td>0.408115</td>\n",
       "      <td>0.803571</td>\n",
       "      <td>0.5</td>\n",
       "      <td>0.440804</td>\n",
       "      <td>0.000000</td>\n",
       "      <td>1.0</td>\n",
       "      <td>0.0</td>\n",
       "      <td>0.884594</td>\n",
       "      <td>1</td>\n",
       "      <td>3750</td>\n",
       "    </tr>\n",
       "    <tr>\n",
       "      <th>13167</th>\n",
       "      <td>13167</td>\n",
       "      <td>0.610979</td>\n",
       "      <td>0.267857</td>\n",
       "      <td>0.6</td>\n",
       "      <td>0.599930</td>\n",
       "      <td>0.333333</td>\n",
       "      <td>1.0</td>\n",
       "      <td>0.0</td>\n",
       "      <td>0.739828</td>\n",
       "      <td>1</td>\n",
       "      <td>3750</td>\n",
       "    </tr>\n",
       "    <tr>\n",
       "      <th>862</th>\n",
       "      <td>862</td>\n",
       "      <td>0.355609</td>\n",
       "      <td>0.500000</td>\n",
       "      <td>0.1</td>\n",
       "      <td>0.603414</td>\n",
       "      <td>0.000000</td>\n",
       "      <td>0.0</td>\n",
       "      <td>0.0</td>\n",
       "      <td>0.862275</td>\n",
       "      <td>1</td>\n",
       "      <td>3750</td>\n",
       "    </tr>\n",
       "    <tr>\n",
       "      <th>5970</th>\n",
       "      <td>5970</td>\n",
       "      <td>0.601432</td>\n",
       "      <td>0.303571</td>\n",
       "      <td>0.4</td>\n",
       "      <td>0.774393</td>\n",
       "      <td>0.000000</td>\n",
       "      <td>1.0</td>\n",
       "      <td>1.0</td>\n",
       "      <td>0.482479</td>\n",
       "      <td>0</td>\n",
       "      <td>3750</td>\n",
       "    </tr>\n",
       "  </tbody>\n",
       "</table>\n",
       "</div>"
      ],
      "text/plain": [
       "          id  CreditScore       Age  Tenure   Balance  NumOfProducts  \\\n",
       "11499  11499     0.536993  0.321429     0.2  0.387906       0.333333   \n",
       "6475    6475     0.408115  0.803571     0.5  0.440804       0.000000   \n",
       "13167  13167     0.610979  0.267857     0.6  0.599930       0.333333   \n",
       "862      862     0.355609  0.500000     0.1  0.603414       0.000000   \n",
       "5970    5970     0.601432  0.303571     0.4  0.774393       0.000000   \n",
       "\n",
       "       HasCrCard  IsActiveMember  EstimatedSalary  Gender_codes  \\\n",
       "11499        0.0             1.0         0.582344             1   \n",
       "6475         1.0             0.0         0.884594             1   \n",
       "13167        1.0             0.0         0.739828             1   \n",
       "862          0.0             0.0         0.862275             1   \n",
       "5970         1.0             1.0         0.482479             0   \n",
       "\n",
       "       Geography_Codes  \n",
       "11499             3750  \n",
       "6475              3750  \n",
       "13167             3750  \n",
       "862               3750  \n",
       "5970              3750  "
      ]
     },
     "metadata": {},
     "output_type": "display_data"
    },
    {
     "data": {
      "text/html": [
       "<div>\n",
       "<style scoped>\n",
       "    .dataframe tbody tr th:only-of-type {\n",
       "        vertical-align: middle;\n",
       "    }\n",
       "\n",
       "    .dataframe tbody tr th {\n",
       "        vertical-align: top;\n",
       "    }\n",
       "\n",
       "    .dataframe thead th {\n",
       "        text-align: right;\n",
       "    }\n",
       "</style>\n",
       "<table border=\"1\" class=\"dataframe\">\n",
       "  <thead>\n",
       "    <tr style=\"text-align: right;\">\n",
       "      <th></th>\n",
       "      <th>id</th>\n",
       "      <th>CreditScore</th>\n",
       "      <th>Age</th>\n",
       "      <th>Tenure</th>\n",
       "      <th>Balance</th>\n",
       "      <th>NumOfProducts</th>\n",
       "      <th>HasCrCard</th>\n",
       "      <th>IsActiveMember</th>\n",
       "      <th>EstimatedSalary</th>\n",
       "      <th>Gender_codes</th>\n",
       "      <th>Geography_Codes</th>\n",
       "    </tr>\n",
       "  </thead>\n",
       "  <tbody>\n",
       "    <tr>\n",
       "      <th>0</th>\n",
       "      <td>15000</td>\n",
       "      <td>0.365155</td>\n",
       "      <td>0.214286</td>\n",
       "      <td>0.2</td>\n",
       "      <td>0.696265</td>\n",
       "      <td>0.000000</td>\n",
       "      <td>1.0</td>\n",
       "      <td>1.0</td>\n",
       "      <td>0.789477</td>\n",
       "      <td>1</td>\n",
       "      <td>10000</td>\n",
       "    </tr>\n",
       "    <tr>\n",
       "      <th>1</th>\n",
       "      <td>15001</td>\n",
       "      <td>0.286396</td>\n",
       "      <td>0.375000</td>\n",
       "      <td>0.5</td>\n",
       "      <td>0.000000</td>\n",
       "      <td>0.333333</td>\n",
       "      <td>1.0</td>\n",
       "      <td>1.0</td>\n",
       "      <td>0.337131</td>\n",
       "      <td>1</td>\n",
       "      <td>10000</td>\n",
       "    </tr>\n",
       "    <tr>\n",
       "      <th>2</th>\n",
       "      <td>15002</td>\n",
       "      <td>0.656325</td>\n",
       "      <td>0.446429</td>\n",
       "      <td>0.8</td>\n",
       "      <td>0.000000</td>\n",
       "      <td>0.333333</td>\n",
       "      <td>1.0</td>\n",
       "      <td>0.0</td>\n",
       "      <td>0.783859</td>\n",
       "      <td>1</td>\n",
       "      <td>10000</td>\n",
       "    </tr>\n",
       "    <tr>\n",
       "      <th>3</th>\n",
       "      <td>15003</td>\n",
       "      <td>0.682578</td>\n",
       "      <td>0.482143</td>\n",
       "      <td>0.3</td>\n",
       "      <td>0.000000</td>\n",
       "      <td>0.000000</td>\n",
       "      <td>1.0</td>\n",
       "      <td>1.0</td>\n",
       "      <td>0.834571</td>\n",
       "      <td>1</td>\n",
       "      <td>10000</td>\n",
       "    </tr>\n",
       "    <tr>\n",
       "      <th>4</th>\n",
       "      <td>15004</td>\n",
       "      <td>0.384248</td>\n",
       "      <td>0.446429</td>\n",
       "      <td>0.8</td>\n",
       "      <td>0.000000</td>\n",
       "      <td>0.333333</td>\n",
       "      <td>1.0</td>\n",
       "      <td>1.0</td>\n",
       "      <td>0.718421</td>\n",
       "      <td>1</td>\n",
       "      <td>10000</td>\n",
       "    </tr>\n",
       "  </tbody>\n",
       "</table>\n",
       "</div>"
      ],
      "text/plain": [
       "      id  CreditScore       Age  Tenure   Balance  NumOfProducts  HasCrCard  \\\n",
       "0  15000     0.365155  0.214286     0.2  0.696265       0.000000        1.0   \n",
       "1  15001     0.286396  0.375000     0.5  0.000000       0.333333        1.0   \n",
       "2  15002     0.656325  0.446429     0.8  0.000000       0.333333        1.0   \n",
       "3  15003     0.682578  0.482143     0.3  0.000000       0.000000        1.0   \n",
       "4  15004     0.384248  0.446429     0.8  0.000000       0.333333        1.0   \n",
       "\n",
       "   IsActiveMember  EstimatedSalary  Gender_codes  Geography_Codes  \n",
       "0             1.0         0.789477             1            10000  \n",
       "1             1.0         0.337131             1            10000  \n",
       "2             0.0         0.783859             1            10000  \n",
       "3             1.0         0.834571             1            10000  \n",
       "4             1.0         0.718421             1            10000  "
      ]
     },
     "metadata": {},
     "output_type": "display_data"
    },
    {
     "data": {
      "text/plain": [
       "(None, None, None)"
      ]
     },
     "execution_count": 28,
     "metadata": {},
     "output_type": "execute_result"
    }
   ],
   "source": [
    "pd.set_option('display.max_columns', 100)\n",
    "display(train_inputs.head()), display(val_inputs.head()), display(test_inputs.head())"
   ]
  },
  {
   "cell_type": "markdown",
   "id": "5cf3ac4f",
   "metadata": {},
   "source": [
    "# 4. Аналізуємо вплив нецільових змінних на цільову "
   ]
  },
  {
   "cell_type": "markdown",
   "id": "b831528c",
   "metadata": {},
   "source": [
    "Влив нецільових змінних на цільову проаналізуємо за допомогою матриці кореляції. Для цього об'єднаємо трейновий і валідаційний датафрейми в один"
   ]
  },
  {
   "cell_type": "code",
   "execution_count": 29,
   "id": "6ffa06e6",
   "metadata": {},
   "outputs": [],
   "source": [
    "cor_df_x = pd.concat([train_inputs, val_inputs], axis=0)\n",
    "cor_df_y = pd.concat([train_targets, val_targets], axis=0)\n",
    "cor_df = pd.concat([cor_df_x, cor_df_y], axis=1)"
   ]
  },
  {
   "cell_type": "code",
   "execution_count": 30,
   "id": "0436d63e",
   "metadata": {},
   "outputs": [
    {
     "data": {
      "image/png": "[encoded data removed]",
      "text/plain": [
       "<Figure size 720x360 with 2 Axes>"
      ]
     },
     "metadata": {
      "needs_background": "light"
     },
     "output_type": "display_data"
    }
   ],
   "source": [
    "# будуємо матрицю кореляції\n",
    "plt.figure(figsize=(10, 5))\n",
    "matrix = np.triu(cor_df.corr())\n",
    "sns.heatmap(cor_df.corr(), annot=True, linewidth=.8, mask=matrix, cmap=\"rocket\");"
   ]
  },
  {
   "cell_type": "code",
   "execution_count": 31,
   "id": "3f7ad952",
   "metadata": {},
   "outputs": [
    {
     "data": {
      "text/html": [
       "<div>\n",
       "<style scoped>\n",
       "    .dataframe tbody tr th:only-of-type {\n",
       "        vertical-align: middle;\n",
       "    }\n",
       "\n",
       "    .dataframe tbody tr th {\n",
       "        vertical-align: top;\n",
       "    }\n",
       "\n",
       "    .dataframe thead th {\n",
       "        text-align: right;\n",
       "    }\n",
       "</style>\n",
       "<table border=\"1\" class=\"dataframe\">\n",
       "  <thead>\n",
       "    <tr style=\"text-align: right;\">\n",
       "      <th></th>\n",
       "      <th>Exited</th>\n",
       "    </tr>\n",
       "    <tr>\n",
       "      <th>Параметр</th>\n",
       "      <th></th>\n",
       "    </tr>\n",
       "  </thead>\n",
       "  <tbody>\n",
       "    <tr>\n",
       "      <th>Age</th>\n",
       "      <td>0.464689</td>\n",
       "    </tr>\n",
       "    <tr>\n",
       "      <th>Balance</th>\n",
       "      <td>0.153025</td>\n",
       "    </tr>\n",
       "    <tr>\n",
       "      <th>EstimatedSalary</th>\n",
       "      <td>0.023796</td>\n",
       "    </tr>\n",
       "    <tr>\n",
       "      <th>Geography_Codes</th>\n",
       "      <td>-0.008796</td>\n",
       "    </tr>\n",
       "    <tr>\n",
       "      <th>Tenure</th>\n",
       "      <td>-0.011637</td>\n",
       "    </tr>\n",
       "    <tr>\n",
       "      <th>HasCrCard</th>\n",
       "      <td>-0.017616</td>\n",
       "    </tr>\n",
       "    <tr>\n",
       "      <th>CreditScore</th>\n",
       "      <td>-0.047703</td>\n",
       "    </tr>\n",
       "    <tr>\n",
       "      <th>Gender_codes</th>\n",
       "      <td>-0.173322</td>\n",
       "    </tr>\n",
       "    <tr>\n",
       "      <th>IsActiveMember</th>\n",
       "      <td>-0.193615</td>\n",
       "    </tr>\n",
       "    <tr>\n",
       "      <th>NumOfProducts</th>\n",
       "      <td>-0.288563</td>\n",
       "    </tr>\n",
       "  </tbody>\n",
       "</table>\n",
       "</div>"
      ],
      "text/plain": [
       "                   Exited\n",
       "Параметр                 \n",
       "Age              0.464689\n",
       "Balance          0.153025\n",
       "EstimatedSalary  0.023796\n",
       "Geography_Codes -0.008796\n",
       "Tenure          -0.011637\n",
       "HasCrCard       -0.017616\n",
       "CreditScore     -0.047703\n",
       "Gender_codes    -0.173322\n",
       "IsActiveMember  -0.193615\n",
       "NumOfProducts   -0.288563"
      ]
     },
     "execution_count": 31,
     "metadata": {},
     "output_type": "execute_result"
    }
   ],
   "source": [
    "#виводимо показники кореляції по всім даним\n",
    "df_cor=cor_df.corr()\n",
    "\n",
    "df_cor2=pd.DataFrame(\n",
    "    {\n",
    "        \"Параметр\":df_cor.index,\n",
    "        \"Exited\":df_cor['Exited']\n",
    "    }\n",
    ").groupby('Параметр').first()\n",
    "\n",
    "df_cor3=df_cor2.loc[df_cor2['Exited'] < 1]\n",
    "\n",
    "df_cor4=df_cor3.nlargest(10, 'Exited')\n",
    "\n",
    "df_cor4"
   ]
  },
  {
   "cell_type": "markdown",
   "id": "50c3aa5c",
   "metadata": {},
   "source": [
    "Спостерігаємо, що кореляція достатньо низька (найбільший показник по модулю 0.46)\n",
    "\n",
    "Є як пряма, так і зворотня кореляція\n",
    "\n",
    "З отриманих даних можемо зробити висновок, що на цільовий показник досить суттєво впливають:\n",
    "- Age\n",
    "- Balance\n",
    "- Gender_codes\n",
    "- IsActiveMember\n",
    "- NumOfProducts"
   ]
  },
  {
   "cell_type": "markdown",
   "id": "78cc0e50",
   "metadata": {},
   "source": [
    "# 5. Навчаємо модель логістичної регресії"
   ]
  },
  {
   "cell_type": "markdown",
   "id": "2b6dde0e",
   "metadata": {},
   "source": [
    "Для подальшої роботи з трейнової, тестової і валідаційної вибірок виключемо колонку `CustomerId`, як нечислову"
   ]
  },
  {
   "cell_type": "code",
   "execution_count": 32,
   "id": "689647b3",
   "metadata": {},
   "outputs": [],
   "source": [
    "# Готуємо до прогнозування трейнову, валідаційну і тестову моделі\n",
    "X_train = train_inputs.drop('id', axis=1)\n",
    "X_val = val_inputs.drop('id', axis=1)\n",
    "X_test = test_inputs.drop('id', axis=1)\n",
    "\n",
    "categorical_cols_2 = 'id'"
   ]
  },
  {
   "cell_type": "code",
   "execution_count": 33,
   "id": "5043e33a",
   "metadata": {},
   "outputs": [],
   "source": [
    "# інніціюємо\n",
    "model = LogisticRegression(solver='liblinear')"
   ]
  },
  {
   "cell_type": "code",
   "execution_count": 34,
   "id": "1af0bd95",
   "metadata": {},
   "outputs": [
    {
     "data": {
      "text/plain": [
       "LogisticRegression(solver='liblinear')"
      ]
     },
     "execution_count": 34,
     "metadata": {},
     "output_type": "execute_result"
    }
   ],
   "source": [
    "# тренуємо\n",
    "model.fit(X_train, train_targets)"
   ]
  },
  {
   "cell_type": "code",
   "execution_count": 35,
   "id": "b866e76f",
   "metadata": {},
   "outputs": [],
   "source": [
    "train_preds = model.predict(X_train)"
   ]
  },
  {
   "cell_type": "code",
   "execution_count": 36,
   "id": "b96ce5aa",
   "metadata": {},
   "outputs": [
    {
     "data": {
      "text/plain": [
       "(array([0., 0., 0., 0., 0., 0., 0., 0., 0., 0., 0., 0., 0., 0., 0., 0., 0.,\n",
       "        0., 0., 0.]),\n",
       " 7410     0.0\n",
       " 10894    0.0\n",
       " 1934     0.0\n",
       " 11539    0.0\n",
       " 2952     0.0\n",
       " 8158     0.0\n",
       " 7653     0.0\n",
       " 13114    0.0\n",
       " 11055    0.0\n",
       " 7281     1.0\n",
       " 13206    0.0\n",
       " 6384     0.0\n",
       " 13718    0.0\n",
       " 758      1.0\n",
       " 8860     0.0\n",
       " 3312     1.0\n",
       " 829      1.0\n",
       " 11347    0.0\n",
       " 10606    0.0\n",
       " 13532    0.0\n",
       " Name: Exited, dtype: float64)"
      ]
     },
     "execution_count": 36,
     "metadata": {},
     "output_type": "execute_result"
    }
   ],
   "source": [
    "train_preds[:20], train_targets[:20]"
   ]
  },
  {
   "cell_type": "markdown",
   "id": "dbe36334",
   "metadata": {},
   "source": [
    "Перевіримо точність прогнозів моделі, обчисливши відсоток співпадаючих значень у `train_preds` та `train_targets`"
   ]
  },
  {
   "cell_type": "code",
   "execution_count": 37,
   "id": "b9477efe",
   "metadata": {},
   "outputs": [
    {
     "name": "stdout",
     "output_type": "stream",
     "text": [
      "Train accuracy_score:  0.799\n"
     ]
    }
   ],
   "source": [
    "print(\"Train accuracy_score: \", accuracy_score(train_targets, train_preds).round(3))"
   ]
  },
  {
   "cell_type": "markdown",
   "id": "0dcf364d",
   "metadata": {},
   "source": [
    "Перевіримо роботу моделі на валідаційних даних"
   ]
  },
  {
   "cell_type": "code",
   "execution_count": 38,
   "id": "281794a1",
   "metadata": {},
   "outputs": [
    {
     "name": "stdout",
     "output_type": "stream",
     "text": [
      "Validation accuracy_score:  0.79\n"
     ]
    }
   ],
   "source": [
    "val_preds = model.predict(X_val)\n",
    "print(\"Validation accuracy_score: \", accuracy_score(val_targets, val_preds).round(3))"
   ]
  },
  {
   "cell_type": "markdown",
   "id": "15252ea3",
   "metadata": {},
   "source": [
    "Бачимо, що результати отримали схожі, на 79% модель передбачила цільову змінну"
   ]
  },
  {
   "cell_type": "markdown",
   "id": "be961a6b",
   "metadata": {},
   "source": [
    "Спробуємо повторити розрахунок, передаючи у Х-вибірки лише максимально корелюючі дані"
   ]
  },
  {
   "cell_type": "code",
   "execution_count": 39,
   "id": "95378118",
   "metadata": {},
   "outputs": [],
   "source": [
    "X_train_2 = X_train[['Age', 'Balance', 'Gender_codes', 'IsActiveMember', 'NumOfProducts']]\n",
    "X_val_2 = X_val[['Age', 'Balance', 'Gender_codes', 'IsActiveMember', 'NumOfProducts']]"
   ]
  },
  {
   "cell_type": "code",
   "execution_count": 40,
   "id": "89d9daf5",
   "metadata": {},
   "outputs": [
    {
     "data": {
      "text/plain": [
       "LogisticRegression(solver='liblinear')"
      ]
     },
     "execution_count": 40,
     "metadata": {},
     "output_type": "execute_result"
    }
   ],
   "source": [
    "# інніціюємо\n",
    "model_2 = LogisticRegression(solver='liblinear')\n",
    "# тренуємо\n",
    "model_2.fit(X_train_2, train_targets)"
   ]
  },
  {
   "cell_type": "code",
   "execution_count": 41,
   "id": "628cf690",
   "metadata": {},
   "outputs": [
    {
     "name": "stdout",
     "output_type": "stream",
     "text": [
      "Train v2 accuracy_score:  0.863\n",
      "Validation v2 accuracy_score:  0.856\n"
     ]
    }
   ],
   "source": [
    "train_preds_2 = model_2.predict(X_train_2)\n",
    "print(\"Train v2 accuracy_score: \", accuracy_score(train_targets, train_preds_2).round(3))\n",
    "\n",
    "val_preds_2 = model_2.predict(X_val_2)\n",
    "print(\"Validation v2 accuracy_score: \", accuracy_score(val_targets, val_preds_2).round(3))"
   ]
  },
  {
   "cell_type": "markdown",
   "id": "d302e3ad",
   "metadata": {},
   "source": [
    "**Бачимо, що звуження даних до найбільш корельованих дало гарні результати, ми підвищили точність прогнозу на більш ніж 6% і отримали показник 86%**"
   ]
  },
  {
   "cell_type": "markdown",
   "id": "e7855826",
   "metadata": {},
   "source": [
    "Побудуємо матриці невідповідностей для трейнового і валідаційного наборів"
   ]
  },
  {
   "cell_type": "code",
   "execution_count": 42,
   "id": "69931292",
   "metadata": {},
   "outputs": [],
   "source": [
    "def predict_and_plot(inputs, targets, name=''):\n",
    "    preds = model_2.predict(inputs)\n",
    "\n",
    "    accuracy = accuracy_score(targets, preds)\n",
    "    print(\"Accuracy: {:.2f}%\".format(accuracy * 100))\n",
    "\n",
    "    cf = confusion_matrix(targets, preds, normalize='true')\n",
    "    plt.figure()\n",
    "    sns.heatmap(cf, annot=True)\n",
    "    plt.xlabel('Prediction')\n",
    "    plt.ylabel('Target')\n",
    "    plt.title('{} Confusion Matrix'.format(name));\n",
    "\n",
    "    return preds"
   ]
  },
  {
   "cell_type": "code",
   "execution_count": 43,
   "id": "388e2909",
   "metadata": {},
   "outputs": [
    {
     "name": "stdout",
     "output_type": "stream",
     "text": [
      "Accuracy: 86.28%\n",
      "Accuracy: 85.63%\n"
     ]
    },
    {
     "data": {
      "image/png": "[encoded data removed]",
      "text/plain": [
       "<Figure size 432x288 with 2 Axes>"
      ]
     },
     "metadata": {
      "needs_background": "light"
     },
     "output_type": "display_data"
    },
    {
     "data": {
      "image/png": "[encoded data removed]",
      "text/plain": [
       "<Figure size 432x288 with 2 Axes>"
      ]
     },
     "metadata": {
      "needs_background": "light"
     },
     "output_type": "display_data"
    }
   ],
   "source": [
    "train_preds = predict_and_plot(X_train_2, train_targets, 'Training')\n",
    "train_preds = predict_and_plot(X_val_2, val_targets, 'Validation')"
   ]
  },
  {
   "cell_type": "markdown",
   "id": "db952ab2",
   "metadata": {},
   "source": [
    "З матриці невідповідностей бачимо, що різниця в значеннях трейнового і валідаційного наборів є при хибно-позитивному класі "
   ]
  },
  {
   "cell_type": "markdown",
   "id": "776f6d5b",
   "metadata": {},
   "source": [
    "**Проаналізуємо якість моделі за допомогою F1 score**"
   ]
  },
  {
   "cell_type": "code",
   "execution_count": 44,
   "id": "9a3eaae5",
   "metadata": {},
   "outputs": [],
   "source": [
    "# проводимо розрахунки на повному наборі даних\n",
    "def get_f1_score(inputs, targets, name=''):\n",
    "  preds = model.predict(inputs)\n",
    "\n",
    "  f1_score_ = f1_score(targets, preds, pos_label=1)\n",
    "  print(f\"F1 score {name}: {f1_score_:.2f}%\")"
   ]
  },
  {
   "cell_type": "code",
   "execution_count": 45,
   "id": "4841e95d",
   "metadata": {},
   "outputs": [
    {
     "name": "stdout",
     "output_type": "stream",
     "text": [
      "F1 score Training: 0.00%\n",
      "F1 score Validation: 0.00%\n"
     ]
    }
   ],
   "source": [
    "get_f1_score(X_train, train_targets, 'Training')\n",
    "get_f1_score(X_val, val_targets, 'Validation')"
   ]
  },
  {
   "cell_type": "code",
   "execution_count": 46,
   "id": "96ab985a",
   "metadata": {},
   "outputs": [],
   "source": [
    "# проводимо розрахунки на найбільш корелюючому наборі даних\n",
    "def get_f1_score(inputs, targets, name=''):\n",
    "  preds = model_2.predict(inputs)\n",
    "\n",
    "  f1_score_ = f1_score(targets, preds, pos_label=1)\n",
    "  print(f\"F1 score {name}: {f1_score_:.2f}%\")"
   ]
  },
  {
   "cell_type": "code",
   "execution_count": 47,
   "id": "7514352b",
   "metadata": {},
   "outputs": [
    {
     "name": "stdout",
     "output_type": "stream",
     "text": [
      "F1 score Training v2: 0.59%\n",
      "F1 score Validation v2: 0.58%\n"
     ]
    }
   ],
   "source": [
    "get_f1_score(X_train_2, train_targets, 'Training v2')\n",
    "get_f1_score(X_val_2, val_targets, 'Validation v2')"
   ]
  },
  {
   "cell_type": "markdown",
   "id": "03ee78f0",
   "metadata": {},
   "source": [
    "**З отриманих результатів бачимо, що F1 score на повному наборі даних показав 0% це говорить про те, що дана модель дуже погано справляється з прогнозуванням**\n",
    "\n",
    "**При цьому вибірка найбільш корельованих даних дала показники 0.58, що модель правильно класифікує більше половини даних**"
   ]
  },
  {
   "cell_type": "markdown",
   "id": "0b1fe6e8",
   "metadata": {},
   "source": [
    "Надалі будемо використовувати `model_2` \n",
    "\n",
    "Для відпрацювання тестового набору даних теж будемо використовувати вибірку з найбільш корельованих значень"
   ]
  },
  {
   "cell_type": "code",
   "execution_count": 48,
   "id": "860e10b2",
   "metadata": {},
   "outputs": [],
   "source": [
    "X_test_fin = X_test[['Age', 'Balance', 'Gender_codes', 'IsActiveMember', 'NumOfProducts']]"
   ]
  },
  {
   "cell_type": "code",
   "execution_count": 49,
   "id": "4a9ebc82",
   "metadata": {},
   "outputs": [],
   "source": [
    "numeric_cols_2 = X_train_2.select_dtypes(include=np.number).columns.tolist()"
   ]
  },
  {
   "cell_type": "markdown",
   "id": "69cfd9b1",
   "metadata": {},
   "source": [
    "# 6. Зберігаємо найкращу модель і використовуємо її для  передбачення тестового набору даних"
   ]
  },
  {
   "cell_type": "code",
   "execution_count": 50,
   "id": "7bb5ba23",
   "metadata": {},
   "outputs": [],
   "source": [
    "Customer = {\n",
    "    'model': model_2,\n",
    "    'scaler': scaler,\n",
    "    'hotenc': hotenc,\n",
    "    'target_col': target_col,\n",
    "    'numeric_cols': numeric_cols_2,\n",
    "    'categorical_cols': categorical_cols_2\n",
    "}"
   ]
  },
  {
   "cell_type": "code",
   "execution_count": 51,
   "id": "49589a4d",
   "metadata": {},
   "outputs": [
    {
     "data": {
      "text/plain": [
       "['Customer.joblib']"
      ]
     },
     "execution_count": 51,
     "metadata": {},
     "output_type": "execute_result"
    }
   ],
   "source": [
    "joblib.dump(Customer, 'Customer.joblib')"
   ]
  },
  {
   "cell_type": "code",
   "execution_count": 52,
   "id": "448cb172",
   "metadata": {},
   "outputs": [],
   "source": [
    "# завантажуємо збережену модель\n",
    "Customer_2 = joblib.load('Customer.joblib')"
   ]
  },
  {
   "cell_type": "code",
   "execution_count": 53,
   "id": "9cea59d8",
   "metadata": {},
   "outputs": [
    {
     "data": {
      "text/plain": [
       "array([0., 0., 0., ..., 0., 0., 0.])"
      ]
     },
     "execution_count": 53,
     "metadata": {},
     "output_type": "execute_result"
    }
   ],
   "source": [
    "test_preds = Customer_2['model'].predict(X_test_fin)\n",
    "test_preds"
   ]
  },
  {
   "cell_type": "markdown",
   "id": "8cbc9f5e",
   "metadata": {},
   "source": [
    "**Збираємо тестовий набір і передбачення в один датафрейм**"
   ]
  },
  {
   "cell_type": "code",
   "execution_count": 54,
   "id": "3caf5e4e",
   "metadata": {},
   "outputs": [
    {
     "data": {
      "text/html": [
       "<div>\n",
       "<style scoped>\n",
       "    .dataframe tbody tr th:only-of-type {\n",
       "        vertical-align: middle;\n",
       "    }\n",
       "\n",
       "    .dataframe tbody tr th {\n",
       "        vertical-align: top;\n",
       "    }\n",
       "\n",
       "    .dataframe thead th {\n",
       "        text-align: right;\n",
       "    }\n",
       "</style>\n",
       "<table border=\"1\" class=\"dataframe\">\n",
       "  <thead>\n",
       "    <tr style=\"text-align: right;\">\n",
       "      <th></th>\n",
       "      <th>id</th>\n",
       "      <th>Exited</th>\n",
       "    </tr>\n",
       "  </thead>\n",
       "  <tbody>\n",
       "    <tr>\n",
       "      <th>0</th>\n",
       "      <td>15000</td>\n",
       "      <td>0.0</td>\n",
       "    </tr>\n",
       "    <tr>\n",
       "      <th>1</th>\n",
       "      <td>15001</td>\n",
       "      <td>0.0</td>\n",
       "    </tr>\n",
       "    <tr>\n",
       "      <th>2</th>\n",
       "      <td>15002</td>\n",
       "      <td>0.0</td>\n",
       "    </tr>\n",
       "    <tr>\n",
       "      <th>3</th>\n",
       "      <td>15003</td>\n",
       "      <td>0.0</td>\n",
       "    </tr>\n",
       "    <tr>\n",
       "      <th>4</th>\n",
       "      <td>15004</td>\n",
       "      <td>0.0</td>\n",
       "    </tr>\n",
       "    <tr>\n",
       "      <th>...</th>\n",
       "      <td>...</td>\n",
       "      <td>...</td>\n",
       "    </tr>\n",
       "    <tr>\n",
       "      <th>9995</th>\n",
       "      <td>24995</td>\n",
       "      <td>0.0</td>\n",
       "    </tr>\n",
       "    <tr>\n",
       "      <th>9996</th>\n",
       "      <td>24996</td>\n",
       "      <td>0.0</td>\n",
       "    </tr>\n",
       "    <tr>\n",
       "      <th>9997</th>\n",
       "      <td>24997</td>\n",
       "      <td>0.0</td>\n",
       "    </tr>\n",
       "    <tr>\n",
       "      <th>9998</th>\n",
       "      <td>24998</td>\n",
       "      <td>0.0</td>\n",
       "    </tr>\n",
       "    <tr>\n",
       "      <th>9999</th>\n",
       "      <td>24999</td>\n",
       "      <td>0.0</td>\n",
       "    </tr>\n",
       "  </tbody>\n",
       "</table>\n",
       "<p>10000 rows × 2 columns</p>\n",
       "</div>"
      ],
      "text/plain": [
       "         id  Exited\n",
       "0     15000     0.0\n",
       "1     15001     0.0\n",
       "2     15002     0.0\n",
       "3     15003     0.0\n",
       "4     15004     0.0\n",
       "...     ...     ...\n",
       "9995  24995     0.0\n",
       "9996  24996     0.0\n",
       "9997  24997     0.0\n",
       "9998  24998     0.0\n",
       "9999  24999     0.0\n",
       "\n",
       "[10000 rows x 2 columns]"
      ]
     },
     "execution_count": 54,
     "metadata": {},
     "output_type": "execute_result"
    }
   ],
   "source": [
    "# Перетворюємо масив в Series\n",
    "test_preds_df = pd.DataFrame()\n",
    "test_preds_df = test_preds_df.assign(Exited=test_preds)\n",
    "\n",
    "# Об'єднуємо DataFrame и Series\n",
    "Final = pd.concat([test_inputs, test_preds_df], axis=1)\n",
    "\n",
    "#залишаємо для завантаження на Kaggle лише CustomerId і Exited\n",
    "Final = Final[['id', 'Exited']]\n",
    "Final"
   ]
  },
  {
   "cell_type": "markdown",
   "id": "06c7abae",
   "metadata": {},
   "source": [
    "**Візуалізуємо отримані результати**"
   ]
  },
  {
   "cell_type": "code",
   "execution_count": 55,
   "id": "bff2f3e5",
   "metadata": {},
   "outputs": [
    {
     "data": {
      "image/png": "[encoded data removed]",
      "text/plain": [
       "<Figure size 720x360 with 1 Axes>"
      ]
     },
     "metadata": {
      "needs_background": "light"
     },
     "output_type": "display_data"
    }
   ],
   "source": [
    "plt.figure(figsize = (10,5))\n",
    "sns.countplot(data = Final, x = \"Exited\")\n",
    "plt.xticks(rotation = 90)\n",
    "plt.title(\"Результат прогнозування моделі на тестовому наборі даних\")\n",
    "plt.show()"
   ]
  },
  {
   "cell_type": "markdown",
   "id": "2418e703",
   "metadata": {},
   "source": [
    "**Зберігаємо дані у форматі `.csv` для публікації у змаганні**"
   ]
  },
  {
   "cell_type": "code",
   "execution_count": 56,
   "id": "d3dfb7a5",
   "metadata": {},
   "outputs": [],
   "source": [
    "Final.to_csv('submission.csv', index=False)"
   ]
  },
  {
   "cell_type": "code",
   "execution_count": null,
   "id": "9f0d9a9a",
   "metadata": {},
   "outputs": [],
   "source": []
  }
 ],
 "metadata": {
  "kernelspec": {
   "display_name": "Python 3 (ipykernel)",
   "language": "python",
   "name": "python3"
  },
  "language_info": {
   "codemirror_mode": {
    "name": "ipython",
    "version": 3
   },
   "file_extension": ".py",
   "mimetype": "text/x-python",
   "name": "python",
   "nbconvert_exporter": "python",
   "pygments_lexer": "ipython3",
   "version": "3.9.7"
  }
 },
 "nbformat": 4,
 "nbformat_minor": 5
}
